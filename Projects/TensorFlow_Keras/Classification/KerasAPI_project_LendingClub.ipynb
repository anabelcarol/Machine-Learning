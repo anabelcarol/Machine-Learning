{
  "nbformat": 4,
  "nbformat_minor": 0,
  "metadata": {
    "kernelspec": {
      "display_name": "Python 3",
      "language": "python",
      "name": "python3"
    },
    "language_info": {
      "codemirror_mode": {
        "name": "ipython",
        "version": 3
      },
      "file_extension": ".py",
      "mimetype": "text/x-python",
      "name": "python",
      "nbconvert_exporter": "python",
      "pygments_lexer": "ipython3",
      "version": "3.7.4"
    },
    "colab": {
      "name": "Keras-Project-LendingClub_PredictionOnDefaulters.ipynb",
      "provenance": [],
      "collapsed_sections": [
        "n1486Js1LLxI",
        "0YkC5MpTLLxU",
        "k3dSi-8ALL0F",
        "xYurd5rhLL0O",
        "enZskXSfLL0Y"
      ],
      "include_colab_link": true
    },
    "accelerator": "GPU"
  },
  "cells": [
    {
      "cell_type": "markdown",
      "metadata": {
        "id": "view-in-github",
        "colab_type": "text"
      },
      "source": [
        "<a href=\"https://colab.research.google.com/github/anabelcarol/Machine-Learning/blob/master/Projects/TensorFlow_Keras/Classification/KerasAPI_project_LendingClub.ipynb\" target=\"_parent\"><img src=\"https://colab.research.google.com/assets/colab-badge.svg\" alt=\"Open In Colab\"/></a>"
      ]
    },
    {
      "cell_type": "markdown",
      "metadata": {
        "id": "_R_aymDz7AIP",
        "colab_type": "text"
      },
      "source": [
        "(optional) Connet to your google drive files"
      ]
    },
    {
      "cell_type": "code",
      "metadata": {
        "id": "bcgrdNiGLXsK",
        "colab_type": "code",
        "outputId": "68d991c7-08f7-4f41-f2e0-de701b2271a4",
        "colab": {
          "base_uri": "https://localhost:8080/",
          "height": 122
        }
      },
      "source": [
        "# from google.colab import drive\n",
        "# drive.mount('/content/drive')"
      ],
      "execution_count": 1,
      "outputs": [
        {
          "output_type": "stream",
          "text": [
            "Go to this URL in a browser: https://accounts.google.com/o/oauth2/auth?client_id=947318989803-6bn6qk8qdgf4n4g3pfee6491hc0brc4i.apps.googleusercontent.com&redirect_uri=urn%3aietf%3awg%3aoauth%3a2.0%3aoob&response_type=code&scope=email%20https%3a%2f%2fwww.googleapis.com%2fauth%2fdocs.test%20https%3a%2f%2fwww.googleapis.com%2fauth%2fdrive%20https%3a%2f%2fwww.googleapis.com%2fauth%2fdrive.photos.readonly%20https%3a%2f%2fwww.googleapis.com%2fauth%2fpeopleapi.readonly\n",
            "\n",
            "Enter your authorization code:\n",
            "··········\n",
            "Mounted at /content/drive\n"
          ],
          "name": "stdout"
        }
      ]
    },
    {
      "cell_type": "markdown",
      "metadata": {
        "id": "H6nM-P6lLLwo",
        "colab_type": "text"
      },
      "source": [
        "# Keras API Project: Prediction Loan Default\n",
        "\n",
        "## The Data\n",
        "\n",
        "We will be using a subset of the LendingClub DataSet obtained from Kaggle: https://www.kaggle.com/wordsforthewise/lending-club\n",
        "\n",
        "## NOTE: We will not use the full zip from the link! We will use a special version of this file that has some extra feature engineering.\n",
        "\n",
        "LendingClub is a US peer-to-peer lending company, headquartered in San Francisco, California.[3] It was the first peer-to-peer lender to register its offerings as securities with the Securities and Exchange Commission (SEC), and to offer loan trading on a secondary market. LendingClub is the world's largest peer-to-peer lending platform.\n",
        "\n",
        "### Our Goal\n",
        "\n",
        "Given historical data on loans given out with information on __whether or not the borrower defaulted (charge-off)__, can we __build a model that can predict wether or nor a borrower will pay back their loan?__ This way in the future when we get a new potential customer we can assess whether or not they are likely to pay back the loan. \n",
        "\n",
        "__Keep in mind classification metrics when evaluating the performance of your model!__\n",
        "\n",
        "The \"loan_status\" column contains our label.\n",
        "\n",
        "### Data Overview"
      ]
    },
    {
      "cell_type": "markdown",
      "metadata": {
        "id": "IW_kPLfdLLwr",
        "colab_type": "text"
      },
      "source": [
        "-----\n",
        "-----\n",
        "There are many LendingClub data sets on Kaggle. Here is the information on this particular data set:\n",
        "\n",
        "<table border=\"1\" class=\"dataframe\">\n",
        "  <thead>\n",
        "    <tr style=\"text-align: right;\">\n",
        "      <th></th>\n",
        "      <th>LoanStatNew</th>\n",
        "      <th>Description</th>\n",
        "    </tr>\n",
        "  </thead>\n",
        "  <tbody>\n",
        "    <tr>\n",
        "      <th>0</th>\n",
        "      <td>loan_amnt</td>\n",
        "      <td>The listed amount of the loan applied for by the borrower. If at some point in time, the credit department reduces the loan amount, then it will be reflected in this value.</td>\n",
        "    </tr>\n",
        "    <tr>\n",
        "      <th>1</th>\n",
        "      <td>term</td>\n",
        "      <td>The number of payments on the loan. Values are in months and can be either 36 or 60.</td>\n",
        "    </tr>\n",
        "    <tr>\n",
        "      <th>2</th>\n",
        "      <td>int_rate</td>\n",
        "      <td>Interest Rate on the loan</td>\n",
        "    </tr>\n",
        "    <tr>\n",
        "      <th>3</th>\n",
        "      <td>installment</td>\n",
        "      <td>The monthly payment owed by the borrower if the loan originates.</td>\n",
        "    </tr>\n",
        "    <tr>\n",
        "      <th>4</th>\n",
        "      <td>grade</td>\n",
        "      <td>LC assigned loan grade</td>\n",
        "    </tr>\n",
        "    <tr>\n",
        "      <th>5</th>\n",
        "      <td>sub_grade</td>\n",
        "      <td>LC assigned loan subgrade</td>\n",
        "    </tr>\n",
        "    <tr>\n",
        "      <th>6</th>\n",
        "      <td>emp_title</td>\n",
        "      <td>The job title supplied by the Borrower when applying for the loan.*</td>\n",
        "    </tr>\n",
        "    <tr>\n",
        "      <th>7</th>\n",
        "      <td>emp_length</td>\n",
        "      <td>Employment length in years. Possible values are between 0 and 10 where 0 means less than one year and 10 means ten or more years.</td>\n",
        "    </tr>\n",
        "    <tr>\n",
        "      <th>8</th>\n",
        "      <td>home_ownership</td>\n",
        "      <td>The home ownership status provided by the borrower during registration or obtained from the credit report. Our values are: RENT, OWN, MORTGAGE, OTHER</td>\n",
        "    </tr>\n",
        "    <tr>\n",
        "      <th>9</th>\n",
        "      <td>annual_inc</td>\n",
        "      <td>The self-reported annual income provided by the borrower during registration.</td>\n",
        "    </tr>\n",
        "    <tr>\n",
        "      <th>10</th>\n",
        "      <td>verification_status</td>\n",
        "      <td>Indicates if income was verified by LC, not verified, or if the income source was verified</td>\n",
        "    </tr>\n",
        "    <tr>\n",
        "      <th>11</th>\n",
        "      <td>issue_d</td>\n",
        "      <td>The month which the loan was funded</td>\n",
        "    </tr>\n",
        "    <tr>\n",
        "      <th>12</th>\n",
        "      <td>loan_status</td>\n",
        "      <td>Current status of the loan</td>\n",
        "    </tr>\n",
        "    <tr>\n",
        "      <th>13</th>\n",
        "      <td>purpose</td>\n",
        "      <td>A category provided by the borrower for the loan request.</td>\n",
        "    </tr>\n",
        "    <tr>\n",
        "      <th>14</th>\n",
        "      <td>title</td>\n",
        "      <td>The loan title provided by the borrower</td>\n",
        "    </tr>\n",
        "    <tr>\n",
        "      <th>15</th>\n",
        "      <td>zip_code</td>\n",
        "      <td>The first 3 numbers of the zip code provided by the borrower in the loan application.</td>\n",
        "    </tr>\n",
        "    <tr>\n",
        "      <th>16</th>\n",
        "      <td>addr_state</td>\n",
        "      <td>The state provided by the borrower in the loan application</td>\n",
        "    </tr>\n",
        "    <tr>\n",
        "      <th>17</th>\n",
        "      <td>dti</td>\n",
        "      <td>A ratio calculated using the borrower’s total monthly debt payments on the total debt obligations, excluding mortgage and the requested LC loan, divided by the borrower’s self-reported monthly income.</td>\n",
        "    </tr>\n",
        "    <tr>\n",
        "      <th>18</th>\n",
        "      <td>earliest_cr_line</td>\n",
        "      <td>The month the borrower's earliest reported credit line was opened</td>\n",
        "    </tr>\n",
        "    <tr>\n",
        "      <th>19</th>\n",
        "      <td>open_acc</td>\n",
        "      <td>The number of open credit lines in the borrower's credit file.</td>\n",
        "    </tr>\n",
        "    <tr>\n",
        "      <th>20</th>\n",
        "      <td>pub_rec</td>\n",
        "      <td>Number of derogatory public records</td>\n",
        "    </tr>\n",
        "    <tr>\n",
        "      <th>21</th>\n",
        "      <td>revol_bal</td>\n",
        "      <td>Total credit revolving balance</td>\n",
        "    </tr>\n",
        "    <tr>\n",
        "      <th>22</th>\n",
        "      <td>revol_util</td>\n",
        "      <td>Revolving line utilization rate, or the amount of credit the borrower is using relative to all available revolving credit.</td>\n",
        "    </tr>\n",
        "    <tr>\n",
        "      <th>23</th>\n",
        "      <td>total_acc</td>\n",
        "      <td>The total number of credit lines currently in the borrower's credit file</td>\n",
        "    </tr>\n",
        "    <tr>\n",
        "      <th>24</th>\n",
        "      <td>initial_list_status</td>\n",
        "      <td>The initial listing status of the loan. Possible values are – W, F</td>\n",
        "    </tr>\n",
        "    <tr>\n",
        "      <th>25</th>\n",
        "      <td>application_type</td>\n",
        "      <td>Indicates whether the loan is an individual application or a joint application with two co-borrowers</td>\n",
        "    </tr>\n",
        "    <tr>\n",
        "      <th>26</th>\n",
        "      <td>mort_acc</td>\n",
        "      <td>Number of mortgage accounts.</td>\n",
        "    </tr>\n",
        "    <tr>\n",
        "      <th>27</th>\n",
        "      <td>pub_rec_bankruptcies</td>\n",
        "      <td>Number of public record bankruptcies</td>\n",
        "    </tr>\n",
        "  </tbody>\n",
        "</table>\n",
        "\n",
        "---\n",
        "----"
      ]
    },
    {
      "cell_type": "markdown",
      "metadata": {
        "id": "2Lw1nW_OLLws",
        "colab_type": "text"
      },
      "source": [
        "## Starter Code\n",
        "\n",
        "#### Note: We also provide feature information on the data as a .csv file for easy lookup throughout the notebook:"
      ]
    },
    {
      "cell_type": "code",
      "metadata": {
        "id": "V_JFwA6sLLwt",
        "colab_type": "code",
        "colab": {}
      },
      "source": [
        "import pandas as pd"
      ],
      "execution_count": 0,
      "outputs": []
    },
    {
      "cell_type": "code",
      "metadata": {
        "id": "ifPm4IrLLLw0",
        "colab_type": "code",
        "colab": {}
      },
      "source": [
        "data_info = pd.read_csv('/content/drive/My Drive/Colab Notebooks/DeepLearning_TensorFlow/TensorFlow_FILES/DATA/lending_club_info.csv')"
      ],
      "execution_count": 0,
      "outputs": []
    },
    {
      "cell_type": "code",
      "metadata": {
        "id": "hpOkVxq0cgbo",
        "colab_type": "code",
        "outputId": "7731cc66-bb6b-4fa7-8784-faaa5344bb24",
        "colab": {
          "base_uri": "https://localhost:8080/",
          "height": 111
        }
      },
      "source": [
        "data_info.head(2)"
      ],
      "execution_count": 4,
      "outputs": [
        {
          "output_type": "execute_result",
          "data": {
            "text/html": [
              "<div>\n",
              "<style scoped>\n",
              "    .dataframe tbody tr th:only-of-type {\n",
              "        vertical-align: middle;\n",
              "    }\n",
              "\n",
              "    .dataframe tbody tr th {\n",
              "        vertical-align: top;\n",
              "    }\n",
              "\n",
              "    .dataframe thead th {\n",
              "        text-align: right;\n",
              "    }\n",
              "</style>\n",
              "<table border=\"1\" class=\"dataframe\">\n",
              "  <thead>\n",
              "    <tr style=\"text-align: right;\">\n",
              "      <th></th>\n",
              "      <th>LoanStatNew</th>\n",
              "      <th>Description</th>\n",
              "    </tr>\n",
              "  </thead>\n",
              "  <tbody>\n",
              "    <tr>\n",
              "      <th>0</th>\n",
              "      <td>loan_amnt</td>\n",
              "      <td>The listed amount of the loan applied for by t...</td>\n",
              "    </tr>\n",
              "    <tr>\n",
              "      <th>1</th>\n",
              "      <td>term</td>\n",
              "      <td>The number of payments on the loan. Values are...</td>\n",
              "    </tr>\n",
              "  </tbody>\n",
              "</table>\n",
              "</div>"
            ],
            "text/plain": [
              "  LoanStatNew                                        Description\n",
              "0   loan_amnt  The listed amount of the loan applied for by t...\n",
              "1        term  The number of payments on the loan. Values are..."
            ]
          },
          "metadata": {
            "tags": []
          },
          "execution_count": 4
        }
      ]
    },
    {
      "cell_type": "code",
      "metadata": {
        "id": "ZOgQojk_clH4",
        "colab_type": "code",
        "colab": {}
      },
      "source": [
        "# We set index_col='LoanStatNew' to have a better structure\n",
        "data_info = pd.read_csv('/content/drive/My Drive/Colab Notebooks/DeepLearning_TensorFlow/TensorFlow_FILES/DATA/lending_club_info.csv',index_col='LoanStatNew')"
      ],
      "execution_count": 0,
      "outputs": []
    },
    {
      "cell_type": "code",
      "metadata": {
        "id": "h8Ed-XkscuNf",
        "colab_type": "code",
        "outputId": "0b87f334-37e5-4cb1-b205-dd11b4f9a439",
        "colab": {
          "base_uri": "https://localhost:8080/",
          "height": 142
        }
      },
      "source": [
        "data_info.head(2)"
      ],
      "execution_count": 7,
      "outputs": [
        {
          "output_type": "execute_result",
          "data": {
            "text/html": [
              "<div>\n",
              "<style scoped>\n",
              "    .dataframe tbody tr th:only-of-type {\n",
              "        vertical-align: middle;\n",
              "    }\n",
              "\n",
              "    .dataframe tbody tr th {\n",
              "        vertical-align: top;\n",
              "    }\n",
              "\n",
              "    .dataframe thead th {\n",
              "        text-align: right;\n",
              "    }\n",
              "</style>\n",
              "<table border=\"1\" class=\"dataframe\">\n",
              "  <thead>\n",
              "    <tr style=\"text-align: right;\">\n",
              "      <th></th>\n",
              "      <th>Description</th>\n",
              "    </tr>\n",
              "    <tr>\n",
              "      <th>LoanStatNew</th>\n",
              "      <th></th>\n",
              "    </tr>\n",
              "  </thead>\n",
              "  <tbody>\n",
              "    <tr>\n",
              "      <th>loan_amnt</th>\n",
              "      <td>The listed amount of the loan applied for by t...</td>\n",
              "    </tr>\n",
              "    <tr>\n",
              "      <th>term</th>\n",
              "      <td>The number of payments on the loan. Values are...</td>\n",
              "    </tr>\n",
              "  </tbody>\n",
              "</table>\n",
              "</div>"
            ],
            "text/plain": [
              "                                                   Description\n",
              "LoanStatNew                                                   \n",
              "loan_amnt    The listed amount of the loan applied for by t...\n",
              "term         The number of payments on the loan. Values are..."
            ]
          },
          "metadata": {
            "tags": []
          },
          "execution_count": 7
        }
      ]
    },
    {
      "cell_type": "code",
      "metadata": {
        "id": "F7fbpc5YLLw6",
        "colab_type": "code",
        "outputId": "5304d0f7-f5fd-4004-9e46-b96374935db2",
        "colab": {
          "base_uri": "https://localhost:8080/",
          "height": 34
        }
      },
      "source": [
        "# We can ask for Description of every Feature\n",
        "print(data_info.loc['revol_util']['Description'])"
      ],
      "execution_count": 8,
      "outputs": [
        {
          "output_type": "stream",
          "text": [
            "Revolving line utilization rate, or the amount of credit the borrower is using relative to all available revolving credit.\n"
          ],
          "name": "stdout"
        }
      ]
    },
    {
      "cell_type": "code",
      "metadata": {
        "id": "Ica6StbBLLxB",
        "colab_type": "code",
        "colab": {}
      },
      "source": [
        "def feat_info(col_name):\n",
        "    print(data_info.loc[col_name]['Description'])"
      ],
      "execution_count": 0,
      "outputs": []
    },
    {
      "cell_type": "code",
      "metadata": {
        "id": "4QTGdZoALLxE",
        "colab_type": "code",
        "outputId": "db9e2654-9a59-441f-b0ff-4d56e41f89e2",
        "colab": {
          "base_uri": "https://localhost:8080/",
          "height": 34
        }
      },
      "source": [
        "feat_info('mort_acc')"
      ],
      "execution_count": 10,
      "outputs": [
        {
          "output_type": "stream",
          "text": [
            "Number of mortgage accounts.\n"
          ],
          "name": "stdout"
        }
      ]
    },
    {
      "cell_type": "markdown",
      "metadata": {
        "id": "n1486Js1LLxI",
        "colab_type": "text"
      },
      "source": [
        "## Loading the data and other imports"
      ]
    },
    {
      "cell_type": "code",
      "metadata": {
        "id": "f-IX3Ny3LLxI",
        "colab_type": "code",
        "outputId": "db4d5282-a24b-4e40-ed35-eedadf9e2ac6",
        "colab": {
          "base_uri": "https://localhost:8080/",
          "height": 71
        }
      },
      "source": [
        "import pandas as pd\n",
        "import numpy as np\n",
        "import matplotlib.pyplot as plt\n",
        "import seaborn as sns\n",
        "\n",
        "# might be needed depending on your version of Jupyter\n",
        "# %matplotlib inline"
      ],
      "execution_count": 11,
      "outputs": [
        {
          "output_type": "stream",
          "text": [
            "/usr/local/lib/python3.6/dist-packages/statsmodels/tools/_testing.py:19: FutureWarning: pandas.util.testing is deprecated. Use the functions in the public API at pandas.testing instead.\n",
            "  import pandas.util.testing as tm\n"
          ],
          "name": "stderr"
        }
      ]
    },
    {
      "cell_type": "code",
      "metadata": {
        "id": "PCrRAx3xLLxN",
        "colab_type": "code",
        "colab": {}
      },
      "source": [
        "df = pd.read_csv('/content/drive/My Drive/Colab Notebooks/DeepLearning_TensorFlow/TensorFlow_FILES/DATA/lending_club_loan_two.csv')"
      ],
      "execution_count": 0,
      "outputs": []
    },
    {
      "cell_type": "code",
      "metadata": {
        "id": "87mnKyufLLxQ",
        "colab_type": "code",
        "outputId": "774b33ff-3f67-4e60-899d-477afecefb3a",
        "colab": {
          "base_uri": "https://localhost:8080/",
          "height": 615
        }
      },
      "source": [
        "df.info()"
      ],
      "execution_count": 0,
      "outputs": [
        {
          "output_type": "stream",
          "text": [
            "<class 'pandas.core.frame.DataFrame'>\n",
            "RangeIndex: 396030 entries, 0 to 396029\n",
            "Data columns (total 27 columns):\n",
            " #   Column                Non-Null Count   Dtype  \n",
            "---  ------                --------------   -----  \n",
            " 0   loan_amnt             396030 non-null  float64\n",
            " 1   term                  396030 non-null  object \n",
            " 2   int_rate              396030 non-null  float64\n",
            " 3   installment           396030 non-null  float64\n",
            " 4   grade                 396030 non-null  object \n",
            " 5   sub_grade             396030 non-null  object \n",
            " 6   emp_title             373103 non-null  object \n",
            " 7   emp_length            377729 non-null  object \n",
            " 8   home_ownership        396030 non-null  object \n",
            " 9   annual_inc            396030 non-null  float64\n",
            " 10  verification_status   396030 non-null  object \n",
            " 11  issue_d               396030 non-null  object \n",
            " 12  loan_status           396030 non-null  object \n",
            " 13  purpose               396030 non-null  object \n",
            " 14  title                 394275 non-null  object \n",
            " 15  dti                   396030 non-null  float64\n",
            " 16  earliest_cr_line      396030 non-null  object \n",
            " 17  open_acc              396030 non-null  float64\n",
            " 18  pub_rec               396030 non-null  float64\n",
            " 19  revol_bal             396030 non-null  float64\n",
            " 20  revol_util            395754 non-null  float64\n",
            " 21  total_acc             396030 non-null  float64\n",
            " 22  initial_list_status   396030 non-null  object \n",
            " 23  application_type      396030 non-null  object \n",
            " 24  mort_acc              358235 non-null  float64\n",
            " 25  pub_rec_bankruptcies  395495 non-null  float64\n",
            " 26  address               396030 non-null  object \n",
            "dtypes: float64(12), object(15)\n",
            "memory usage: 81.6+ MB\n"
          ],
          "name": "stdout"
        }
      ]
    },
    {
      "cell_type": "markdown",
      "metadata": {
        "id": "0YkC5MpTLLxU",
        "colab_type": "text"
      },
      "source": [
        "# Project Tasks\n",
        "------\n",
        "# Section 1: Exploratory Data Analysis\n",
        "\n",
        "OVERALL GOAL: Get an understanding about which variables are important, view summary statistics, and visualize the data\n",
        "----"
      ]
    },
    {
      "cell_type": "markdown",
      "metadata": {
        "id": "jabfQ37KLLxV",
        "colab_type": "text"
      },
      "source": [
        "_Since we will be attempting to predict loan_status, I create a countplot as shown below_"
      ]
    },
    {
      "cell_type": "code",
      "metadata": {
        "id": "bK1Pro3TLLxV",
        "colab_type": "code",
        "outputId": "bfa3c4e1-0e9f-4ad5-c909-847e616ac917",
        "colab": {
          "base_uri": "https://localhost:8080/",
          "height": 71
        }
      },
      "source": [
        "sns.set_style('whitegrid')\n",
        "plt.figure(figsize=(8,6))\n",
        "\n",
        "sns.countplot(df['loan_status'])\n",
        "plt.xlabel('loan_status')"
      ],
      "execution_count": 0,
      "outputs": [
        {
          "output_type": "execute_result",
          "data": {
            "text/plain": [
              "Text(0.5, 0, 'loan_status')"
            ]
          },
          "metadata": {
            "tags": []
          },
          "execution_count": 13
        },
        {
          "output_type": "display_data",
          "data": {
            "image/png": "[encoded data removed]",
            "text/plain": [
              "<Figure size 576x432 with 1 Axes>"
            ]
          },
          "metadata": {
            "tags": []
          }
        }
      ]
    },
    {
      "cell_type": "markdown",
      "metadata": {
        "id": "BFK5IjT87pkV",
        "colab_type": "text"
      },
      "source": [
        "_(Optional) let's print the above countplot in an infographic way_"
      ]
    },
    {
      "cell_type": "code",
      "metadata": {
        "id": "Z2R_rkikrzr4",
        "colab_type": "code",
        "outputId": "5621e666-a003-4a65-c576-93161c6ea8ef",
        "colab": {
          "base_uri": "https://localhost:8080/",
          "height": 54
        }
      },
      "source": [
        "total = len(df)*1\n",
        "plt.figure(figsize=(6,4))\n",
        "\n",
        "ax = sns.countplot(x='loan_status', data=df)\n",
        "plt.title('Distribution of Loan Status')\n",
        "plt.xlabel('loan_status')\n",
        "plt.ylabel('Frequency [%]')\n",
        "\n",
        "################# printing the frequency\n",
        "\n",
        "for p in ax.patches:\n",
        "        ax.annotate('{:.1f}%'.format(100*p.get_height()/total), (p.get_x()+0.1, p.get_height()+5))\n",
        "\n",
        "#put 11 ticks (therefore 10 steps), from 0 to the total number of rows in the dataframe\n",
        "ax.yaxis.set_ticks(np.linspace(0, total, 2))\n",
        "\n",
        "#adjust the ticklabel to the desired format, without changing the position of the ticks. \n",
        "_ = ax.set_yticklabels(map('{:.1f}%'.format, 100*ax.yaxis.get_majorticklocs()/total))\n",
        "\n",
        "\n",
        "\n",
        "################## printing the legend\n",
        "from matplotlib.legend_handler import HandlerBase\n",
        "from matplotlib.text import Text\n",
        "\n",
        "class TextHandler(HandlerBase):\n",
        "    def create_artists(self, legend, tup ,xdescent, ydescent,\n",
        "                        width, height, fontsize,trans):\n",
        "        tx = Text(width/2.,height/2,tup[0], fontsize=fontsize,\n",
        "                  ha=\"center\", va=\"center\", color=tup[1], fontweight=\"bold\")\n",
        "        return [tx]\n",
        "\n",
        "\n",
        "\n",
        "handltext = [\"Fully Paid\", \"Charged Off\"]\n",
        "labels = ['     318357', '      77673']\n",
        "\n",
        "\n",
        "t = ax.get_xticklabels()\n",
        "labeldic = dict(zip(handltext, labels))\n",
        "labels = [labeldic[h.get_text()]  for h in t]\n",
        "handles = [(h.get_text(),c.get_fc()) for h,c in zip(t,ax.patches)]\n",
        "\n",
        "ax.legend(handles, labels, handler_map={tuple : TextHandler()}) \n",
        "\n",
        "plt.show()"
      ],
      "execution_count": 0,
      "outputs": [
        {
          "output_type": "display_data",
          "data": {
            "image/png": "[encoded data removed]",
            "text/plain": [
              "<Figure size 432x288 with 1 Axes>"
            ]
          },
          "metadata": {
            "tags": []
          }
        }
      ]
    },
    {
      "cell_type": "code",
      "metadata": {
        "id": "HXO1WZxGjE12",
        "colab_type": "code",
        "outputId": "22aacbfb-9fd1-4802-a495-1e9d734756fd",
        "colab": {
          "base_uri": "https://localhost:8080/",
          "height": 68
        }
      },
      "source": [
        "df['loan_status'].value_counts()"
      ],
      "execution_count": 13,
      "outputs": [
        {
          "output_type": "execute_result",
          "data": {
            "text/plain": [
              "Fully Paid     318357\n",
              "Charged Off     77673\n",
              "Name: loan_status, dtype: int64"
            ]
          },
          "metadata": {
            "tags": []
          },
          "execution_count": 13
        }
      ]
    },
    {
      "cell_type": "code",
      "metadata": {
        "id": "2wyUuZX8mHMJ",
        "colab_type": "code",
        "outputId": "cfc12665-1cb3-4c07-82be-2386bca9f6e3",
        "colab": {
          "base_uri": "https://localhost:8080/",
          "height": 34
        }
      },
      "source": [
        "len(df)"
      ],
      "execution_count": 14,
      "outputs": [
        {
          "output_type": "execute_result",
          "data": {
            "text/plain": [
              "396030"
            ]
          },
          "metadata": {
            "tags": []
          },
          "execution_count": 14
        }
      ]
    },
    {
      "cell_type": "code",
      "metadata": {
        "id": "V0f6F6FemPXq",
        "colab_type": "code",
        "outputId": "5dc0cd01-78bb-40fa-de10-f392e8616c3d",
        "colab": {
          "base_uri": "https://localhost:8080/",
          "height": 34
        }
      },
      "source": [
        "print('Percentage of Fully Paid Loans within the entire dataset {:.2f}%'.format(100*(318357/len(df))))"
      ],
      "execution_count": 15,
      "outputs": [
        {
          "output_type": "stream",
          "text": [
            "Percentage of Fully Paid Loans within the entire dataset 80.39%\n"
          ],
          "name": "stdout"
        }
      ]
    },
    {
      "cell_type": "code",
      "metadata": {
        "id": "AOx4pwgynQ3F",
        "colab_type": "code",
        "outputId": "b6a150a7-8c6d-4a57-b872-a77355877eee",
        "colab": {
          "base_uri": "https://localhost:8080/",
          "height": 34
        }
      },
      "source": [
        "print('Percentage of Charged Off Loans within the entire dataset {:.2f}%'.format(100*(77673/len(df))))"
      ],
      "execution_count": 16,
      "outputs": [
        {
          "output_type": "stream",
          "text": [
            "Percentage of Charged Off Loans within the entire dataset 19.61%\n"
          ],
          "name": "stdout"
        }
      ]
    },
    {
      "cell_type": "markdown",
      "metadata": {
        "id": "GBIYs4wnLLxn",
        "colab_type": "text"
      },
      "source": [
        "_Visualize this using a heatmap. Depending on your version of matplotlib, you may need to manually adjust the heatmap_\n",
        "\n",
        "* [Heatmap info](https://seaborn.pydata.org/generated/seaborn.heatmap.html#seaborn.heatmap)\n",
        "* [Help with resizing](https://stackoverflow.com/questions/56942670/matplotlib-seaborn-first-and-last-row-cut-in-half-of-heatmap-plot)"
      ]
    },
    {
      "cell_type": "code",
      "metadata": {
        "id": "5Mg6oO0cLLxo",
        "colab_type": "code",
        "outputId": "8f2062a3-d632-4578-a6a3-32e66ab2b328",
        "colab": {
          "base_uri": "https://localhost:8080/",
          "height": 615
        }
      },
      "source": [
        "plt.figure(figsize=(12,8))\n",
        "sns.heatmap(data=df.corr(), cmap='RdYlGn', annot=True)\n",
        "plt.title('Correlation between features: Heatmap')"
      ],
      "execution_count": 17,
      "outputs": [
        {
          "output_type": "execute_result",
          "data": {
            "text/plain": [
              "Text(0.5, 1.0, 'Correlation between features: Heatmap')"
            ]
          },
          "metadata": {
            "tags": []
          },
          "execution_count": 17
        },
        {
          "output_type": "display_data",
          "data": {
            "image/png": "[encoded data removed]",
            "text/plain": [
              "<Figure size 864x576 with 2 Axes>"
            ]
          },
          "metadata": {
            "tags": [],
            "needs_background": "light"
          }
        }
      ]
    },
    {
      "cell_type": "markdown",
      "metadata": {
        "id": "0ZKiZENfqlRB",
        "colab_type": "text"
      },
      "source": [
        "_There is a correlation between loan status and interest rate. This is as we expected since \"On the Lending Club:_\n",
        "* borrowers with higher credit scores (more trustworthy and less risky) get lower interest rates for their loans while;\n",
        "* borrowers with lower credit scores (less trustworthy and more risky) get higher rates\"."
      ]
    },
    {
      "cell_type": "markdown",
      "metadata": {
        "id": "lI4F8K8OLLxb",
        "colab_type": "text"
      },
      "source": [
        "_Lets know focus on the feature loan_amnt and check its relation within the dataframe. I create a histogram of the loan_amnt column_"
      ]
    },
    {
      "cell_type": "code",
      "metadata": {
        "id": "WrvOR-ziLLxc",
        "colab_type": "code",
        "outputId": "ccd3261d-a69b-48f5-ba44-44aad4e9fedf",
        "colab": {
          "base_uri": "https://localhost:8080/",
          "height": 531
        }
      },
      "source": [
        "sns.set_style('whitegrid')\n",
        "plt.figure(figsize=(12,8))\n",
        "df['loan_amnt'].plot.hist(bins=40)\n",
        "plt.xlabel('loan_amount')\n",
        "plt.title('Loan Amount Distribution')"
      ],
      "execution_count": 18,
      "outputs": [
        {
          "output_type": "execute_result",
          "data": {
            "text/plain": [
              "Text(0.5, 1.0, 'Loan Amount Distribution')"
            ]
          },
          "metadata": {
            "tags": []
          },
          "execution_count": 18
        },
        {
          "output_type": "display_data",
          "data": {
            "image/png": "[encoded data removed]",
            "text/plain": [
              "<Figure size 864x576 with 1 Axes>"
            ]
          },
          "metadata": {
            "tags": []
          }
        }
      ]
    },
    {
      "cell_type": "code",
      "metadata": {
        "id": "oBxVk1r8tV99",
        "colab_type": "code",
        "outputId": "19ec4574-f213-4b58-f70c-2807368b922d",
        "colab": {
          "base_uri": "https://localhost:8080/",
          "height": 506
        }
      },
      "source": [
        "plt.figure(figsize=(8,6))\n",
        "df.corr()['loan_amnt'].sort_values()[:-1].plot(kind='bar')\n",
        "plt.title('Correlation barplot for Loan Amount')"
      ],
      "execution_count": 19,
      "outputs": [
        {
          "output_type": "execute_result",
          "data": {
            "text/plain": [
              "Text(0.5, 1.0, 'Correlation barplot for Loan Amount')"
            ]
          },
          "metadata": {
            "tags": []
          },
          "execution_count": 19
        },
        {
          "output_type": "display_data",
          "data": {
            "image/png": "[encoded data removed]",
            "text/plain": [
              "<Figure size 576x432 with 1 Axes>"
            ]
          },
          "metadata": {
            "tags": []
          }
        }
      ]
    },
    {
      "cell_type": "markdown",
      "metadata": {
        "id": "FXmC8m43LLxr",
        "colab_type": "text"
      },
      "source": [
        "_Noticed there is almost perfect correlation with the \"installment\" feature. Lets explore this feature further. Print out their descriptions_"
      ]
    },
    {
      "cell_type": "code",
      "metadata": {
        "id": "1N9dtn8Mtzth",
        "colab_type": "code",
        "outputId": "bad597d5-cef2-48d3-8a5f-ad7734d6ba04",
        "colab": {
          "base_uri": "https://localhost:8080/",
          "height": 54
        }
      },
      "source": [
        "feat_info('loan_amnt')"
      ],
      "execution_count": 21,
      "outputs": [
        {
          "output_type": "stream",
          "text": [
            "The listed amount of the loan applied for by the borrower. If at some point in time, the credit department reduces the loan amount, then it will be reflected in this value.\n"
          ],
          "name": "stdout"
        }
      ]
    },
    {
      "cell_type": "code",
      "metadata": {
        "id": "t2POuinOuOJC",
        "colab_type": "code",
        "outputId": "8376bd42-d9a1-4f1d-b202-d5c4fcc2f13a",
        "colab": {
          "base_uri": "https://localhost:8080/",
          "height": 34
        }
      },
      "source": [
        "feat_info('installment')"
      ],
      "execution_count": 20,
      "outputs": [
        {
          "output_type": "stream",
          "text": [
            "The monthly payment owed by the borrower if the loan originates.\n"
          ],
          "name": "stdout"
        }
      ]
    },
    {
      "cell_type": "markdown",
      "metadata": {
        "id": "YKSBVXUPt7Jm",
        "colab_type": "text"
      },
      "source": [
        "_Perform a scatterplot between them. Does this relationship make sense to you? Do you think there is duplicate information here?_"
      ]
    },
    {
      "cell_type": "code",
      "metadata": {
        "id": "V_Uy_n2JLLxr",
        "colab_type": "code",
        "outputId": "b1841b3f-7e6f-4ff3-9ab0-0af939187b3e",
        "colab": {
          "base_uri": "https://localhost:8080/",
          "height": 405
        }
      },
      "source": [
        "plt.figure(figsize=(8,6))\n",
        "sns.scatterplot(y = 'loan_amnt', x ='installment' , data = df )"
      ],
      "execution_count": 22,
      "outputs": [
        {
          "output_type": "execute_result",
          "data": {
            "text/plain": [
              "<matplotlib.axes._subplots.AxesSubplot at 0x7fd9ad299cc0>"
            ]
          },
          "metadata": {
            "tags": []
          },
          "execution_count": 22
        },
        {
          "output_type": "display_data",
          "data": {
            "image/png": "[encoded data removed]",
            "text/plain": [
              "<Figure size 576x432 with 1 Axes>"
            ]
          },
          "metadata": {
            "tags": []
          }
        }
      ]
    },
    {
      "cell_type": "markdown",
      "metadata": {
        "id": "7va5Y_RNvSeY",
        "colab_type": "text"
      },
      "source": [
        "_We should discover if the variables Loan Amount and Installment represent duplicate data_"
      ]
    },
    {
      "cell_type": "markdown",
      "metadata": {
        "id": "MBq9GLs1LLxy",
        "colab_type": "text"
      },
      "source": [
        "_Create a boxplot showing the relationship between the loan_status and the Loan Amount._"
      ]
    },
    {
      "cell_type": "code",
      "metadata": {
        "id": "NPiSn4IhLLxz",
        "colab_type": "code",
        "outputId": "3b78f616-bebf-4202-e4bf-65373605925d",
        "colab": {
          "base_uri": "https://localhost:8080/",
          "height": 422
        }
      },
      "source": [
        "plt.figure(figsize=(8,6))\n",
        "sns.boxplot(x= 'loan_status', y='installment', data=df)\n",
        "plt.title('boxplot showing the relationship between the Loan Status and the Installment')"
      ],
      "execution_count": 23,
      "outputs": [
        {
          "output_type": "execute_result",
          "data": {
            "text/plain": [
              "Text(0.5, 1.0, 'boxplot showing the relationship between the Loan Status and the Installment')"
            ]
          },
          "metadata": {
            "tags": []
          },
          "execution_count": 23
        },
        {
          "output_type": "display_data",
          "data": {
            "image/png": "[encoded data removed]",
            "text/plain": [
              "<Figure size 576x432 with 1 Axes>"
            ]
          },
          "metadata": {
            "tags": []
          }
        }
      ]
    },
    {
      "cell_type": "code",
      "metadata": {
        "id": "fdeIq2DSUqZs",
        "colab_type": "code",
        "outputId": "4e438dba-33eb-4acf-b299-066b2e0119cb",
        "colab": {
          "base_uri": "https://localhost:8080/",
          "height": 422
        }
      },
      "source": [
        "sns.set_style('whitegrid')\n",
        "plt.figure(figsize=(8,6))\n",
        "sns.boxplot(x= 'loan_status', y='loan_amnt', data=df)\n",
        "plt.title('boxplot showing the relationship between the Loan Status and the Loan Amount.')"
      ],
      "execution_count": 24,
      "outputs": [
        {
          "output_type": "execute_result",
          "data": {
            "text/plain": [
              "Text(0.5, 1.0, 'boxplot showing the relationship between the Loan Status and the Loan Amount.')"
            ]
          },
          "metadata": {
            "tags": []
          },
          "execution_count": 24
        },
        {
          "output_type": "display_data",
          "data": {
            "image/png": "[encoded data removed]",
            "text/plain": [
              "<Figure size 576x432 with 1 Axes>"
            ]
          },
          "metadata": {
            "tags": []
          }
        }
      ]
    },
    {
      "cell_type": "code",
      "metadata": {
        "id": "-q5y1QLHLLx0",
        "colab_type": "code",
        "outputId": "4761e06d-79bc-45d7-875a-bbad0a0e9b35",
        "colab": {
          "base_uri": "https://localhost:8080/",
          "height": 297
        }
      },
      "source": [
        "df.groupby('loan_status')['installment'].describe().transpose()"
      ],
      "execution_count": 25,
      "outputs": [
        {
          "output_type": "execute_result",
          "data": {
            "text/html": [
              "<div>\n",
              "<style scoped>\n",
              "    .dataframe tbody tr th:only-of-type {\n",
              "        vertical-align: middle;\n",
              "    }\n",
              "\n",
              "    .dataframe tbody tr th {\n",
              "        vertical-align: top;\n",
              "    }\n",
              "\n",
              "    .dataframe thead th {\n",
              "        text-align: right;\n",
              "    }\n",
              "</style>\n",
              "<table border=\"1\" class=\"dataframe\">\n",
              "  <thead>\n",
              "    <tr style=\"text-align: right;\">\n",
              "      <th>loan_status</th>\n",
              "      <th>Charged Off</th>\n",
              "      <th>Fully Paid</th>\n",
              "    </tr>\n",
              "  </thead>\n",
              "  <tbody>\n",
              "    <tr>\n",
              "      <th>count</th>\n",
              "      <td>77673.000000</td>\n",
              "      <td>318357.000000</td>\n",
              "    </tr>\n",
              "    <tr>\n",
              "      <th>mean</th>\n",
              "      <td>452.703110</td>\n",
              "      <td>426.761866</td>\n",
              "    </tr>\n",
              "    <tr>\n",
              "      <th>std</th>\n",
              "      <td>249.096609</td>\n",
              "      <td>250.861622</td>\n",
              "    </tr>\n",
              "    <tr>\n",
              "      <th>min</th>\n",
              "      <td>21.620000</td>\n",
              "      <td>16.080000</td>\n",
              "    </tr>\n",
              "    <tr>\n",
              "      <th>25%</th>\n",
              "      <td>274.860000</td>\n",
              "      <td>244.460000</td>\n",
              "    </tr>\n",
              "    <tr>\n",
              "      <th>50%</th>\n",
              "      <td>399.060000</td>\n",
              "      <td>369.510000</td>\n",
              "    </tr>\n",
              "    <tr>\n",
              "      <th>75%</th>\n",
              "      <td>585.670000</td>\n",
              "      <td>562.890000</td>\n",
              "    </tr>\n",
              "    <tr>\n",
              "      <th>max</th>\n",
              "      <td>1527.000000</td>\n",
              "      <td>1533.810000</td>\n",
              "    </tr>\n",
              "  </tbody>\n",
              "</table>\n",
              "</div>"
            ],
            "text/plain": [
              "loan_status   Charged Off     Fully Paid\n",
              "count        77673.000000  318357.000000\n",
              "mean           452.703110     426.761866\n",
              "std            249.096609     250.861622\n",
              "min             21.620000      16.080000\n",
              "25%            274.860000     244.460000\n",
              "50%            399.060000     369.510000\n",
              "75%            585.670000     562.890000\n",
              "max           1527.000000    1533.810000"
            ]
          },
          "metadata": {
            "tags": []
          },
          "execution_count": 25
        }
      ]
    },
    {
      "cell_type": "markdown",
      "metadata": {
        "id": "ZvuaaFK5xA9z",
        "colab_type": "text"
      },
      "source": [
        "_In overall it seems that good payers have higher range of number of installments._"
      ]
    },
    {
      "cell_type": "markdown",
      "metadata": {
        "id": "0L5NZQvSLLx2",
        "colab_type": "text"
      },
      "source": [
        "_Calculate the summary statistics for the loan amount, grouped by the loan_status._"
      ]
    },
    {
      "cell_type": "code",
      "metadata": {
        "id": "XNPenAFKLLx2",
        "colab_type": "code",
        "outputId": "d6d7355f-8b28-40de-95e6-b6d9ab51298d",
        "colab": {
          "base_uri": "https://localhost:8080/",
          "height": 297
        }
      },
      "source": [
        "df.groupby('loan_status')['loan_amnt'].describe().transpose()"
      ],
      "execution_count": 26,
      "outputs": [
        {
          "output_type": "execute_result",
          "data": {
            "text/html": [
              "<div>\n",
              "<style scoped>\n",
              "    .dataframe tbody tr th:only-of-type {\n",
              "        vertical-align: middle;\n",
              "    }\n",
              "\n",
              "    .dataframe tbody tr th {\n",
              "        vertical-align: top;\n",
              "    }\n",
              "\n",
              "    .dataframe thead th {\n",
              "        text-align: right;\n",
              "    }\n",
              "</style>\n",
              "<table border=\"1\" class=\"dataframe\">\n",
              "  <thead>\n",
              "    <tr style=\"text-align: right;\">\n",
              "      <th>loan_status</th>\n",
              "      <th>Charged Off</th>\n",
              "      <th>Fully Paid</th>\n",
              "    </tr>\n",
              "  </thead>\n",
              "  <tbody>\n",
              "    <tr>\n",
              "      <th>count</th>\n",
              "      <td>77673.000000</td>\n",
              "      <td>318357.000000</td>\n",
              "    </tr>\n",
              "    <tr>\n",
              "      <th>mean</th>\n",
              "      <td>15126.300967</td>\n",
              "      <td>13866.878771</td>\n",
              "    </tr>\n",
              "    <tr>\n",
              "      <th>std</th>\n",
              "      <td>8505.090557</td>\n",
              "      <td>8302.319699</td>\n",
              "    </tr>\n",
              "    <tr>\n",
              "      <th>min</th>\n",
              "      <td>1000.000000</td>\n",
              "      <td>500.000000</td>\n",
              "    </tr>\n",
              "    <tr>\n",
              "      <th>25%</th>\n",
              "      <td>8525.000000</td>\n",
              "      <td>7500.000000</td>\n",
              "    </tr>\n",
              "    <tr>\n",
              "      <th>50%</th>\n",
              "      <td>14000.000000</td>\n",
              "      <td>12000.000000</td>\n",
              "    </tr>\n",
              "    <tr>\n",
              "      <th>75%</th>\n",
              "      <td>20000.000000</td>\n",
              "      <td>19225.000000</td>\n",
              "    </tr>\n",
              "    <tr>\n",
              "      <th>max</th>\n",
              "      <td>40000.000000</td>\n",
              "      <td>40000.000000</td>\n",
              "    </tr>\n",
              "  </tbody>\n",
              "</table>\n",
              "</div>"
            ],
            "text/plain": [
              "loan_status   Charged Off     Fully Paid\n",
              "count        77673.000000  318357.000000\n",
              "mean         15126.300967   13866.878771\n",
              "std           8505.090557    8302.319699\n",
              "min           1000.000000     500.000000\n",
              "25%           8525.000000    7500.000000\n",
              "50%          14000.000000   12000.000000\n",
              "75%          20000.000000   19225.000000\n",
              "max          40000.000000   40000.000000"
            ]
          },
          "metadata": {
            "tags": []
          },
          "execution_count": 26
        }
      ]
    },
    {
      "cell_type": "markdown",
      "metadata": {
        "id": "TpoGrU5ExVA_",
        "colab_type": "text"
      },
      "source": [
        "_In overall, it seems that good payers have access to even small amount (ex. $500), on the contrary defaulters have less options with respect to loan_amount._"
      ]
    },
    {
      "cell_type": "markdown",
      "metadata": {
        "id": "wSlaAbgVLLx6",
        "colab_type": "text"
      },
      "source": [
        "_Let's explore the Grade and SubGrade columns that LendingClub attributes to the loans. What are the unique possible grades and subgrades?_"
      ]
    },
    {
      "cell_type": "code",
      "metadata": {
        "id": "zxy22d2aLLx6",
        "colab_type": "code",
        "outputId": "4e07821c-2bca-452f-eab4-6e0318245cca",
        "colab": {
          "base_uri": "https://localhost:8080/",
          "height": 34
        }
      },
      "source": [
        "feat_info('grade')"
      ],
      "execution_count": 27,
      "outputs": [
        {
          "output_type": "stream",
          "text": [
            "LC assigned loan grade\n"
          ],
          "name": "stdout"
        }
      ]
    },
    {
      "cell_type": "code",
      "metadata": {
        "id": "mHFOzOEiyFFg",
        "colab_type": "code",
        "outputId": "35089cfe-9d03-4813-e82e-04cf95d7712e",
        "colab": {
          "base_uri": "https://localhost:8080/",
          "height": 34
        }
      },
      "source": [
        "feat_info('sub_grade')"
      ],
      "execution_count": 28,
      "outputs": [
        {
          "output_type": "stream",
          "text": [
            "LC assigned loan subgrade\n"
          ],
          "name": "stdout"
        }
      ]
    },
    {
      "cell_type": "code",
      "metadata": {
        "id": "76yve3ttybmM",
        "colab_type": "code",
        "outputId": "0fe112a2-3535-4ea6-e4c1-eef5e4cc753b",
        "colab": {
          "base_uri": "https://localhost:8080/",
          "height": 199
        }
      },
      "source": [
        "df.select_dtypes('object').head(2)"
      ],
      "execution_count": 29,
      "outputs": [
        {
          "output_type": "execute_result",
          "data": {
            "text/html": [
              "<div>\n",
              "<style scoped>\n",
              "    .dataframe tbody tr th:only-of-type {\n",
              "        vertical-align: middle;\n",
              "    }\n",
              "\n",
              "    .dataframe tbody tr th {\n",
              "        vertical-align: top;\n",
              "    }\n",
              "\n",
              "    .dataframe thead th {\n",
              "        text-align: right;\n",
              "    }\n",
              "</style>\n",
              "<table border=\"1\" class=\"dataframe\">\n",
              "  <thead>\n",
              "    <tr style=\"text-align: right;\">\n",
              "      <th></th>\n",
              "      <th>term</th>\n",
              "      <th>grade</th>\n",
              "      <th>sub_grade</th>\n",
              "      <th>emp_title</th>\n",
              "      <th>emp_length</th>\n",
              "      <th>home_ownership</th>\n",
              "      <th>verification_status</th>\n",
              "      <th>issue_d</th>\n",
              "      <th>loan_status</th>\n",
              "      <th>purpose</th>\n",
              "      <th>title</th>\n",
              "      <th>earliest_cr_line</th>\n",
              "      <th>initial_list_status</th>\n",
              "      <th>application_type</th>\n",
              "      <th>address</th>\n",
              "    </tr>\n",
              "  </thead>\n",
              "  <tbody>\n",
              "    <tr>\n",
              "      <th>0</th>\n",
              "      <td>36 months</td>\n",
              "      <td>B</td>\n",
              "      <td>B4</td>\n",
              "      <td>Marketing</td>\n",
              "      <td>10+ years</td>\n",
              "      <td>RENT</td>\n",
              "      <td>Not Verified</td>\n",
              "      <td>Jan-2015</td>\n",
              "      <td>Fully Paid</td>\n",
              "      <td>vacation</td>\n",
              "      <td>Vacation</td>\n",
              "      <td>Jun-1990</td>\n",
              "      <td>w</td>\n",
              "      <td>INDIVIDUAL</td>\n",
              "      <td>0174 Michelle Gateway\\nMendozaberg, OK 22690</td>\n",
              "    </tr>\n",
              "    <tr>\n",
              "      <th>1</th>\n",
              "      <td>36 months</td>\n",
              "      <td>B</td>\n",
              "      <td>B5</td>\n",
              "      <td>Credit analyst</td>\n",
              "      <td>4 years</td>\n",
              "      <td>MORTGAGE</td>\n",
              "      <td>Not Verified</td>\n",
              "      <td>Jan-2015</td>\n",
              "      <td>Fully Paid</td>\n",
              "      <td>debt_consolidation</td>\n",
              "      <td>Debt consolidation</td>\n",
              "      <td>Jul-2004</td>\n",
              "      <td>f</td>\n",
              "      <td>INDIVIDUAL</td>\n",
              "      <td>1076 Carney Fort Apt. 347\\nLoganmouth, SD 05113</td>\n",
              "    </tr>\n",
              "  </tbody>\n",
              "</table>\n",
              "</div>"
            ],
            "text/plain": [
              "         term  ...                                          address\n",
              "0   36 months  ...     0174 Michelle Gateway\\nMendozaberg, OK 22690\n",
              "1   36 months  ...  1076 Carney Fort Apt. 347\\nLoganmouth, SD 05113\n",
              "\n",
              "[2 rows x 15 columns]"
            ]
          },
          "metadata": {
            "tags": []
          },
          "execution_count": 29
        }
      ]
    },
    {
      "cell_type": "code",
      "metadata": {
        "id": "q-QTm39yy4Ao",
        "colab_type": "code",
        "outputId": "8fe72c18-740d-41bc-abe1-869c407c161f",
        "colab": {
          "base_uri": "https://localhost:8080/",
          "height": 34
        }
      },
      "source": [
        "df['grade'].unique()"
      ],
      "execution_count": 30,
      "outputs": [
        {
          "output_type": "execute_result",
          "data": {
            "text/plain": [
              "array(['B', 'A', 'C', 'E', 'D', 'F', 'G'], dtype=object)"
            ]
          },
          "metadata": {
            "tags": []
          },
          "execution_count": 30
        }
      ]
    },
    {
      "cell_type": "code",
      "metadata": {
        "id": "NkKoBc13y34d",
        "colab_type": "code",
        "outputId": "5ce06521-a0bd-47b0-d215-f038a598b5f9",
        "colab": {
          "base_uri": "https://localhost:8080/",
          "height": 34
        }
      },
      "source": [
        "df['grade'].nunique()"
      ],
      "execution_count": 31,
      "outputs": [
        {
          "output_type": "execute_result",
          "data": {
            "text/plain": [
              "7"
            ]
          },
          "metadata": {
            "tags": []
          },
          "execution_count": 31
        }
      ]
    },
    {
      "cell_type": "code",
      "metadata": {
        "id": "IlYJgbOCLLx8",
        "colab_type": "code",
        "outputId": "944c7986-77bd-40b1-f698-ad0bc7e483f8",
        "colab": {
          "base_uri": "https://localhost:8080/",
          "height": 153
        }
      },
      "source": [
        "df['grade'].value_counts()"
      ],
      "execution_count": 32,
      "outputs": [
        {
          "output_type": "execute_result",
          "data": {
            "text/plain": [
              "B    116018\n",
              "C    105987\n",
              "A     64187\n",
              "D     63524\n",
              "E     31488\n",
              "F     11772\n",
              "G      3054\n",
              "Name: grade, dtype: int64"
            ]
          },
          "metadata": {
            "tags": []
          },
          "execution_count": 32
        }
      ]
    },
    {
      "cell_type": "code",
      "metadata": {
        "id": "_4Z5AP6kzMK-",
        "colab_type": "code",
        "outputId": "5db59193-ebdd-4f8b-b25e-c8b310b1126b",
        "colab": {
          "base_uri": "https://localhost:8080/",
          "height": 85
        }
      },
      "source": [
        "df['sub_grade'].unique()"
      ],
      "execution_count": 33,
      "outputs": [
        {
          "output_type": "execute_result",
          "data": {
            "text/plain": [
              "array(['B4', 'B5', 'B3', 'A2', 'C5', 'C3', 'A1', 'B2', 'C1', 'A5', 'E4',\n",
              "       'A4', 'A3', 'D1', 'C2', 'B1', 'D3', 'D5', 'D2', 'E1', 'E2', 'E5',\n",
              "       'F4', 'E3', 'D4', 'G1', 'F5', 'G2', 'C4', 'F1', 'F3', 'G5', 'G4',\n",
              "       'F2', 'G3'], dtype=object)"
            ]
          },
          "metadata": {
            "tags": []
          },
          "execution_count": 33
        }
      ]
    },
    {
      "cell_type": "code",
      "metadata": {
        "id": "wO03TEKdzMCb",
        "colab_type": "code",
        "outputId": "34b7d105-a370-4913-e8db-3603ae175bc5",
        "colab": {
          "base_uri": "https://localhost:8080/",
          "height": 34
        }
      },
      "source": [
        "df['sub_grade'].nunique()"
      ],
      "execution_count": 34,
      "outputs": [
        {
          "output_type": "execute_result",
          "data": {
            "text/plain": [
              "35"
            ]
          },
          "metadata": {
            "tags": []
          },
          "execution_count": 34
        }
      ]
    },
    {
      "cell_type": "code",
      "metadata": {
        "id": "4SfgF7RCzL6B",
        "colab_type": "code",
        "outputId": "b7316de8-c862-42e0-d8d2-892eb975fad1",
        "colab": {
          "base_uri": "https://localhost:8080/",
          "height": 629
        }
      },
      "source": [
        "df['sub_grade'].value_counts()"
      ],
      "execution_count": 35,
      "outputs": [
        {
          "output_type": "execute_result",
          "data": {
            "text/plain": [
              "B3    26655\n",
              "B4    25601\n",
              "C1    23662\n",
              "C2    22580\n",
              "B2    22495\n",
              "B5    22085\n",
              "C3    21221\n",
              "C4    20280\n",
              "B1    19182\n",
              "A5    18526\n",
              "C5    18244\n",
              "D1    15993\n",
              "A4    15789\n",
              "D2    13951\n",
              "D3    12223\n",
              "D4    11657\n",
              "A3    10576\n",
              "A1     9729\n",
              "D5     9700\n",
              "A2     9567\n",
              "E1     7917\n",
              "E2     7431\n",
              "E3     6207\n",
              "E4     5361\n",
              "E5     4572\n",
              "F1     3536\n",
              "F2     2766\n",
              "F3     2286\n",
              "F4     1787\n",
              "F5     1397\n",
              "G1     1058\n",
              "G2      754\n",
              "G3      552\n",
              "G4      374\n",
              "G5      316\n",
              "Name: sub_grade, dtype: int64"
            ]
          },
          "metadata": {
            "tags": []
          },
          "execution_count": 35
        }
      ]
    },
    {
      "cell_type": "markdown",
      "metadata": {
        "id": "58_wD0vRLLx_",
        "colab_type": "text"
      },
      "source": [
        "_Lets visualise it! Create a countplot per grade. Set the hue to the loan_status label._"
      ]
    },
    {
      "cell_type": "code",
      "metadata": {
        "id": "zCfDrhYzLLx_",
        "colab_type": "code",
        "outputId": "b7f46d91-386f-47c7-9bbb-47ce58e2ca42",
        "colab": {
          "base_uri": "https://localhost:8080/",
          "height": 421
        }
      },
      "source": [
        "plt.figure(figsize=(12,6))\n",
        "sns.countplot(df['grade'].sort_values(), hue=df['loan_status'])\n",
        "plt.title('Count of Grade categories')"
      ],
      "execution_count": 36,
      "outputs": [
        {
          "output_type": "execute_result",
          "data": {
            "text/plain": [
              "Text(0.5, 1.0, 'Count of Grade categories')"
            ]
          },
          "metadata": {
            "tags": []
          },
          "execution_count": 36
        },
        {
          "output_type": "display_data",
          "data": {
            "image/png": "[encoded data removed]",
            "text/plain": [
              "<Figure size 864x432 with 1 Axes>"
            ]
          },
          "metadata": {
            "tags": []
          }
        }
      ]
    },
    {
      "cell_type": "markdown",
      "metadata": {
        "id": "IiZVY71xLLyC",
        "colab_type": "text"
      },
      "source": [
        "_Display a count plot per subgrade. You may need to resize for this plot and [reorder](https://seaborn.pydata.org/generated/seaborn.countplot.html#seaborn.countplot) the x axis. Feel free to edit the color palette. Explore both all loans made per subgrade as well being separated based on the loan_status. After creating this plot, go ahead and create a similar plot, but set hue=\"loan_status\"_"
      ]
    },
    {
      "cell_type": "code",
      "metadata": {
        "id": "yzhVioATLLyC",
        "colab_type": "code",
        "outputId": "4b063f95-898a-4c40-c594-f9bc96a22fb3",
        "colab": {
          "base_uri": "https://localhost:8080/",
          "height": 422
        }
      },
      "source": [
        "plt.figure(figsize=(12,6))\n",
        "sns.countplot(df['sub_grade'].sort_values(), palette='coolwarm',hue=df['loan_status'])\n",
        "plt.title('Count of Sub Grade categories')"
      ],
      "execution_count": 37,
      "outputs": [
        {
          "output_type": "execute_result",
          "data": {
            "text/plain": [
              "Text(0.5, 1.0, 'Count of Sub Grade categories')"
            ]
          },
          "metadata": {
            "tags": []
          },
          "execution_count": 37
        },
        {
          "output_type": "display_data",
          "data": {
            "image/png": "[encoded data removed]",
            "text/plain": [
              "<Figure size 864x432 with 1 Axes>"
            ]
          },
          "metadata": {
            "tags": []
          }
        }
      ]
    },
    {
      "cell_type": "markdown",
      "metadata": {
        "id": "2f9PQ4MsLLyI",
        "colab_type": "text"
      },
      "source": [
        "_It looks like F and G subgrades don't get paid back that often. Isloate those and recreate the countplot just for those subgrades._"
      ]
    },
    {
      "cell_type": "code",
      "metadata": {
        "id": "e90Ph2LMLLyF",
        "colab_type": "code",
        "outputId": "4a397bd1-49f5-4b51-945b-9b0ae737f418",
        "colab": {
          "base_uri": "https://localhost:8080/",
          "height": 422
        }
      },
      "source": [
        "plt.figure(figsize=(12,6))\n",
        "\n",
        "f_and_g = df[(df['grade']=='F') | (df['grade']=='G')]\n",
        "\n",
        "subgrade_order = sorted(f_and_g['sub_grade'].unique())\n",
        "\n",
        "sns.countplot(x='sub_grade', order=subgrade_order , palette='coolwarm', hue='loan_status', data = f_and_g)\n",
        "plt.title('Count of Sub Grade \"F\" and \"G\" categories')"
      ],
      "execution_count": 38,
      "outputs": [
        {
          "output_type": "execute_result",
          "data": {
            "text/plain": [
              "Text(0.5, 1.0, 'Count of Sub Grade \"F\" and \"G\" categories')"
            ]
          },
          "metadata": {
            "tags": []
          },
          "execution_count": 38
        },
        {
          "output_type": "display_data",
          "data": {
            "image/png": "[encoded data removed]",
            "text/plain": [
              "<Figure size 864x432 with 1 Axes>"
            ]
          },
          "metadata": {
            "tags": []
          }
        }
      ]
    },
    {
      "cell_type": "markdown",
      "metadata": {
        "id": "JldKMUrtLLyL",
        "colab_type": "text"
      },
      "source": [
        "_Create a new column called 'loan_repaid' which will contain a 1 if the loan status was \"Fully Paid\" and a 0 if it was \"Charged Off\"._"
      ]
    },
    {
      "cell_type": "code",
      "metadata": {
        "id": "AawKSg30LLyM",
        "colab_type": "code",
        "colab": {}
      },
      "source": [
        "df['loan_repaid'] = df['loan_status'].map({'Fully Paid':1, 'Charged Off':0})"
      ],
      "execution_count": 0,
      "outputs": []
    },
    {
      "cell_type": "code",
      "metadata": {
        "id": "qB15Zy5wLLyP",
        "colab_type": "code",
        "outputId": "1e6e79bd-e7da-45a8-9093-0ec4e614669e",
        "colab": {
          "base_uri": "https://localhost:8080/",
          "height": 419
        }
      },
      "source": [
        "df[['loan_repaid','loan_status']]"
      ],
      "execution_count": 40,
      "outputs": [
        {
          "output_type": "execute_result",
          "data": {
            "text/html": [
              "<div>\n",
              "<style scoped>\n",
              "    .dataframe tbody tr th:only-of-type {\n",
              "        vertical-align: middle;\n",
              "    }\n",
              "\n",
              "    .dataframe tbody tr th {\n",
              "        vertical-align: top;\n",
              "    }\n",
              "\n",
              "    .dataframe thead th {\n",
              "        text-align: right;\n",
              "    }\n",
              "</style>\n",
              "<table border=\"1\" class=\"dataframe\">\n",
              "  <thead>\n",
              "    <tr style=\"text-align: right;\">\n",
              "      <th></th>\n",
              "      <th>loan_repaid</th>\n",
              "      <th>loan_status</th>\n",
              "    </tr>\n",
              "  </thead>\n",
              "  <tbody>\n",
              "    <tr>\n",
              "      <th>0</th>\n",
              "      <td>1</td>\n",
              "      <td>Fully Paid</td>\n",
              "    </tr>\n",
              "    <tr>\n",
              "      <th>1</th>\n",
              "      <td>1</td>\n",
              "      <td>Fully Paid</td>\n",
              "    </tr>\n",
              "    <tr>\n",
              "      <th>2</th>\n",
              "      <td>1</td>\n",
              "      <td>Fully Paid</td>\n",
              "    </tr>\n",
              "    <tr>\n",
              "      <th>3</th>\n",
              "      <td>1</td>\n",
              "      <td>Fully Paid</td>\n",
              "    </tr>\n",
              "    <tr>\n",
              "      <th>4</th>\n",
              "      <td>0</td>\n",
              "      <td>Charged Off</td>\n",
              "    </tr>\n",
              "    <tr>\n",
              "      <th>...</th>\n",
              "      <td>...</td>\n",
              "      <td>...</td>\n",
              "    </tr>\n",
              "    <tr>\n",
              "      <th>396025</th>\n",
              "      <td>1</td>\n",
              "      <td>Fully Paid</td>\n",
              "    </tr>\n",
              "    <tr>\n",
              "      <th>396026</th>\n",
              "      <td>1</td>\n",
              "      <td>Fully Paid</td>\n",
              "    </tr>\n",
              "    <tr>\n",
              "      <th>396027</th>\n",
              "      <td>1</td>\n",
              "      <td>Fully Paid</td>\n",
              "    </tr>\n",
              "    <tr>\n",
              "      <th>396028</th>\n",
              "      <td>1</td>\n",
              "      <td>Fully Paid</td>\n",
              "    </tr>\n",
              "    <tr>\n",
              "      <th>396029</th>\n",
              "      <td>1</td>\n",
              "      <td>Fully Paid</td>\n",
              "    </tr>\n",
              "  </tbody>\n",
              "</table>\n",
              "<p>396030 rows × 2 columns</p>\n",
              "</div>"
            ],
            "text/plain": [
              "        loan_repaid  loan_status\n",
              "0                 1   Fully Paid\n",
              "1                 1   Fully Paid\n",
              "2                 1   Fully Paid\n",
              "3                 1   Fully Paid\n",
              "4                 0  Charged Off\n",
              "...             ...          ...\n",
              "396025            1   Fully Paid\n",
              "396026            1   Fully Paid\n",
              "396027            1   Fully Paid\n",
              "396028            1   Fully Paid\n",
              "396029            1   Fully Paid\n",
              "\n",
              "[396030 rows x 2 columns]"
            ]
          },
          "metadata": {
            "tags": []
          },
          "execution_count": 40
        }
      ]
    },
    {
      "cell_type": "markdown",
      "metadata": {
        "id": "74VkhwqPLLyR",
        "colab_type": "text"
      },
      "source": [
        "_Create a bar plot showing the correlation of the numeric features to the new loan_repaid column. [Helpful Link](https://pandas.pydata.org/pandas-docs/stable/reference/api/pandas.DataFrame.plot.bar.html)_"
      ]
    },
    {
      "cell_type": "markdown",
      "metadata": {
        "id": "i8lP9ZgWLLxh",
        "colab_type": "text"
      },
      "source": [
        "_Let's explore correlation between the continuous feature variables. Calculate the correlation between all continuous numeric variables using .corr() method_"
      ]
    },
    {
      "cell_type": "code",
      "metadata": {
        "id": "GgQNsqrujSYK",
        "colab_type": "code",
        "outputId": "8b50be31-4427-406f-9a73-5b2cff03e16d",
        "colab": {
          "base_uri": "https://localhost:8080/",
          "height": 255
        }
      },
      "source": [
        "df.corr()['loan_repaid'].sort_values()"
      ],
      "execution_count": 41,
      "outputs": [
        {
          "output_type": "execute_result",
          "data": {
            "text/plain": [
              "int_rate               -0.247758\n",
              "revol_util             -0.082373\n",
              "dti                    -0.062413\n",
              "loan_amnt              -0.059836\n",
              "installment            -0.041082\n",
              "open_acc               -0.028012\n",
              "pub_rec                -0.019933\n",
              "pub_rec_bankruptcies   -0.009383\n",
              "revol_bal               0.010892\n",
              "total_acc               0.017893\n",
              "annual_inc              0.053432\n",
              "mort_acc                0.073111\n",
              "loan_repaid             1.000000\n",
              "Name: loan_repaid, dtype: float64"
            ]
          },
          "metadata": {
            "tags": []
          },
          "execution_count": 41
        }
      ]
    },
    {
      "cell_type": "code",
      "metadata": {
        "id": "G1K_6QGzLLyS",
        "colab_type": "code",
        "outputId": "43514a06-6bc8-4d8d-bcbc-9002813afa3c",
        "colab": {
          "base_uri": "https://localhost:8080/",
          "height": 506
        }
      },
      "source": [
        "plt.figure(figsize=(8,6))\n",
        "df.corr()['loan_repaid'].sort_values()[:-1].plot(kind='bar')\n",
        "plt.title('Correlation barplot for Loan Repaid target Feature')"
      ],
      "execution_count": 42,
      "outputs": [
        {
          "output_type": "execute_result",
          "data": {
            "text/plain": [
              "Text(0.5, 1.0, 'Correlation barplot for Loan Repaid target Feature')"
            ]
          },
          "metadata": {
            "tags": []
          },
          "execution_count": 42
        },
        {
          "output_type": "display_data",
          "data": {
            "image/png": "[encoded data removed]",
            "text/plain": [
              "<Figure size 576x432 with 1 Axes>"
            ]
          },
          "metadata": {
            "tags": []
          }
        }
      ]
    },
    {
      "cell_type": "markdown",
      "metadata": {
        "id": "LIFl5PdSLLyV",
        "colab_type": "text"
      },
      "source": [
        "---\n",
        "---\n",
        "# Section 2: Data PreProcessing\n",
        "\n",
        "**Section Goals: Remove or fill any missing data. Remove unnecessary or repetitive features. Convert categorical string features to dummy variables.**\n",
        "\n"
      ]
    },
    {
      "cell_type": "code",
      "metadata": {
        "id": "wZIBUCdpLLyW",
        "colab_type": "code",
        "outputId": "db7ebd9b-fac5-470e-ed89-a79c2966402f",
        "colab": {
          "base_uri": "https://localhost:8080/",
          "height": 394
        }
      },
      "source": [
        "df.head()"
      ],
      "execution_count": 43,
      "outputs": [
        {
          "output_type": "execute_result",
          "data": {
            "text/html": [
              "<div>\n",
              "<style scoped>\n",
              "    .dataframe tbody tr th:only-of-type {\n",
              "        vertical-align: middle;\n",
              "    }\n",
              "\n",
              "    .dataframe tbody tr th {\n",
              "        vertical-align: top;\n",
              "    }\n",
              "\n",
              "    .dataframe thead th {\n",
              "        text-align: right;\n",
              "    }\n",
              "</style>\n",
              "<table border=\"1\" class=\"dataframe\">\n",
              "  <thead>\n",
              "    <tr style=\"text-align: right;\">\n",
              "      <th></th>\n",
              "      <th>loan_amnt</th>\n",
              "      <th>term</th>\n",
              "      <th>int_rate</th>\n",
              "      <th>installment</th>\n",
              "      <th>grade</th>\n",
              "      <th>sub_grade</th>\n",
              "      <th>emp_title</th>\n",
              "      <th>emp_length</th>\n",
              "      <th>home_ownership</th>\n",
              "      <th>annual_inc</th>\n",
              "      <th>verification_status</th>\n",
              "      <th>issue_d</th>\n",
              "      <th>loan_status</th>\n",
              "      <th>purpose</th>\n",
              "      <th>title</th>\n",
              "      <th>dti</th>\n",
              "      <th>earliest_cr_line</th>\n",
              "      <th>open_acc</th>\n",
              "      <th>pub_rec</th>\n",
              "      <th>revol_bal</th>\n",
              "      <th>revol_util</th>\n",
              "      <th>total_acc</th>\n",
              "      <th>initial_list_status</th>\n",
              "      <th>application_type</th>\n",
              "      <th>mort_acc</th>\n",
              "      <th>pub_rec_bankruptcies</th>\n",
              "      <th>address</th>\n",
              "      <th>loan_repaid</th>\n",
              "    </tr>\n",
              "  </thead>\n",
              "  <tbody>\n",
              "    <tr>\n",
              "      <th>0</th>\n",
              "      <td>10000.0</td>\n",
              "      <td>36 months</td>\n",
              "      <td>11.44</td>\n",
              "      <td>329.48</td>\n",
              "      <td>B</td>\n",
              "      <td>B4</td>\n",
              "      <td>Marketing</td>\n",
              "      <td>10+ years</td>\n",
              "      <td>RENT</td>\n",
              "      <td>117000.0</td>\n",
              "      <td>Not Verified</td>\n",
              "      <td>Jan-2015</td>\n",
              "      <td>Fully Paid</td>\n",
              "      <td>vacation</td>\n",
              "      <td>Vacation</td>\n",
              "      <td>26.24</td>\n",
              "      <td>Jun-1990</td>\n",
              "      <td>16.0</td>\n",
              "      <td>0.0</td>\n",
              "      <td>36369.0</td>\n",
              "      <td>41.8</td>\n",
              "      <td>25.0</td>\n",
              "      <td>w</td>\n",
              "      <td>INDIVIDUAL</td>\n",
              "      <td>0.0</td>\n",
              "      <td>0.0</td>\n",
              "      <td>0174 Michelle Gateway\\nMendozaberg, OK 22690</td>\n",
              "      <td>1</td>\n",
              "    </tr>\n",
              "    <tr>\n",
              "      <th>1</th>\n",
              "      <td>8000.0</td>\n",
              "      <td>36 months</td>\n",
              "      <td>11.99</td>\n",
              "      <td>265.68</td>\n",
              "      <td>B</td>\n",
              "      <td>B5</td>\n",
              "      <td>Credit analyst</td>\n",
              "      <td>4 years</td>\n",
              "      <td>MORTGAGE</td>\n",
              "      <td>65000.0</td>\n",
              "      <td>Not Verified</td>\n",
              "      <td>Jan-2015</td>\n",
              "      <td>Fully Paid</td>\n",
              "      <td>debt_consolidation</td>\n",
              "      <td>Debt consolidation</td>\n",
              "      <td>22.05</td>\n",
              "      <td>Jul-2004</td>\n",
              "      <td>17.0</td>\n",
              "      <td>0.0</td>\n",
              "      <td>20131.0</td>\n",
              "      <td>53.3</td>\n",
              "      <td>27.0</td>\n",
              "      <td>f</td>\n",
              "      <td>INDIVIDUAL</td>\n",
              "      <td>3.0</td>\n",
              "      <td>0.0</td>\n",
              "      <td>1076 Carney Fort Apt. 347\\nLoganmouth, SD 05113</td>\n",
              "      <td>1</td>\n",
              "    </tr>\n",
              "    <tr>\n",
              "      <th>2</th>\n",
              "      <td>15600.0</td>\n",
              "      <td>36 months</td>\n",
              "      <td>10.49</td>\n",
              "      <td>506.97</td>\n",
              "      <td>B</td>\n",
              "      <td>B3</td>\n",
              "      <td>Statistician</td>\n",
              "      <td>&lt; 1 year</td>\n",
              "      <td>RENT</td>\n",
              "      <td>43057.0</td>\n",
              "      <td>Source Verified</td>\n",
              "      <td>Jan-2015</td>\n",
              "      <td>Fully Paid</td>\n",
              "      <td>credit_card</td>\n",
              "      <td>Credit card refinancing</td>\n",
              "      <td>12.79</td>\n",
              "      <td>Aug-2007</td>\n",
              "      <td>13.0</td>\n",
              "      <td>0.0</td>\n",
              "      <td>11987.0</td>\n",
              "      <td>92.2</td>\n",
              "      <td>26.0</td>\n",
              "      <td>f</td>\n",
              "      <td>INDIVIDUAL</td>\n",
              "      <td>0.0</td>\n",
              "      <td>0.0</td>\n",
              "      <td>87025 Mark Dale Apt. 269\\nNew Sabrina, WV 05113</td>\n",
              "      <td>1</td>\n",
              "    </tr>\n",
              "    <tr>\n",
              "      <th>3</th>\n",
              "      <td>7200.0</td>\n",
              "      <td>36 months</td>\n",
              "      <td>6.49</td>\n",
              "      <td>220.65</td>\n",
              "      <td>A</td>\n",
              "      <td>A2</td>\n",
              "      <td>Client Advocate</td>\n",
              "      <td>6 years</td>\n",
              "      <td>RENT</td>\n",
              "      <td>54000.0</td>\n",
              "      <td>Not Verified</td>\n",
              "      <td>Nov-2014</td>\n",
              "      <td>Fully Paid</td>\n",
              "      <td>credit_card</td>\n",
              "      <td>Credit card refinancing</td>\n",
              "      <td>2.60</td>\n",
              "      <td>Sep-2006</td>\n",
              "      <td>6.0</td>\n",
              "      <td>0.0</td>\n",
              "      <td>5472.0</td>\n",
              "      <td>21.5</td>\n",
              "      <td>13.0</td>\n",
              "      <td>f</td>\n",
              "      <td>INDIVIDUAL</td>\n",
              "      <td>0.0</td>\n",
              "      <td>0.0</td>\n",
              "      <td>823 Reid Ford\\nDelacruzside, MA 00813</td>\n",
              "      <td>1</td>\n",
              "    </tr>\n",
              "    <tr>\n",
              "      <th>4</th>\n",
              "      <td>24375.0</td>\n",
              "      <td>60 months</td>\n",
              "      <td>17.27</td>\n",
              "      <td>609.33</td>\n",
              "      <td>C</td>\n",
              "      <td>C5</td>\n",
              "      <td>Destiny Management Inc.</td>\n",
              "      <td>9 years</td>\n",
              "      <td>MORTGAGE</td>\n",
              "      <td>55000.0</td>\n",
              "      <td>Verified</td>\n",
              "      <td>Apr-2013</td>\n",
              "      <td>Charged Off</td>\n",
              "      <td>credit_card</td>\n",
              "      <td>Credit Card Refinance</td>\n",
              "      <td>33.95</td>\n",
              "      <td>Mar-1999</td>\n",
              "      <td>13.0</td>\n",
              "      <td>0.0</td>\n",
              "      <td>24584.0</td>\n",
              "      <td>69.8</td>\n",
              "      <td>43.0</td>\n",
              "      <td>f</td>\n",
              "      <td>INDIVIDUAL</td>\n",
              "      <td>1.0</td>\n",
              "      <td>0.0</td>\n",
              "      <td>679 Luna Roads\\nGreggshire, VA 11650</td>\n",
              "      <td>0</td>\n",
              "    </tr>\n",
              "  </tbody>\n",
              "</table>\n",
              "</div>"
            ],
            "text/plain": [
              "   loan_amnt  ... loan_repaid\n",
              "0    10000.0  ...           1\n",
              "1     8000.0  ...           1\n",
              "2    15600.0  ...           1\n",
              "3     7200.0  ...           1\n",
              "4    24375.0  ...           0\n",
              "\n",
              "[5 rows x 28 columns]"
            ]
          },
          "metadata": {
            "tags": []
          },
          "execution_count": 43
        }
      ]
    },
    {
      "cell_type": "markdown",
      "metadata": {
        "id": "0u0_bxa9LLyX",
        "colab_type": "text"
      },
      "source": [
        "# Missing Data\n",
        "\n",
        "**Let's explore this missing data columns. We use a variety of factors to decide whether or not they would be useful, to see if we should keep, discard, or fill in the missing data.**"
      ]
    },
    {
      "cell_type": "markdown",
      "metadata": {
        "id": "InjzMCE3LLyY",
        "colab_type": "text"
      },
      "source": [
        "_What is the length of the dataframe?_\n",
        "\n"
      ]
    },
    {
      "cell_type": "code",
      "metadata": {
        "id": "QZxLS-NwLLyY",
        "colab_type": "code",
        "outputId": "491d0400-03a2-47b2-9b97-95f36a8f677b",
        "colab": {
          "base_uri": "https://localhost:8080/",
          "height": 34
        }
      },
      "source": [
        "len(df)"
      ],
      "execution_count": 44,
      "outputs": [
        {
          "output_type": "execute_result",
          "data": {
            "text/plain": [
              "396030"
            ]
          },
          "metadata": {
            "tags": []
          },
          "execution_count": 44
        }
      ]
    },
    {
      "cell_type": "markdown",
      "metadata": {
        "id": "f3JWcG0JLLyb",
        "colab_type": "text"
      },
      "source": [
        "_Create a Series that displays the total count of missing values per column._"
      ]
    },
    {
      "cell_type": "code",
      "metadata": {
        "id": "xg8S9XYvLLyb",
        "colab_type": "code",
        "outputId": "90ccf768-78ae-4656-a545-f10b95ad01e2",
        "colab": {
          "base_uri": "https://localhost:8080/",
          "height": 510
        }
      },
      "source": [
        "df.isnull().sum().sort_values()"
      ],
      "execution_count": 45,
      "outputs": [
        {
          "output_type": "execute_result",
          "data": {
            "text/plain": [
              "loan_amnt                   0\n",
              "application_type            0\n",
              "initial_list_status         0\n",
              "total_acc                   0\n",
              "revol_bal                   0\n",
              "pub_rec                     0\n",
              "open_acc                    0\n",
              "earliest_cr_line            0\n",
              "dti                         0\n",
              "address                     0\n",
              "loan_status                 0\n",
              "purpose                     0\n",
              "verification_status         0\n",
              "annual_inc                  0\n",
              "home_ownership              0\n",
              "sub_grade                   0\n",
              "grade                       0\n",
              "installment                 0\n",
              "int_rate                    0\n",
              "term                        0\n",
              "issue_d                     0\n",
              "loan_repaid                 0\n",
              "revol_util                276\n",
              "pub_rec_bankruptcies      535\n",
              "title                    1755\n",
              "emp_length              18301\n",
              "emp_title               22927\n",
              "mort_acc                37795\n",
              "dtype: int64"
            ]
          },
          "metadata": {
            "tags": []
          },
          "execution_count": 45
        }
      ]
    },
    {
      "cell_type": "markdown",
      "metadata": {
        "id": "L-PQlcbRLLyd",
        "colab_type": "text"
      },
      "source": [
        "_Convert this Series to be in term of percentage of the total DataFrame_"
      ]
    },
    {
      "cell_type": "code",
      "metadata": {
        "id": "1oC_feJzLLyd",
        "colab_type": "code",
        "outputId": "b47f12f2-6ab9-40b8-856a-ad4da6e7f1a8",
        "colab": {
          "base_uri": "https://localhost:8080/",
          "height": 510
        }
      },
      "source": [
        "((df.isnull().sum()/len(df))*100).sort_values()"
      ],
      "execution_count": 46,
      "outputs": [
        {
          "output_type": "execute_result",
          "data": {
            "text/plain": [
              "loan_amnt               0.000000\n",
              "application_type        0.000000\n",
              "initial_list_status     0.000000\n",
              "total_acc               0.000000\n",
              "revol_bal               0.000000\n",
              "pub_rec                 0.000000\n",
              "open_acc                0.000000\n",
              "earliest_cr_line        0.000000\n",
              "dti                     0.000000\n",
              "address                 0.000000\n",
              "loan_status             0.000000\n",
              "purpose                 0.000000\n",
              "verification_status     0.000000\n",
              "annual_inc              0.000000\n",
              "home_ownership          0.000000\n",
              "sub_grade               0.000000\n",
              "grade                   0.000000\n",
              "installment             0.000000\n",
              "int_rate                0.000000\n",
              "term                    0.000000\n",
              "issue_d                 0.000000\n",
              "loan_repaid             0.000000\n",
              "revol_util              0.069692\n",
              "pub_rec_bankruptcies    0.135091\n",
              "title                   0.443148\n",
              "emp_length              4.621115\n",
              "emp_title               5.789208\n",
              "mort_acc                9.543469\n",
              "dtype: float64"
            ]
          },
          "metadata": {
            "tags": []
          },
          "execution_count": 46
        }
      ]
    },
    {
      "cell_type": "code",
      "metadata": {
        "id": "mkHZZQCzLLyf",
        "colab_type": "code",
        "outputId": "0d2dd1dc-4c63-45eb-ef63-e1b8c09284d6",
        "colab": {
          "base_uri": "https://localhost:8080/",
          "height": 385
        }
      },
      "source": [
        "plt.figure(figsize=(6,4))\n",
        "((df.isnull().sum()/len(df))*100).sort_values().plot(kind='bar')"
      ],
      "execution_count": 47,
      "outputs": [
        {
          "output_type": "execute_result",
          "data": {
            "text/plain": [
              "<matplotlib.axes._subplots.AxesSubplot at 0x7fd9ace62780>"
            ]
          },
          "metadata": {
            "tags": []
          },
          "execution_count": 47
        },
        {
          "output_type": "display_data",
          "data": {
            "image/png": "[encoded data removed]",
            "text/plain": [
              "<Figure size 432x288 with 1 Axes>"
            ]
          },
          "metadata": {
            "tags": []
          }
        }
      ]
    },
    {
      "cell_type": "code",
      "metadata": {
        "id": "saGsMhrKWcSJ",
        "colab_type": "code",
        "outputId": "bc08d9be-c971-466e-c6f1-defe7f56047c",
        "colab": {
          "base_uri": "https://localhost:8080/",
          "height": 615
        }
      },
      "source": [
        "plt.figure(figsize=(12,8))\n",
        "sns.heatmap(df.isnull(), cmap='viridis')\n",
        "plt.title('missing data columns')"
      ],
      "execution_count": 48,
      "outputs": [
        {
          "output_type": "execute_result",
          "data": {
            "text/plain": [
              "Text(0.5, 1.0, 'missing data columns')"
            ]
          },
          "metadata": {
            "tags": []
          },
          "execution_count": 48
        },
        {
          "output_type": "display_data",
          "data": {
            "image/png": "[encoded data removed]",
            "text/plain": [
              "<Figure size 864x576 with 2 Axes>"
            ]
          },
          "metadata": {
            "tags": []
          }
        }
      ]
    },
    {
      "cell_type": "markdown",
      "metadata": {
        "id": "KqQ78xWCLLyg",
        "colab_type": "text"
      },
      "source": [
        "_Let's examine emp_title and emp_length to see whether it will be okay to drop them. Print out their feature information using the feat_info() function from the top of this notebook._"
      ]
    },
    {
      "cell_type": "code",
      "metadata": {
        "id": "iZ43XoGHLLyg",
        "colab_type": "code",
        "outputId": "6cafb59a-512d-439c-86a9-78ac5429179c",
        "colab": {
          "base_uri": "https://localhost:8080/",
          "height": 34
        }
      },
      "source": [
        " feat_info('emp_title') "
      ],
      "execution_count": 49,
      "outputs": [
        {
          "output_type": "stream",
          "text": [
            "The job title supplied by the Borrower when applying for the loan.*\n"
          ],
          "name": "stdout"
        }
      ]
    },
    {
      "cell_type": "code",
      "metadata": {
        "id": "opE6pf5FLLyh",
        "colab_type": "code",
        "outputId": "694f34e4-6710-43dc-ba24-3c20874efaf8",
        "colab": {
          "base_uri": "https://localhost:8080/",
          "height": 34
        }
      },
      "source": [
        " feat_info('emp_length') "
      ],
      "execution_count": 50,
      "outputs": [
        {
          "output_type": "stream",
          "text": [
            "Employment length in years. Possible values are between 0 and 10 where 0 means less than one year and 10 means ten or more years. \n"
          ],
          "name": "stdout"
        }
      ]
    },
    {
      "cell_type": "markdown",
      "metadata": {
        "id": "qGG5KBLWLLyj",
        "colab_type": "text"
      },
      "source": [
        "_How many unique employment job titles are there?_"
      ]
    },
    {
      "cell_type": "code",
      "metadata": {
        "id": "kBS_r3pLLLyj",
        "colab_type": "code",
        "outputId": "66494a8b-305e-41bc-ccfc-499c8fe20f46",
        "colab": {
          "base_uri": "https://localhost:8080/",
          "height": 34
        }
      },
      "source": [
        "df['emp_title'].nunique()"
      ],
      "execution_count": 51,
      "outputs": [
        {
          "output_type": "execute_result",
          "data": {
            "text/plain": [
              "173105"
            ]
          },
          "metadata": {
            "tags": []
          },
          "execution_count": 51
        }
      ]
    },
    {
      "cell_type": "code",
      "metadata": {
        "id": "l2KRB2xJLLyk",
        "colab_type": "code",
        "outputId": "e10b539f-caf5-49f0-8b29-b02439253a6f",
        "colab": {
          "base_uri": "https://localhost:8080/",
          "height": 68
        }
      },
      "source": [
        "df['emp_title'].unique()"
      ],
      "execution_count": 52,
      "outputs": [
        {
          "output_type": "execute_result",
          "data": {
            "text/plain": [
              "array(['Marketing', 'Credit analyst ', 'Statistician', ...,\n",
              "       \"Michael's Arts & Crafts\", 'licensed bankere',\n",
              "       'Gracon Services, Inc'], dtype=object)"
            ]
          },
          "metadata": {
            "tags": []
          },
          "execution_count": 52
        }
      ]
    },
    {
      "cell_type": "code",
      "metadata": {
        "id": "IhfcwkSj5rfd",
        "colab_type": "code",
        "outputId": "6e6fd23f-bdee-4766-b87a-da3dc06cb79e",
        "colab": {
          "base_uri": "https://localhost:8080/",
          "height": 221
        }
      },
      "source": [
        "df['emp_title'].value_counts()"
      ],
      "execution_count": 53,
      "outputs": [
        {
          "output_type": "execute_result",
          "data": {
            "text/plain": [
              "Teacher                         4389\n",
              "Manager                         4250\n",
              "Registered Nurse                1856\n",
              "RN                              1846\n",
              "Supervisor                      1830\n",
              "                                ... \n",
              "Mail man                           1\n",
              "Activity Aide/CNA/Unit Clerk       1\n",
              "Warren County                      1\n",
              "Real Solutions Info                1\n",
              "Servpro of St. George              1\n",
              "Name: emp_title, Length: 173105, dtype: int64"
            ]
          },
          "metadata": {
            "tags": []
          },
          "execution_count": 53
        }
      ]
    },
    {
      "cell_type": "markdown",
      "metadata": {
        "id": "GZqptV0nLLym",
        "colab_type": "text"
      },
      "source": [
        "_Realistically there are too many unique job titles to \n",
        "try to convert this to a dummy variable feature. Let's remove that emp_title column._"
      ]
    },
    {
      "cell_type": "code",
      "metadata": {
        "id": "teR2fjqoLLym",
        "colab_type": "code",
        "colab": {}
      },
      "source": [
        "df = df.drop('emp_title', axis=1)"
      ],
      "execution_count": 0,
      "outputs": []
    },
    {
      "cell_type": "markdown",
      "metadata": {
        "id": "iL1p6LGILLyo",
        "colab_type": "text"
      },
      "source": [
        "_Create a count plot of the emp_length feature column. Challenge: Sort the order of the values._"
      ]
    },
    {
      "cell_type": "code",
      "metadata": {
        "id": "RrFTxeKQDdhE",
        "colab_type": "code",
        "outputId": "644d4e5b-8234-445d-fea7-99ed366ba13d",
        "colab": {
          "base_uri": "https://localhost:8080/",
          "height": 204
        }
      },
      "source": [
        "sorted(df['emp_length'].dropna().unique())"
      ],
      "execution_count": 55,
      "outputs": [
        {
          "output_type": "execute_result",
          "data": {
            "text/plain": [
              "['1 year',\n",
              " '10+ years',\n",
              " '2 years',\n",
              " '3 years',\n",
              " '4 years',\n",
              " '5 years',\n",
              " '6 years',\n",
              " '7 years',\n",
              " '8 years',\n",
              " '9 years',\n",
              " '< 1 year']"
            ]
          },
          "metadata": {
            "tags": []
          },
          "execution_count": 55
        }
      ]
    },
    {
      "cell_type": "code",
      "metadata": {
        "id": "swB-ZSoaLLyp",
        "colab_type": "code",
        "outputId": "09cd2764-3dce-4bb6-c444-e1d781db73ff",
        "colab": {
          "base_uri": "https://localhost:8080/",
          "height": 531
        }
      },
      "source": [
        "# I will copy the result from SORTED and manage the '< ' symbol\n",
        "\n",
        "plt.figure(figsize=(12,8))\n",
        "total = len(df['emp_length'])*1\n",
        "emp_length_order = [ '< 1 year',\n",
        "                      '1 year',\n",
        "                     '2 years',\n",
        "                     '3 years',\n",
        "                     '4 years',\n",
        "                     '5 years',\n",
        "                     '6 years',\n",
        "                     '7 years',\n",
        "                     '8 years',\n",
        "                     '9 years',\n",
        "                     '10+ years']\n",
        "\n",
        "ax = sns.countplot(df['emp_length'], order= emp_length_order, hue=df['loan_status'])\n",
        "\n",
        "################## printing the frequency\n",
        "for p in ax.patches:\n",
        "        ax.annotate('{:.1f}%'.format(100*p.get_height()/total), (p.get_x()+0.1, p.get_height()+5))\n",
        "\n",
        "#put 11 ticks (therefore 10 steps), from 0 to the total number of rows in the dataframe\n",
        "ax.yaxis.set_ticks(np.linspace(0, total, 2))\n",
        "\n",
        "#adjust the ticklabel to the desired format, without changing the position of the ticks. \n",
        "_ = ax.set_yticklabels(map('{:.1f}%'.format, 100*ax.yaxis.get_majorticklocs()/total))\n",
        "\n",
        "plt.title('Count of employee_length')\n"
      ],
      "execution_count": 57,
      "outputs": [
        {
          "output_type": "execute_result",
          "data": {
            "text/plain": [
              "Text(0.5, 1.0, 'Count of employee_length')"
            ]
          },
          "metadata": {
            "tags": []
          },
          "execution_count": 57
        },
        {
          "output_type": "display_data",
          "data": {
            "image/png": "[encoded data removed]",
            "text/plain": [
              "<Figure size 864x576 with 1 Axes>"
            ]
          },
          "metadata": {
            "tags": []
          }
        }
      ]
    },
    {
      "cell_type": "markdown",
      "metadata": {
        "id": "IOGFxazALLyt",
        "colab_type": "text"
      },
      "source": [
        "_Plot out the countplot with a hue separating Fully Paid vs Charged Off_"
      ]
    },
    {
      "cell_type": "code",
      "metadata": {
        "id": "_1ryngl-LLyu",
        "colab_type": "code",
        "outputId": "628c67ce-a306-49c6-eb83-26ca065955db",
        "colab": {
          "base_uri": "https://localhost:8080/",
          "height": 515
        }
      },
      "source": [
        "plt.figure(figsize=(12,8))\n",
        "sns.countplot(df['emp_length'], order= emp_length_order, hue=df['loan_status'])"
      ],
      "execution_count": 58,
      "outputs": [
        {
          "output_type": "execute_result",
          "data": {
            "text/plain": [
              "<matplotlib.axes._subplots.AxesSubplot at 0x7fd9acc397f0>"
            ]
          },
          "metadata": {
            "tags": []
          },
          "execution_count": 58
        },
        {
          "output_type": "display_data",
          "data": {
            "image/png": "[encoded data removed]",
            "text/plain": [
              "<Figure size 864x576 with 1 Axes>"
            ]
          },
          "metadata": {
            "tags": []
          }
        }
      ]
    },
    {
      "cell_type": "markdown",
      "metadata": {
        "id": "UUj_oRTvLLyw",
        "colab_type": "text"
      },
      "source": [
        "_CHALLENGE TASK: This still doesn't really inform us if there is a strong relationship between employment length and being charged off._\n",
        "* what we want is the percentage of charge offs per category. \n",
        "\n",
        "* Essentially informing us what percent of people per employment category didn't pay back their loan. There are a multitude of ways to create this Series. Once you've created it, see if visualize it with a [bar plot](https://pandas.pydata.org/pandas-docs/version/0.23.4/generated/pandas.DataFrame.plot.html). This may be tricky, refer to solutions if you get stuck on creating this Series."
      ]
    },
    {
      "cell_type": "code",
      "metadata": {
        "id": "QYh0UKUwLLyy",
        "colab_type": "code",
        "outputId": "4b85e3ba-1cd3-4914-80c0-4d74a2d1f055",
        "colab": {
          "base_uri": "https://localhost:8080/",
          "height": 136
        }
      },
      "source": [
        "emp_co= df[df['loan_status']=='Charged Off'].groupby('emp_length').count()['loan_status']\n",
        "emp_co.head()"
      ],
      "execution_count": 59,
      "outputs": [
        {
          "output_type": "execute_result",
          "data": {
            "text/plain": [
              "emp_length\n",
              "1 year        5154\n",
              "10+ years    23215\n",
              "2 years       6924\n",
              "3 years       6182\n",
              "4 years       4608\n",
              "Name: loan_status, dtype: int64"
            ]
          },
          "metadata": {
            "tags": []
          },
          "execution_count": 59
        }
      ]
    },
    {
      "cell_type": "code",
      "metadata": {
        "id": "3nUNy9JmLLyz",
        "colab_type": "code",
        "outputId": "b0fb011d-1681-4248-b44e-666c0e961887",
        "colab": {
          "base_uri": "https://localhost:8080/",
          "height": 136
        }
      },
      "source": [
        "emp_fp = df[df['loan_status']=='Fully Paid'].groupby(df['emp_length'].dropna()).count()['loan_status']\n",
        "emp_fp.head()"
      ],
      "execution_count": 60,
      "outputs": [
        {
          "output_type": "execute_result",
          "data": {
            "text/plain": [
              "emp_length\n",
              "1 year        20728\n",
              "10+ years    102826\n",
              "2 years       28903\n",
              "3 years       25483\n",
              "4 years       19344\n",
              "Name: loan_status, dtype: int64"
            ]
          },
          "metadata": {
            "tags": []
          },
          "execution_count": 60
        }
      ]
    },
    {
      "cell_type": "markdown",
      "metadata": {
        "id": "t937xCMEFNiv",
        "colab_type": "text"
      },
      "source": [
        "_Calculating the ratio Charged_Off versus Fully_Paid_"
      ]
    },
    {
      "cell_type": "code",
      "metadata": {
        "id": "DDsZPWOqFXDJ",
        "colab_type": "code",
        "outputId": "2f0eaf73-7dfd-4488-8dec-3cd2697499b9",
        "colab": {
          "base_uri": "https://localhost:8080/",
          "height": 238
        }
      },
      "source": [
        "emp_ratio_1 = emp_co/emp_fp\n",
        "emp_ratio_1"
      ],
      "execution_count": 61,
      "outputs": [
        {
          "output_type": "execute_result",
          "data": {
            "text/plain": [
              "emp_length\n",
              "1 year       0.248649\n",
              "10+ years    0.225770\n",
              "2 years      0.239560\n",
              "3 years      0.242593\n",
              "4 years      0.238213\n",
              "5 years      0.237911\n",
              "6 years      0.233341\n",
              "7 years      0.241887\n",
              "8 years      0.249625\n",
              "9 years      0.250735\n",
              "< 1 year     0.260830\n",
              "Name: loan_status, dtype: float64"
            ]
          },
          "metadata": {
            "tags": []
          },
          "execution_count": 61
        }
      ]
    },
    {
      "cell_type": "markdown",
      "metadata": {
        "id": "zEKqucvOFpRA",
        "colab_type": "text"
      },
      "source": [
        "_The actual percent for category would be:_"
      ]
    },
    {
      "cell_type": "code",
      "metadata": {
        "id": "L_n_rhkFFuSr",
        "colab_type": "code",
        "outputId": "464158ac-4ff6-414c-c730-d903d2a0a772",
        "colab": {
          "base_uri": "https://localhost:8080/",
          "height": 238
        }
      },
      "source": [
        "emp_ratio_2 = emp_co/(emp_co + emp_fp)\n",
        "emp_ratio_2"
      ],
      "execution_count": 62,
      "outputs": [
        {
          "output_type": "execute_result",
          "data": {
            "text/plain": [
              "emp_length\n",
              "1 year       0.199135\n",
              "10+ years    0.184186\n",
              "2 years      0.193262\n",
              "3 years      0.195231\n",
              "4 years      0.192385\n",
              "5 years      0.192187\n",
              "6 years      0.189194\n",
              "7 years      0.194774\n",
              "8 years      0.199760\n",
              "9 years      0.200470\n",
              "< 1 year     0.206872\n",
              "Name: loan_status, dtype: float64"
            ]
          },
          "metadata": {
            "tags": []
          },
          "execution_count": 62
        }
      ]
    },
    {
      "cell_type": "code",
      "metadata": {
        "id": "e531c9uQLLy2",
        "colab_type": "code",
        "outputId": "8d0c6db5-8f5a-4463-a15c-dd82892f6378",
        "colab": {
          "base_uri": "https://localhost:8080/",
          "height": 464
        }
      },
      "source": [
        "plt.figure(figsize=(12,6))\n",
        "emp_ratio_2.plot(kind='bar')\n",
        "plt.title ( 'Percentage of Charged Off out of the Total Population')"
      ],
      "execution_count": 63,
      "outputs": [
        {
          "output_type": "execute_result",
          "data": {
            "text/plain": [
              "Text(0.5, 1.0, 'Percentage of Charged Off out of the Total Population')"
            ]
          },
          "metadata": {
            "tags": []
          },
          "execution_count": 63
        },
        {
          "output_type": "display_data",
          "data": {
            "image/png": "[encoded data removed]",
            "text/plain": [
              "<Figure size 864x432 with 1 Axes>"
            ]
          },
          "metadata": {
            "tags": []
          }
        }
      ]
    },
    {
      "cell_type": "markdown",
      "metadata": {
        "id": "0t4b2jszJwlr",
        "colab_type": "text"
      },
      "source": [
        "_more or less all categories have the same percentage (around 20% people from any category will not paid the loan_\n",
        "\n",
        "* people working for more than 10 years have a slightly smaller charge off rate than people working less time(one or less than one year)\n",
        "\n",
        "_The difference is extremely similar accross all employments. We can drop this feature_"
      ]
    },
    {
      "cell_type": "markdown",
      "metadata": {
        "id": "7StMXcjhLLy3",
        "colab_type": "text"
      },
      "source": [
        "_Charge off rates are extremely similar across all employment lengths. Go ahead and drop the emp_length column._"
      ]
    },
    {
      "cell_type": "code",
      "metadata": {
        "id": "6hNh4Q3SLLy3",
        "colab_type": "code",
        "colab": {}
      },
      "source": [
        "df = df.drop('emp_length', axis=1)"
      ],
      "execution_count": 0,
      "outputs": []
    },
    {
      "cell_type": "markdown",
      "metadata": {
        "id": "IqCrl7oDLLy6",
        "colab_type": "text"
      },
      "source": [
        "_Revisit the DataFrame to see what feature columns still have missing data._"
      ]
    },
    {
      "cell_type": "code",
      "metadata": {
        "id": "J2fdNlGTLLy6",
        "colab_type": "code",
        "outputId": "99496166-9b22-43ae-fbdf-79fb2c8d2e29",
        "colab": {
          "base_uri": "https://localhost:8080/",
          "height": 476
        }
      },
      "source": [
        "df.isnull().sum()"
      ],
      "execution_count": 65,
      "outputs": [
        {
          "output_type": "execute_result",
          "data": {
            "text/plain": [
              "loan_amnt                   0\n",
              "term                        0\n",
              "int_rate                    0\n",
              "installment                 0\n",
              "grade                       0\n",
              "sub_grade                   0\n",
              "home_ownership              0\n",
              "annual_inc                  0\n",
              "verification_status         0\n",
              "issue_d                     0\n",
              "loan_status                 0\n",
              "purpose                     0\n",
              "title                    1755\n",
              "dti                         0\n",
              "earliest_cr_line            0\n",
              "open_acc                    0\n",
              "pub_rec                     0\n",
              "revol_bal                   0\n",
              "revol_util                276\n",
              "total_acc                   0\n",
              "initial_list_status         0\n",
              "application_type            0\n",
              "mort_acc                37795\n",
              "pub_rec_bankruptcies      535\n",
              "address                     0\n",
              "loan_repaid                 0\n",
              "dtype: int64"
            ]
          },
          "metadata": {
            "tags": []
          },
          "execution_count": 65
        }
      ]
    },
    {
      "cell_type": "markdown",
      "metadata": {
        "id": "Cs4MHdv1LLy8",
        "colab_type": "text"
      },
      "source": [
        "_Review the title column and the purpose column. Both contain the same information?_"
      ]
    },
    {
      "cell_type": "code",
      "metadata": {
        "id": "DUCvnKIZcLvC",
        "colab_type": "code",
        "outputId": "e612f1c0-0377-4c32-a499-00f3a99f360a",
        "colab": {
          "base_uri": "https://localhost:8080/",
          "height": 204
        }
      },
      "source": [
        "df['title'].head(10)"
      ],
      "execution_count": 66,
      "outputs": [
        {
          "output_type": "execute_result",
          "data": {
            "text/plain": [
              "0                   Vacation\n",
              "1         Debt consolidation\n",
              "2    Credit card refinancing\n",
              "3    Credit card refinancing\n",
              "4      Credit Card Refinance\n",
              "5         Debt consolidation\n",
              "6           Home improvement\n",
              "7       No More Credit Cards\n",
              "8         Debt consolidation\n",
              "9         Debt Consolidation\n",
              "Name: title, dtype: object"
            ]
          },
          "metadata": {
            "tags": []
          },
          "execution_count": 66
        }
      ]
    },
    {
      "cell_type": "code",
      "metadata": {
        "id": "et8yoBt3cU0l",
        "colab_type": "code",
        "outputId": "e691c512-a408-41d6-d51b-2ffda368f870",
        "colab": {
          "base_uri": "https://localhost:8080/",
          "height": 204
        }
      },
      "source": [
        "df['purpose'].head(10)"
      ],
      "execution_count": 68,
      "outputs": [
        {
          "output_type": "execute_result",
          "data": {
            "text/plain": [
              "0              vacation\n",
              "1    debt_consolidation\n",
              "2           credit_card\n",
              "3           credit_card\n",
              "4           credit_card\n",
              "5    debt_consolidation\n",
              "6      home_improvement\n",
              "7           credit_card\n",
              "8    debt_consolidation\n",
              "9    debt_consolidation\n",
              "Name: purpose, dtype: object"
            ]
          },
          "metadata": {
            "tags": []
          },
          "execution_count": 68
        }
      ]
    },
    {
      "cell_type": "markdown",
      "metadata": {
        "id": "xjyolwglLLy_",
        "colab_type": "text"
      },
      "source": [
        "_The title column is simply a string subcategory/description of the purpose column. Go ahead and drop the title column._"
      ]
    },
    {
      "cell_type": "code",
      "metadata": {
        "id": "y1zbBnZgLLy_",
        "colab_type": "code",
        "colab": {}
      },
      "source": [
        "df = df.drop('title', axis=1)"
      ],
      "execution_count": 0,
      "outputs": []
    },
    {
      "cell_type": "markdown",
      "metadata": {
        "id": "A_IlMLZKc7_q",
        "colab_type": "text"
      },
      "source": [
        "_Lets check again what are the other features that have nulls_"
      ]
    },
    {
      "cell_type": "code",
      "metadata": {
        "id": "bTwpSsvXLLzA",
        "colab_type": "code",
        "outputId": "5fbe3b9e-84a5-4022-cf9f-71802ae70852",
        "colab": {
          "base_uri": "https://localhost:8080/",
          "height": 459
        }
      },
      "source": [
        "df.isnull().sum()"
      ],
      "execution_count": 70,
      "outputs": [
        {
          "output_type": "execute_result",
          "data": {
            "text/plain": [
              "loan_amnt                   0\n",
              "term                        0\n",
              "int_rate                    0\n",
              "installment                 0\n",
              "grade                       0\n",
              "sub_grade                   0\n",
              "home_ownership              0\n",
              "annual_inc                  0\n",
              "verification_status         0\n",
              "issue_d                     0\n",
              "loan_status                 0\n",
              "purpose                     0\n",
              "dti                         0\n",
              "earliest_cr_line            0\n",
              "open_acc                    0\n",
              "pub_rec                     0\n",
              "revol_bal                   0\n",
              "revol_util                276\n",
              "total_acc                   0\n",
              "initial_list_status         0\n",
              "application_type            0\n",
              "mort_acc                37795\n",
              "pub_rec_bankruptcies      535\n",
              "address                     0\n",
              "loan_repaid                 0\n",
              "dtype: int64"
            ]
          },
          "metadata": {
            "tags": []
          },
          "execution_count": 70
        }
      ]
    },
    {
      "cell_type": "markdown",
      "metadata": {
        "id": "xyOXkGLQLLzB",
        "colab_type": "text"
      },
      "source": [
        "---\n",
        "**NOTE: This is one of the hardest parts of the project! Refer to the solutions video if you need guidance, feel free to fill or drop the missing values of the mort_acc however you see fit! Here we're going with a very specific approach.**\n",
        "---\n",
        "_Find out what the mort_acc feature represents_"
      ]
    },
    {
      "cell_type": "code",
      "metadata": {
        "id": "oxzPPkZdLLzB",
        "colab_type": "code",
        "outputId": "0f1d9b11-f0e1-439a-a763-55aff24875ad",
        "colab": {
          "base_uri": "https://localhost:8080/",
          "height": 34
        }
      },
      "source": [
        "feat_info('mort_acc')"
      ],
      "execution_count": 71,
      "outputs": [
        {
          "output_type": "stream",
          "text": [
            "Number of mortgage accounts.\n"
          ],
          "name": "stdout"
        }
      ]
    },
    {
      "cell_type": "markdown",
      "metadata": {
        "id": "hpwhs5DNLLzE",
        "colab_type": "text"
      },
      "source": [
        "_Create a value_counts of the mort_acc column._"
      ]
    },
    {
      "cell_type": "code",
      "metadata": {
        "id": "dge_6x14Jjqu",
        "colab_type": "code",
        "outputId": "18558a3e-774a-4e18-be76-09623ce4837a",
        "colab": {
          "base_uri": "https://localhost:8080/",
          "height": 595
        }
      },
      "source": [
        "df['mort_acc'].value_counts()"
      ],
      "execution_count": 72,
      "outputs": [
        {
          "output_type": "execute_result",
          "data": {
            "text/plain": [
              "0.0     139777\n",
              "1.0      60416\n",
              "2.0      49948\n",
              "3.0      38049\n",
              "4.0      27887\n",
              "5.0      18194\n",
              "6.0      11069\n",
              "7.0       6052\n",
              "8.0       3121\n",
              "9.0       1656\n",
              "10.0       865\n",
              "11.0       479\n",
              "12.0       264\n",
              "13.0       146\n",
              "14.0       107\n",
              "15.0        61\n",
              "16.0        37\n",
              "17.0        22\n",
              "18.0        18\n",
              "19.0        15\n",
              "20.0        13\n",
              "24.0        10\n",
              "22.0         7\n",
              "21.0         4\n",
              "25.0         4\n",
              "27.0         3\n",
              "23.0         2\n",
              "32.0         2\n",
              "26.0         2\n",
              "31.0         2\n",
              "30.0         1\n",
              "28.0         1\n",
              "34.0         1\n",
              "Name: mort_acc, dtype: int64"
            ]
          },
          "metadata": {
            "tags": []
          },
          "execution_count": 72
        }
      ]
    },
    {
      "cell_type": "code",
      "metadata": {
        "id": "XwBSC6C2RWyw",
        "colab_type": "code",
        "outputId": "bce9ce59-dd97-41ef-eca8-5ce1847320bf",
        "colab": {
          "base_uri": "https://localhost:8080/",
          "height": 419
        }
      },
      "source": [
        "plt.figure(figsize=(12,6))\n",
        "\n",
        "df['mort_acc'].value_counts().plot(kind='bar')\n",
        "\n",
        "plt.title('Count Distribution of number mortage accounts', loc='left')"
      ],
      "execution_count": 73,
      "outputs": [
        {
          "output_type": "execute_result",
          "data": {
            "text/plain": [
              "Text(0.0, 1.0, 'Count Distribution of number mortage accounts')"
            ]
          },
          "metadata": {
            "tags": []
          },
          "execution_count": 73
        },
        {
          "output_type": "display_data",
          "data": {
            "image/png": "[encoded data removed]",
            "text/plain": [
              "<Figure size 864x432 with 1 Axes>"
            ]
          },
          "metadata": {
            "tags": []
          }
        }
      ]
    },
    {
      "cell_type": "markdown",
      "metadata": {
        "id": "RhGzpPgbLLzH",
        "colab_type": "text"
      },
      "source": [
        "_There are many ways we could deal with this missing data._\n",
        "* attempt to build a simple model to fill it in, such as a linear model:\n",
        "* just fill it in based on the mean of the other columns, or\n",
        "* bin the columns into categories and then set NaN as its own category. \n",
        "\n",
        "_There is no 100% correct approach! Let's review the other columsn to see which most highly correlates to mort_acc_"
      ]
    },
    {
      "cell_type": "code",
      "metadata": {
        "id": "wG2ELt27LLzH",
        "colab_type": "code",
        "outputId": "fa432587-ee7b-416d-ed21-ae9fb1909e9b",
        "colab": {
          "base_uri": "https://localhost:8080/",
          "height": 272
        }
      },
      "source": [
        "print(\"Correlation with the mort_acc column\")\n",
        "df.corr()['mort_acc'].sort_values()"
      ],
      "execution_count": 74,
      "outputs": [
        {
          "output_type": "stream",
          "text": [
            "Correlation with the mort_acc column\n"
          ],
          "name": "stdout"
        },
        {
          "output_type": "execute_result",
          "data": {
            "text/plain": [
              "int_rate               -0.082583\n",
              "dti                    -0.025439\n",
              "revol_util              0.007514\n",
              "pub_rec                 0.011552\n",
              "pub_rec_bankruptcies    0.027239\n",
              "loan_repaid             0.073111\n",
              "open_acc                0.109205\n",
              "installment             0.193694\n",
              "revol_bal               0.194925\n",
              "loan_amnt               0.222315\n",
              "annual_inc              0.236320\n",
              "total_acc               0.381072\n",
              "mort_acc                1.000000\n",
              "Name: mort_acc, dtype: float64"
            ]
          },
          "metadata": {
            "tags": []
          },
          "execution_count": 74
        }
      ]
    },
    {
      "cell_type": "code",
      "metadata": {
        "id": "MJieXHGbH5V-",
        "colab_type": "code",
        "outputId": "7d6ca1b5-b218-441b-d35e-3239170eff18",
        "colab": {
          "base_uri": "https://localhost:8080/",
          "height": 615
        }
      },
      "source": [
        "plt.figure(figsize=(10,8))\n",
        "df.corr()['mort_acc'].sort_values().plot(kind='bar')\n",
        "plt.title('Correlation with the mort_acc column')"
      ],
      "execution_count": 75,
      "outputs": [
        {
          "output_type": "execute_result",
          "data": {
            "text/plain": [
              "Text(0.5, 1.0, 'Correlation with the mort_acc column')"
            ]
          },
          "metadata": {
            "tags": []
          },
          "execution_count": 75
        },
        {
          "output_type": "display_data",
          "data": {
            "image/png": "[encoded data removed]",
            "text/plain": [
              "<Figure size 720x576 with 1 Axes>"
            ]
          },
          "metadata": {
            "tags": []
          }
        }
      ]
    },
    {
      "cell_type": "markdown",
      "metadata": {
        "id": "eu04s57LLLzK",
        "colab_type": "text"
      },
      "source": [
        "_Looks like the total_acc feature correlates with the mort_acc , this makes sense! Let's try this fillna() approach. We will group the dataframe by the total_acc and calculate their mean value. Then select just the mort_acc. To get the result below:_"
      ]
    },
    {
      "cell_type": "code",
      "metadata": {
        "id": "qPLwbYTGLLzK",
        "colab_type": "code",
        "outputId": "aea6344c-b3cd-4599-da56-ab4acb81a9a0",
        "colab": {
          "base_uri": "https://localhost:8080/",
          "height": 238
        }
      },
      "source": [
        "print(\"Mean of mort_acc column per total_acc\")\n",
        "total_acc_avg = df.groupby('total_acc').mean()['mort_acc']\n",
        "total_acc_avg.head(10)"
      ],
      "execution_count": 76,
      "outputs": [
        {
          "output_type": "stream",
          "text": [
            "Mean of mort_acc column per total_acc\n"
          ],
          "name": "stdout"
        },
        {
          "output_type": "execute_result",
          "data": {
            "text/plain": [
              "total_acc\n",
              "2.0     0.000000\n",
              "3.0     0.052023\n",
              "4.0     0.066743\n",
              "5.0     0.103289\n",
              "6.0     0.151293\n",
              "7.0     0.221695\n",
              "8.0     0.308422\n",
              "9.0     0.365499\n",
              "10.0    0.429158\n",
              "11.0    0.526570\n",
              "Name: mort_acc, dtype: float64"
            ]
          },
          "metadata": {
            "tags": []
          },
          "execution_count": 76
        }
      ]
    },
    {
      "cell_type": "code",
      "metadata": {
        "id": "u-qBQKs4o-4j",
        "colab_type": "code",
        "outputId": "262ce97a-8a49-456a-f089-0005e2cfe902",
        "colab": {
          "base_uri": "https://localhost:8080/",
          "height": 34
        }
      },
      "source": [
        "total_acc_avg[9.0]"
      ],
      "execution_count": 77,
      "outputs": [
        {
          "output_type": "execute_result",
          "data": {
            "text/plain": [
              "0.36549925484351714"
            ]
          },
          "metadata": {
            "tags": []
          },
          "execution_count": 77
        }
      ]
    },
    {
      "cell_type": "markdown",
      "metadata": {
        "id": "cZBHc94rLLzN",
        "colab_type": "text"
      },
      "source": [
        "_Let's fill in the missing mort_acc values based on their total_acc value._\n",
        "\n",
        "* If the mort_acc is missing, then we will fill in that missing value with the mean value corresponding to its total_acc value from the Series we created above.\n",
        "* This involves using an .apply() method with two columns. Check out the link below for more info.\n",
        "\n",
        "[Helpful Link](https://stackoverflow.com/questions/13331698/how-to-apply-a-function-to-two-columns-of-pandas-dataframe) "
      ]
    },
    {
      "cell_type": "code",
      "metadata": {
        "id": "ctVBOgAfLLzO",
        "colab_type": "code",
        "colab": {}
      },
      "source": [
        "def fill_mort_acc(total_acc,mort_acc):\n",
        "    '''\n",
        "    Accepts the total_acc and mort_acc values for the row.\n",
        "    Checks if the mort_acc is NaN , if so, it returns the avg mort_acc value\n",
        "    for the corresponding total_acc value for that row.\n",
        "    \n",
        "    total_acc_avg here should be a Series or dictionary containing the mapping of the\n",
        "    groupby averages of mort_acc per total_acc values.\n",
        "    '''\n",
        "    if np.isnan(mort_acc):\n",
        "        return total_acc_avg[total_acc]\n",
        "    else:\n",
        "        return mort_acc"
      ],
      "execution_count": 0,
      "outputs": []
    },
    {
      "cell_type": "code",
      "metadata": {
        "id": "CqGgzIFaLLzN",
        "colab_type": "code",
        "colab": {}
      },
      "source": [
        "df['mort_acc'] = df.apply(lambda x: fill_mort_acc(x['total_acc'], x['mort_acc']), axis=1 )"
      ],
      "execution_count": 0,
      "outputs": []
    },
    {
      "cell_type": "code",
      "metadata": {
        "id": "Vc1wWv5jLLzP",
        "colab_type": "code",
        "outputId": "9b463e05-07bd-4506-e326-680331dfe843",
        "colab": {
          "base_uri": "https://localhost:8080/",
          "height": 459
        }
      },
      "source": [
        "df.isnull().sum()"
      ],
      "execution_count": 80,
      "outputs": [
        {
          "output_type": "execute_result",
          "data": {
            "text/plain": [
              "loan_amnt                 0\n",
              "term                      0\n",
              "int_rate                  0\n",
              "installment               0\n",
              "grade                     0\n",
              "sub_grade                 0\n",
              "home_ownership            0\n",
              "annual_inc                0\n",
              "verification_status       0\n",
              "issue_d                   0\n",
              "loan_status               0\n",
              "purpose                   0\n",
              "dti                       0\n",
              "earliest_cr_line          0\n",
              "open_acc                  0\n",
              "pub_rec                   0\n",
              "revol_bal                 0\n",
              "revol_util              276\n",
              "total_acc                 0\n",
              "initial_list_status       0\n",
              "application_type          0\n",
              "mort_acc                  0\n",
              "pub_rec_bankruptcies    535\n",
              "address                   0\n",
              "loan_repaid               0\n",
              "dtype: int64"
            ]
          },
          "metadata": {
            "tags": []
          },
          "execution_count": 80
        }
      ]
    },
    {
      "cell_type": "markdown",
      "metadata": {
        "id": "5Ea1fkPkLLzT",
        "colab_type": "text"
      },
      "source": [
        "_revol_util and the pub_rec_bankruptcies have missing data points, but they account for less than 0.5% of the total data. Go ahead and remove the rows that are missing those values in those columns with dropna()._"
      ]
    },
    {
      "cell_type": "code",
      "metadata": {
        "id": "SyGh0QMHjlrk",
        "colab_type": "code",
        "outputId": "887145e4-802f-436c-8b0e-c0867e772213",
        "colab": {
          "base_uri": "https://localhost:8080/",
          "height": 34
        }
      },
      "source": [
        "feat_info('revol_util')"
      ],
      "execution_count": 81,
      "outputs": [
        {
          "output_type": "stream",
          "text": [
            "Revolving line utilization rate, or the amount of credit the borrower is using relative to all available revolving credit.\n"
          ],
          "name": "stdout"
        }
      ]
    },
    {
      "cell_type": "code",
      "metadata": {
        "id": "lTllsaxbjpnP",
        "colab_type": "code",
        "outputId": "f267ac44-e8a5-4df3-937b-5791e495cc88",
        "colab": {
          "base_uri": "https://localhost:8080/",
          "height": 34
        }
      },
      "source": [
        "feat_info('pub_rec_bankruptcies')"
      ],
      "execution_count": 82,
      "outputs": [
        {
          "output_type": "stream",
          "text": [
            "Number of public record bankruptcies\n"
          ],
          "name": "stdout"
        }
      ]
    },
    {
      "cell_type": "code",
      "metadata": {
        "id": "M8S9o2K7LLzT",
        "colab_type": "code",
        "colab": {}
      },
      "source": [
        "df = df.dropna() # !!! if I use df.dropna(axis=1)--> il will drop te columns"
      ],
      "execution_count": 0,
      "outputs": []
    },
    {
      "cell_type": "code",
      "metadata": {
        "id": "X-QgVZDBLLzU",
        "colab_type": "code",
        "outputId": "b430f71e-05fc-4477-9e4f-e2dd063afc85",
        "colab": {
          "base_uri": "https://localhost:8080/",
          "height": 459
        }
      },
      "source": [
        "df.isnull().sum()"
      ],
      "execution_count": 84,
      "outputs": [
        {
          "output_type": "execute_result",
          "data": {
            "text/plain": [
              "loan_amnt               0\n",
              "term                    0\n",
              "int_rate                0\n",
              "installment             0\n",
              "grade                   0\n",
              "sub_grade               0\n",
              "home_ownership          0\n",
              "annual_inc              0\n",
              "verification_status     0\n",
              "issue_d                 0\n",
              "loan_status             0\n",
              "purpose                 0\n",
              "dti                     0\n",
              "earliest_cr_line        0\n",
              "open_acc                0\n",
              "pub_rec                 0\n",
              "revol_bal               0\n",
              "revol_util              0\n",
              "total_acc               0\n",
              "initial_list_status     0\n",
              "application_type        0\n",
              "mort_acc                0\n",
              "pub_rec_bankruptcies    0\n",
              "address                 0\n",
              "loan_repaid             0\n",
              "dtype: int64"
            ]
          },
          "metadata": {
            "tags": []
          },
          "execution_count": 84
        }
      ]
    },
    {
      "cell_type": "code",
      "metadata": {
        "id": "UV25D8ZEsN2C",
        "colab_type": "code",
        "outputId": "c548dc33-7c05-4ab5-c6b4-c06afe2877dc",
        "colab": {
          "base_uri": "https://localhost:8080/",
          "height": 34
        }
      },
      "source": [
        "df.shape"
      ],
      "execution_count": 85,
      "outputs": [
        {
          "output_type": "execute_result",
          "data": {
            "text/plain": [
              "(395219, 25)"
            ]
          },
          "metadata": {
            "tags": []
          },
          "execution_count": 85
        }
      ]
    },
    {
      "cell_type": "markdown",
      "metadata": {
        "id": "n1hY8Ek8LLzX",
        "colab_type": "text"
      },
      "source": [
        "## Categorical Variables and Dummy Variables\n",
        "_We're done working with the missing data! Now we just need to deal with the string values due to the categorical columns._\n",
        "\n",
        "_List all the columns that are currently non-numeric. [Helpful Link](https://stackoverflow.com/questions/22470690/get-list-of-pandas-dataframe-columns-based-on-data-type)_\n",
        "\n",
        "_[Another very useful method call](https://pandas.pydata.org/pandas-docs/stable/reference/api/pandas.DataFrame.select_dtypes.html)_"
      ]
    },
    {
      "cell_type": "code",
      "metadata": {
        "id": "NyEIISAFLLzY",
        "colab_type": "code",
        "outputId": "66ed0c8d-e0db-4182-d9b4-05697f564782",
        "colab": {
          "base_uri": "https://localhost:8080/",
          "height": 221
        }
      },
      "source": [
        "list(df.select_dtypes(['object']).columns)\n",
        "\n",
        "# other different ways to do it:\n",
        "\n",
        "# df.infer_objects().dtypes # ---> returns all the columns not just the 'object' ones\n",
        "# df.select_dtypes(include='bool')\n",
        "# df.select_dtypes(exclude=['int'])\n",
        "# df.select_dtypes(include=['float64'])\n"
      ],
      "execution_count": 86,
      "outputs": [
        {
          "output_type": "execute_result",
          "data": {
            "text/plain": [
              "['term',\n",
              " 'grade',\n",
              " 'sub_grade',\n",
              " 'home_ownership',\n",
              " 'verification_status',\n",
              " 'issue_d',\n",
              " 'loan_status',\n",
              " 'purpose',\n",
              " 'earliest_cr_line',\n",
              " 'initial_list_status',\n",
              " 'application_type',\n",
              " 'address']"
            ]
          },
          "metadata": {
            "tags": []
          },
          "execution_count": 86
        }
      ]
    },
    {
      "cell_type": "code",
      "metadata": {
        "id": "R0ybXJ2zLLza",
        "colab_type": "code",
        "colab": {}
      },
      "source": [
        "# mylist = list(df.select_dtypes(include=['bool']).columns)\n",
        "# mylist"
      ],
      "execution_count": 0,
      "outputs": []
    },
    {
      "cell_type": "markdown",
      "metadata": {
        "id": "Tu7DBRVZLLzb",
        "colab_type": "text"
      },
      "source": [
        "---\n",
        "_Let's now go through all the string features to see what we should do with them._\n",
        "---\n",
        "### term feature\n",
        "\n",
        "_Convert the term feature into either a 36 or 60 integer numeric data type using .apply() or .map()._"
      ]
    },
    {
      "cell_type": "code",
      "metadata": {
        "id": "vRFD1ckdw0Mm",
        "colab_type": "code",
        "outputId": "574d3290-6469-4d8e-9cc7-0f4bf1a59537",
        "colab": {
          "base_uri": "https://localhost:8080/",
          "height": 34
        }
      },
      "source": [
        "feat_info('term')"
      ],
      "execution_count": 87,
      "outputs": [
        {
          "output_type": "stream",
          "text": [
            "The number of payments on the loan. Values are in months and can be either 36 or 60.\n"
          ],
          "name": "stdout"
        }
      ]
    },
    {
      "cell_type": "code",
      "metadata": {
        "id": "mo20dTKwLLzb",
        "colab_type": "code",
        "outputId": "a8730630-1da4-4f02-8bbf-5758d5122968",
        "colab": {
          "base_uri": "https://localhost:8080/",
          "height": 119
        }
      },
      "source": [
        "df['term'].head(5)"
      ],
      "execution_count": 88,
      "outputs": [
        {
          "output_type": "execute_result",
          "data": {
            "text/plain": [
              "0     36 months\n",
              "1     36 months\n",
              "2     36 months\n",
              "3     36 months\n",
              "4     60 months\n",
              "Name: term, dtype: object"
            ]
          },
          "metadata": {
            "tags": []
          },
          "execution_count": 88
        }
      ]
    },
    {
      "cell_type": "code",
      "metadata": {
        "id": "zfHrOEZFLLzc",
        "colab_type": "code",
        "colab": {}
      },
      "source": [
        "df['term'] = df['term'].apply(lambda x: int(x.split(' ')[1]))\n",
        "\n",
        "# or df['term'] = df['term'].apply(lambda term: int(term[:3])) # all till the third char excluded"
      ],
      "execution_count": 0,
      "outputs": []
    },
    {
      "cell_type": "code",
      "metadata": {
        "id": "q5KoEoufLLze",
        "colab_type": "code",
        "outputId": "62e64f5c-428a-4df2-f872-54c5f25cbe9d",
        "colab": {
          "base_uri": "https://localhost:8080/",
          "height": 199
        }
      },
      "source": [
        "df.head(2)"
      ],
      "execution_count": 0,
      "outputs": [
        {
          "output_type": "execute_result",
          "data": {
            "text/html": [
              "<div>\n",
              "<style scoped>\n",
              "    .dataframe tbody tr th:only-of-type {\n",
              "        vertical-align: middle;\n",
              "    }\n",
              "\n",
              "    .dataframe tbody tr th {\n",
              "        vertical-align: top;\n",
              "    }\n",
              "\n",
              "    .dataframe thead th {\n",
              "        text-align: right;\n",
              "    }\n",
              "</style>\n",
              "<table border=\"1\" class=\"dataframe\">\n",
              "  <thead>\n",
              "    <tr style=\"text-align: right;\">\n",
              "      <th></th>\n",
              "      <th>loan_amnt</th>\n",
              "      <th>term</th>\n",
              "      <th>int_rate</th>\n",
              "      <th>installment</th>\n",
              "      <th>grade</th>\n",
              "      <th>sub_grade</th>\n",
              "      <th>home_ownership</th>\n",
              "      <th>annual_inc</th>\n",
              "      <th>verification_status</th>\n",
              "      <th>issue_d</th>\n",
              "      <th>loan_status</th>\n",
              "      <th>purpose</th>\n",
              "      <th>dti</th>\n",
              "      <th>earliest_cr_line</th>\n",
              "      <th>open_acc</th>\n",
              "      <th>pub_rec</th>\n",
              "      <th>revol_bal</th>\n",
              "      <th>revol_util</th>\n",
              "      <th>total_acc</th>\n",
              "      <th>initial_list_status</th>\n",
              "      <th>application_type</th>\n",
              "      <th>mort_acc</th>\n",
              "      <th>pub_rec_bankruptcies</th>\n",
              "      <th>address</th>\n",
              "      <th>loan_repaid</th>\n",
              "    </tr>\n",
              "  </thead>\n",
              "  <tbody>\n",
              "    <tr>\n",
              "      <th>0</th>\n",
              "      <td>10000.0</td>\n",
              "      <td>36</td>\n",
              "      <td>11.44</td>\n",
              "      <td>329.48</td>\n",
              "      <td>B</td>\n",
              "      <td>B4</td>\n",
              "      <td>RENT</td>\n",
              "      <td>117000.0</td>\n",
              "      <td>Not Verified</td>\n",
              "      <td>Jan-2015</td>\n",
              "      <td>Fully Paid</td>\n",
              "      <td>vacation</td>\n",
              "      <td>26.24</td>\n",
              "      <td>Jun-1990</td>\n",
              "      <td>16.0</td>\n",
              "      <td>0.0</td>\n",
              "      <td>36369.0</td>\n",
              "      <td>41.8</td>\n",
              "      <td>25.0</td>\n",
              "      <td>w</td>\n",
              "      <td>INDIVIDUAL</td>\n",
              "      <td>0.0</td>\n",
              "      <td>0.0</td>\n",
              "      <td>0174 Michelle Gateway\\nMendozaberg, OK 22690</td>\n",
              "      <td>1</td>\n",
              "    </tr>\n",
              "    <tr>\n",
              "      <th>1</th>\n",
              "      <td>8000.0</td>\n",
              "      <td>36</td>\n",
              "      <td>11.99</td>\n",
              "      <td>265.68</td>\n",
              "      <td>B</td>\n",
              "      <td>B5</td>\n",
              "      <td>MORTGAGE</td>\n",
              "      <td>65000.0</td>\n",
              "      <td>Not Verified</td>\n",
              "      <td>Jan-2015</td>\n",
              "      <td>Fully Paid</td>\n",
              "      <td>debt_consolidation</td>\n",
              "      <td>22.05</td>\n",
              "      <td>Jul-2004</td>\n",
              "      <td>17.0</td>\n",
              "      <td>0.0</td>\n",
              "      <td>20131.0</td>\n",
              "      <td>53.3</td>\n",
              "      <td>27.0</td>\n",
              "      <td>f</td>\n",
              "      <td>INDIVIDUAL</td>\n",
              "      <td>3.0</td>\n",
              "      <td>0.0</td>\n",
              "      <td>1076 Carney Fort Apt. 347\\nLoganmouth, SD 05113</td>\n",
              "      <td>1</td>\n",
              "    </tr>\n",
              "  </tbody>\n",
              "</table>\n",
              "</div>"
            ],
            "text/plain": [
              "   loan_amnt  ...  loan_repaid\n",
              "0    10000.0  ...            1\n",
              "1     8000.0  ...            1\n",
              "\n",
              "[2 rows x 25 columns]"
            ]
          },
          "metadata": {
            "tags": []
          },
          "execution_count": 86
        }
      ]
    },
    {
      "cell_type": "code",
      "metadata": {
        "id": "uW3Hn6KiydMS",
        "colab_type": "code",
        "outputId": "a2f19095-6093-4786-aad3-41f1999327f4",
        "colab": {
          "base_uri": "https://localhost:8080/",
          "height": 204
        }
      },
      "source": [
        "list(df.select_dtypes(['object']).columns)"
      ],
      "execution_count": 90,
      "outputs": [
        {
          "output_type": "execute_result",
          "data": {
            "text/plain": [
              "['grade',\n",
              " 'sub_grade',\n",
              " 'home_ownership',\n",
              " 'verification_status',\n",
              " 'issue_d',\n",
              " 'loan_status',\n",
              " 'purpose',\n",
              " 'earliest_cr_line',\n",
              " 'initial_list_status',\n",
              " 'application_type',\n",
              " 'address']"
            ]
          },
          "metadata": {
            "tags": []
          },
          "execution_count": 90
        }
      ]
    },
    {
      "cell_type": "markdown",
      "metadata": {
        "id": "ODrSZdcdLLzg",
        "colab_type": "text"
      },
      "source": [
        "### grade feature\n",
        "_We already know grade is part of sub_grade, so just drop the grade feature._"
      ]
    },
    {
      "cell_type": "code",
      "metadata": {
        "id": "WnL58ZfLLLzg",
        "colab_type": "code",
        "colab": {}
      },
      "source": [
        "df = df.drop('grade', axis=1)"
      ],
      "execution_count": 0,
      "outputs": []
    },
    {
      "cell_type": "markdown",
      "metadata": {
        "id": "GO7M43tLLLzi",
        "colab_type": "text"
      },
      "source": [
        "_Convert the subgrade into dummy variables. Then concatenate these new columns to the original dataframe. Remember to drop the original subgrade column and to add drop_first=True to your get_dummies call._"
      ]
    },
    {
      "cell_type": "code",
      "metadata": {
        "id": "6wHJttI1LLzi",
        "colab_type": "code",
        "outputId": "c5c5f096-c290-484a-f534-4e0fbbe05ff1",
        "colab": {
          "base_uri": "https://localhost:8080/",
          "height": 111
        }
      },
      "source": [
        "subgrade_dummies = pd.get_dummies(df['sub_grade'], drop_first=True)\n",
        "subgrade_dummies.head(2)"
      ],
      "execution_count": 92,
      "outputs": [
        {
          "output_type": "execute_result",
          "data": {
            "text/html": [
              "<div>\n",
              "<style scoped>\n",
              "    .dataframe tbody tr th:only-of-type {\n",
              "        vertical-align: middle;\n",
              "    }\n",
              "\n",
              "    .dataframe tbody tr th {\n",
              "        vertical-align: top;\n",
              "    }\n",
              "\n",
              "    .dataframe thead th {\n",
              "        text-align: right;\n",
              "    }\n",
              "</style>\n",
              "<table border=\"1\" class=\"dataframe\">\n",
              "  <thead>\n",
              "    <tr style=\"text-align: right;\">\n",
              "      <th></th>\n",
              "      <th>A2</th>\n",
              "      <th>A3</th>\n",
              "      <th>A4</th>\n",
              "      <th>A5</th>\n",
              "      <th>B1</th>\n",
              "      <th>B2</th>\n",
              "      <th>B3</th>\n",
              "      <th>B4</th>\n",
              "      <th>B5</th>\n",
              "      <th>C1</th>\n",
              "      <th>C2</th>\n",
              "      <th>C3</th>\n",
              "      <th>C4</th>\n",
              "      <th>C5</th>\n",
              "      <th>D1</th>\n",
              "      <th>D2</th>\n",
              "      <th>D3</th>\n",
              "      <th>D4</th>\n",
              "      <th>D5</th>\n",
              "      <th>E1</th>\n",
              "      <th>E2</th>\n",
              "      <th>E3</th>\n",
              "      <th>E4</th>\n",
              "      <th>E5</th>\n",
              "      <th>F1</th>\n",
              "      <th>F2</th>\n",
              "      <th>F3</th>\n",
              "      <th>F4</th>\n",
              "      <th>F5</th>\n",
              "      <th>G1</th>\n",
              "      <th>G2</th>\n",
              "      <th>G3</th>\n",
              "      <th>G4</th>\n",
              "      <th>G5</th>\n",
              "    </tr>\n",
              "  </thead>\n",
              "  <tbody>\n",
              "    <tr>\n",
              "      <th>0</th>\n",
              "      <td>0</td>\n",
              "      <td>0</td>\n",
              "      <td>0</td>\n",
              "      <td>0</td>\n",
              "      <td>0</td>\n",
              "      <td>0</td>\n",
              "      <td>0</td>\n",
              "      <td>1</td>\n",
              "      <td>0</td>\n",
              "      <td>0</td>\n",
              "      <td>0</td>\n",
              "      <td>0</td>\n",
              "      <td>0</td>\n",
              "      <td>0</td>\n",
              "      <td>0</td>\n",
              "      <td>0</td>\n",
              "      <td>0</td>\n",
              "      <td>0</td>\n",
              "      <td>0</td>\n",
              "      <td>0</td>\n",
              "      <td>0</td>\n",
              "      <td>0</td>\n",
              "      <td>0</td>\n",
              "      <td>0</td>\n",
              "      <td>0</td>\n",
              "      <td>0</td>\n",
              "      <td>0</td>\n",
              "      <td>0</td>\n",
              "      <td>0</td>\n",
              "      <td>0</td>\n",
              "      <td>0</td>\n",
              "      <td>0</td>\n",
              "      <td>0</td>\n",
              "      <td>0</td>\n",
              "    </tr>\n",
              "    <tr>\n",
              "      <th>1</th>\n",
              "      <td>0</td>\n",
              "      <td>0</td>\n",
              "      <td>0</td>\n",
              "      <td>0</td>\n",
              "      <td>0</td>\n",
              "      <td>0</td>\n",
              "      <td>0</td>\n",
              "      <td>0</td>\n",
              "      <td>1</td>\n",
              "      <td>0</td>\n",
              "      <td>0</td>\n",
              "      <td>0</td>\n",
              "      <td>0</td>\n",
              "      <td>0</td>\n",
              "      <td>0</td>\n",
              "      <td>0</td>\n",
              "      <td>0</td>\n",
              "      <td>0</td>\n",
              "      <td>0</td>\n",
              "      <td>0</td>\n",
              "      <td>0</td>\n",
              "      <td>0</td>\n",
              "      <td>0</td>\n",
              "      <td>0</td>\n",
              "      <td>0</td>\n",
              "      <td>0</td>\n",
              "      <td>0</td>\n",
              "      <td>0</td>\n",
              "      <td>0</td>\n",
              "      <td>0</td>\n",
              "      <td>0</td>\n",
              "      <td>0</td>\n",
              "      <td>0</td>\n",
              "      <td>0</td>\n",
              "    </tr>\n",
              "  </tbody>\n",
              "</table>\n",
              "</div>"
            ],
            "text/plain": [
              "   A2  A3  A4  A5  B1  B2  B3  B4  B5  ...  F2  F3  F4  F5  G1  G2  G3  G4  G5\n",
              "0   0   0   0   0   0   0   0   1   0  ...   0   0   0   0   0   0   0   0   0\n",
              "1   0   0   0   0   0   0   0   0   1  ...   0   0   0   0   0   0   0   0   0\n",
              "\n",
              "[2 rows x 34 columns]"
            ]
          },
          "metadata": {
            "tags": []
          },
          "execution_count": 92
        }
      ]
    },
    {
      "cell_type": "code",
      "metadata": {
        "id": "9IHE57IsLLzj",
        "colab_type": "code",
        "colab": {}
      },
      "source": [
        "df = pd.concat([df.drop('sub_grade',axis=1), subgrade_dummies], axis=1)"
      ],
      "execution_count": 0,
      "outputs": []
    },
    {
      "cell_type": "code",
      "metadata": {
        "id": "NzUOxOW-LLzl",
        "colab_type": "code",
        "outputId": "07ba0656-f233-4aa4-9db3-6e2dde05c63d",
        "colab": {
          "base_uri": "https://localhost:8080/",
          "height": 170
        }
      },
      "source": [
        "list(df.select_dtypes(['object']).columns)"
      ],
      "execution_count": 94,
      "outputs": [
        {
          "output_type": "execute_result",
          "data": {
            "text/plain": [
              "['home_ownership',\n",
              " 'verification_status',\n",
              " 'issue_d',\n",
              " 'loan_status',\n",
              " 'purpose',\n",
              " 'earliest_cr_line',\n",
              " 'initial_list_status',\n",
              " 'application_type',\n",
              " 'address']"
            ]
          },
          "metadata": {
            "tags": []
          },
          "execution_count": 94
        }
      ]
    },
    {
      "cell_type": "markdown",
      "metadata": {
        "id": "D0HDIfFWLLzm",
        "colab_type": "text"
      },
      "source": [
        "### verification_status, \n",
        "### application_type,\n",
        "### initial_list_status,\n",
        "### purpose "
      ]
    },
    {
      "cell_type": "code",
      "metadata": {
        "id": "OmG1ggbQLLzm",
        "colab_type": "code",
        "outputId": "c1b95a2e-5b7e-462b-86ba-26f4ce0fc879",
        "colab": {
          "base_uri": "https://localhost:8080/",
          "height": 85
        }
      },
      "source": [
        "df['verification_status'].value_counts()"
      ],
      "execution_count": 95,
      "outputs": [
        {
          "output_type": "execute_result",
          "data": {
            "text/plain": [
              "Verified           139451\n",
              "Source Verified    131301\n",
              "Not Verified       124467\n",
              "Name: verification_status, dtype: int64"
            ]
          },
          "metadata": {
            "tags": []
          },
          "execution_count": 95
        }
      ]
    },
    {
      "cell_type": "code",
      "metadata": {
        "id": "lARE6pRaLLzn",
        "colab_type": "code",
        "outputId": "a555404c-8f78-403f-ab2d-3923fa88a386",
        "colab": {
          "base_uri": "https://localhost:8080/",
          "height": 85
        }
      },
      "source": [
        "df['application_type'].value_counts()\n"
      ],
      "execution_count": 96,
      "outputs": [
        {
          "output_type": "execute_result",
          "data": {
            "text/plain": [
              "INDIVIDUAL    394508\n",
              "JOINT            425\n",
              "DIRECT_PAY       286\n",
              "Name: application_type, dtype: int64"
            ]
          },
          "metadata": {
            "tags": []
          },
          "execution_count": 96
        }
      ]
    },
    {
      "cell_type": "code",
      "metadata": {
        "id": "sZn7bG9dLLzo",
        "colab_type": "code",
        "outputId": "800b4e67-6cb5-444a-8615-e699285bd96b",
        "colab": {
          "base_uri": "https://localhost:8080/",
          "height": 68
        }
      },
      "source": [
        "df['initial_list_status'].value_counts()"
      ],
      "execution_count": 97,
      "outputs": [
        {
          "output_type": "execute_result",
          "data": {
            "text/plain": [
              "f    237346\n",
              "w    157873\n",
              "Name: initial_list_status, dtype: int64"
            ]
          },
          "metadata": {
            "tags": []
          },
          "execution_count": 97
        }
      ]
    },
    {
      "cell_type": "code",
      "metadata": {
        "id": "kWBmUYO47d9K",
        "colab_type": "code",
        "outputId": "c74e6752-8206-4ab7-c6e0-b3817c220b96",
        "colab": {
          "base_uri": "https://localhost:8080/",
          "height": 272
        }
      },
      "source": [
        "df['purpose'].value_counts()"
      ],
      "execution_count": 98,
      "outputs": [
        {
          "output_type": "execute_result",
          "data": {
            "text/plain": [
              "debt_consolidation    234169\n",
              "credit_card            82923\n",
              "home_improvement       23961\n",
              "other                  21059\n",
              "major_purchase          8756\n",
              "small_business          5656\n",
              "car                     4670\n",
              "medical                 4175\n",
              "moving                  2842\n",
              "vacation                2442\n",
              "house                   2197\n",
              "wedding                 1794\n",
              "renewable_energy         329\n",
              "educational              246\n",
              "Name: purpose, dtype: int64"
            ]
          },
          "metadata": {
            "tags": []
          },
          "execution_count": 98
        }
      ]
    },
    {
      "cell_type": "markdown",
      "metadata": {
        "id": "md57ckb_7tY1",
        "colab_type": "text"
      },
      "source": [
        "_Convert these columns into dummy variables and concatenate them with the original dataframe. Remember to set drop_first=True and to drop the original columns._"
      ]
    },
    {
      "cell_type": "code",
      "metadata": {
        "id": "VOAwXYuk7m0c",
        "colab_type": "code",
        "colab": {}
      },
      "source": [
        "verif_dum = pd.get_dummies(df['verification_status'], drop_first=True)\n",
        "appli_dum = pd.get_dummies(df['application_type'], drop_first=True)\n",
        "initi_dum = pd.get_dummies(df['initial_list_status'], drop_first=True)\n",
        "purpo_dum = pd.get_dummies(df['purpose'], drop_first=True)"
      ],
      "execution_count": 0,
      "outputs": []
    },
    {
      "cell_type": "code",
      "metadata": {
        "id": "EErqBvW28yei",
        "colab_type": "code",
        "colab": {}
      },
      "source": [
        "df = pd.concat([df.drop(['verification_status', 'application_type', 'initial_list_status', 'purpose'], axis=1), verif_dum, appli_dum,initi_dum, purpo_dum ], axis=1)"
      ],
      "execution_count": 0,
      "outputs": []
    },
    {
      "cell_type": "code",
      "metadata": {
        "id": "wZdigN2W_ieB",
        "colab_type": "code",
        "outputId": "ba8f34d1-af7a-43f2-e0b8-319c17b2dc50",
        "colab": {
          "base_uri": "https://localhost:8080/",
          "height": 34
        }
      },
      "source": [
        "list(df.select_dtypes(['object']).columns)"
      ],
      "execution_count": 101,
      "outputs": [
        {
          "output_type": "execute_result",
          "data": {
            "text/plain": [
              "['home_ownership', 'issue_d', 'loan_status', 'earliest_cr_line', 'address']"
            ]
          },
          "metadata": {
            "tags": []
          },
          "execution_count": 101
        }
      ]
    },
    {
      "cell_type": "markdown",
      "metadata": {
        "id": "HnzQcGTcLLzr",
        "colab_type": "text"
      },
      "source": [
        "### home_ownership\n",
        "_Review the value_counts for the home_ownership column._"
      ]
    },
    {
      "cell_type": "code",
      "metadata": {
        "id": "Z_BbImqxLLzr",
        "colab_type": "code",
        "outputId": "0b674ed8-6af6-4129-c6ec-0edce251a0a9",
        "colab": {
          "base_uri": "https://localhost:8080/",
          "height": 136
        }
      },
      "source": [
        "df['home_ownership'].value_counts()"
      ],
      "execution_count": 102,
      "outputs": [
        {
          "output_type": "execute_result",
          "data": {
            "text/plain": [
              "MORTGAGE    198022\n",
              "RENT        159395\n",
              "OWN          37660\n",
              "OTHER          110\n",
              "NONE            29\n",
              "ANY              3\n",
              "Name: home_ownership, dtype: int64"
            ]
          },
          "metadata": {
            "tags": []
          },
          "execution_count": 102
        }
      ]
    },
    {
      "cell_type": "markdown",
      "metadata": {
        "id": "DN108p_4LLzu",
        "colab_type": "text"
      },
      "source": [
        "_Convert these to dummy variables, but [replace](https://pandas.pydata.org/pandas-docs/stable/reference/api/pandas.DataFrame.replace.html) NONE and ANY with OTHER, so that we end up with just 4 categories, MORTGAGE, RENT, OWN, OTHER. Then concatenate them with the original dataframe. Remember to set drop_first=True and to drop the original columns._"
      ]
    },
    {
      "cell_type": "code",
      "metadata": {
        "id": "CsjKKga9LLzu",
        "colab_type": "code",
        "colab": {}
      },
      "source": [
        "df['home_ownership']= df['home_ownership'].replace(['NONE', 'ANY'], 'OTHER')"
      ],
      "execution_count": 0,
      "outputs": []
    },
    {
      "cell_type": "code",
      "metadata": {
        "id": "szMkdu4tNvws",
        "colab_type": "code",
        "outputId": "9b46aead-f547-4a2c-c06a-2fcdfdbb2ce5",
        "colab": {
          "base_uri": "https://localhost:8080/",
          "height": 102
        }
      },
      "source": [
        "df['home_ownership'].value_counts()"
      ],
      "execution_count": 104,
      "outputs": [
        {
          "output_type": "execute_result",
          "data": {
            "text/plain": [
              "MORTGAGE    198022\n",
              "RENT        159395\n",
              "OWN          37660\n",
              "OTHER          142\n",
              "Name: home_ownership, dtype: int64"
            ]
          },
          "metadata": {
            "tags": []
          },
          "execution_count": 104
        }
      ]
    },
    {
      "cell_type": "code",
      "metadata": {
        "id": "WJYStwNLN5Sa",
        "colab_type": "code",
        "colab": {}
      },
      "source": [
        "howner_dum = pd.get_dummies(df['home_ownership'], drop_first=True )"
      ],
      "execution_count": 0,
      "outputs": []
    },
    {
      "cell_type": "code",
      "metadata": {
        "id": "zpjE09HUN5Bq",
        "colab_type": "code",
        "colab": {}
      },
      "source": [
        "df = pd.concat([df.drop('home_ownership',axis=1), howner_dum], axis=1)"
      ],
      "execution_count": 0,
      "outputs": []
    },
    {
      "cell_type": "code",
      "metadata": {
        "id": "_yOGM8NYN4gp",
        "colab_type": "code",
        "outputId": "1c107f2e-ec4a-4295-b61c-95d647b7665f",
        "colab": {
          "base_uri": "https://localhost:8080/",
          "height": 34
        }
      },
      "source": [
        "list(df.select_dtypes(['object']).columns)"
      ],
      "execution_count": 107,
      "outputs": [
        {
          "output_type": "execute_result",
          "data": {
            "text/plain": [
              "['issue_d', 'loan_status', 'earliest_cr_line', 'address']"
            ]
          },
          "metadata": {
            "tags": []
          },
          "execution_count": 107
        }
      ]
    },
    {
      "cell_type": "markdown",
      "metadata": {
        "id": "IVasd3P6LLzw",
        "colab_type": "text"
      },
      "source": [
        "### address\n",
        "_Let's feature engineer a zip code column from the address in the data set. Create a column called 'zip_code' that extracts the zip code from the address column._"
      ]
    },
    {
      "cell_type": "code",
      "metadata": {
        "id": "X2tB3x__P7ev",
        "colab_type": "code",
        "outputId": "fa88f18c-9219-476e-8c55-41ef519756c9",
        "colab": {
          "base_uri": "https://localhost:8080/",
          "height": 68
        }
      },
      "source": [
        "df['address'].head(2)"
      ],
      "execution_count": 108,
      "outputs": [
        {
          "output_type": "execute_result",
          "data": {
            "text/plain": [
              "0       0174 Michelle Gateway\\nMendozaberg, OK 22690\n",
              "1    1076 Carney Fort Apt. 347\\nLoganmouth, SD 05113\n",
              "Name: address, dtype: object"
            ]
          },
          "metadata": {
            "tags": []
          },
          "execution_count": 108
        }
      ]
    },
    {
      "cell_type": "code",
      "metadata": {
        "id": "2SNYJE0GLLzw",
        "colab_type": "code",
        "colab": {}
      },
      "source": [
        "df['zip_code'] = df['address'].apply(lambda x: x.split(' ')[-1])\n",
        "\n",
        "# or df['zip_code'] = df['address'].apply(lambda x: x[-5:])"
      ],
      "execution_count": 0,
      "outputs": []
    },
    {
      "cell_type": "code",
      "metadata": {
        "id": "j52mW5yILLzx",
        "colab_type": "code",
        "outputId": "8f6aeea2-3299-4f0a-fcae-b18a5230ef57",
        "colab": {
          "base_uri": "https://localhost:8080/",
          "height": 68
        }
      },
      "source": [
        "df['zip_code'].head(2)"
      ],
      "execution_count": 110,
      "outputs": [
        {
          "output_type": "execute_result",
          "data": {
            "text/plain": [
              "0    22690\n",
              "1    05113\n",
              "Name: zip_code, dtype: object"
            ]
          },
          "metadata": {
            "tags": []
          },
          "execution_count": 110
        }
      ]
    },
    {
      "cell_type": "code",
      "metadata": {
        "id": "_M5G3j-VQsYr",
        "colab_type": "code",
        "outputId": "7a5fd63f-d47b-4091-db71-1baa83dfce0e",
        "colab": {
          "base_uri": "https://localhost:8080/",
          "height": 221
        }
      },
      "source": [
        "df.isnull().sum()"
      ],
      "execution_count": 111,
      "outputs": [
        {
          "output_type": "execute_result",
          "data": {
            "text/plain": [
              "loan_amnt      0\n",
              "term           0\n",
              "int_rate       0\n",
              "installment    0\n",
              "annual_inc     0\n",
              "              ..\n",
              "wedding        0\n",
              "OTHER          0\n",
              "OWN            0\n",
              "RENT           0\n",
              "zip_code       0\n",
              "Length: 74, dtype: int64"
            ]
          },
          "metadata": {
            "tags": []
          },
          "execution_count": 111
        }
      ]
    },
    {
      "cell_type": "markdown",
      "metadata": {
        "id": "Kr7wH_kpLLzy",
        "colab_type": "text"
      },
      "source": [
        "_Now make this zip_code column into dummy variables using pandas. Concatenate the result and drop the original zip_code column along with dropping the address column._"
      ]
    },
    {
      "cell_type": "code",
      "metadata": {
        "id": "xcdeJVI3LLzy",
        "colab_type": "code",
        "outputId": "c21e53ab-570d-430f-8cde-dd00a30ae645",
        "colab": {
          "base_uri": "https://localhost:8080/",
          "height": 238
        }
      },
      "source": [
        "zip_dum = pd.get_dummies(df['zip_code'], drop_first=True)\n",
        "df = pd.concat([df.drop(['zip_code', 'address'], axis=1),zip_dum], axis=1)\n",
        "df.columns"
      ],
      "execution_count": 112,
      "outputs": [
        {
          "output_type": "execute_result",
          "data": {
            "text/plain": [
              "Index(['loan_amnt', 'term', 'int_rate', 'installment', 'annual_inc', 'issue_d',\n",
              "       'loan_status', 'dti', 'earliest_cr_line', 'open_acc', 'pub_rec',\n",
              "       'revol_bal', 'revol_util', 'total_acc', 'mort_acc',\n",
              "       'pub_rec_bankruptcies', 'loan_repaid', 'A2', 'A3', 'A4', 'A5', 'B1',\n",
              "       'B2', 'B3', 'B4', 'B5', 'C1', 'C2', 'C3', 'C4', 'C5', 'D1', 'D2', 'D3',\n",
              "       'D4', 'D5', 'E1', 'E2', 'E3', 'E4', 'E5', 'F1', 'F2', 'F3', 'F4', 'F5',\n",
              "       'G1', 'G2', 'G3', 'G4', 'G5', 'Source Verified', 'Verified',\n",
              "       'INDIVIDUAL', 'JOINT', 'w', 'credit_card', 'debt_consolidation',\n",
              "       'educational', 'home_improvement', 'house', 'major_purchase', 'medical',\n",
              "       'moving', 'other', 'renewable_energy', 'small_business', 'vacation',\n",
              "       'wedding', 'OTHER', 'OWN', 'RENT', '05113', '11650', '22690', '29597',\n",
              "       '30723', '48052', '70466', '86630', '93700'],\n",
              "      dtype='object')"
            ]
          },
          "metadata": {
            "tags": []
          },
          "execution_count": 112
        }
      ]
    },
    {
      "cell_type": "markdown",
      "metadata": {
        "id": "aOGqQJbOU__T",
        "colab_type": "text"
      },
      "source": [
        "_JUST A NOTE: df['w'] and df['f'] belong to initial feature called 'initial status'_"
      ]
    },
    {
      "cell_type": "code",
      "metadata": {
        "id": "U8IUMdZ2Rntk",
        "colab_type": "code",
        "outputId": "c55c3590-3b89-4400-d467-530ea2525c2a",
        "colab": {
          "base_uri": "https://localhost:8080/",
          "height": 34
        }
      },
      "source": [
        "list(df.select_dtypes(['object']).columns)"
      ],
      "execution_count": 113,
      "outputs": [
        {
          "output_type": "execute_result",
          "data": {
            "text/plain": [
              "['issue_d', 'loan_status', 'earliest_cr_line']"
            ]
          },
          "metadata": {
            "tags": []
          },
          "execution_count": 113
        }
      ]
    },
    {
      "cell_type": "markdown",
      "metadata": {
        "id": "2u_5edrtLLz1",
        "colab_type": "text"
      },
      "source": [
        "### issue_d \n",
        "\n",
        "_This would be data leakage, we wouldn't know beforehand whether or not a loan would be issued when using our model, so in theory we wouldn't have an issue_date, drop this feature._"
      ]
    },
    {
      "cell_type": "code",
      "metadata": {
        "id": "JWuVDey8LLz1",
        "colab_type": "code",
        "outputId": "5eb4025d-4844-4fcb-f9e1-ce308ae59d83",
        "colab": {
          "base_uri": "https://localhost:8080/",
          "height": 34
        }
      },
      "source": [
        "feat_info('issue_d')"
      ],
      "execution_count": 114,
      "outputs": [
        {
          "output_type": "stream",
          "text": [
            "The month which the loan was funded\n"
          ],
          "name": "stdout"
        }
      ]
    },
    {
      "cell_type": "code",
      "metadata": {
        "id": "QPRJI-HpLLz2",
        "colab_type": "code",
        "colab": {}
      },
      "source": [
        "df = df.drop('issue_d', axis=1)"
      ],
      "execution_count": 0,
      "outputs": []
    },
    {
      "cell_type": "code",
      "metadata": {
        "id": "azR9HPhkS-Ya",
        "colab_type": "code",
        "outputId": "03639e1d-b6db-425a-81f3-1a4be53e09f3",
        "colab": {
          "base_uri": "https://localhost:8080/",
          "height": 34
        }
      },
      "source": [
        "list(df.select_dtypes(['object']).columns)"
      ],
      "execution_count": 116,
      "outputs": [
        {
          "output_type": "execute_result",
          "data": {
            "text/plain": [
              "['loan_status', 'earliest_cr_line']"
            ]
          },
          "metadata": {
            "tags": []
          },
          "execution_count": 116
        }
      ]
    },
    {
      "cell_type": "markdown",
      "metadata": {
        "id": "EW2QUsJyLLz3",
        "colab_type": "text"
      },
      "source": [
        "### earliest_cr_line\n",
        "_This appears to be a historical time stamp feature. Extract the year from this feature using a .apply function, then convert it to a numeric feature. Set this new data to a feature column called 'earliest_cr_year'.Then drop the earliest_cr_line feature._"
      ]
    },
    {
      "cell_type": "code",
      "metadata": {
        "id": "MrhyigOmLLz3",
        "colab_type": "code",
        "outputId": "6f852ff2-995c-46d3-b5d9-65811bce3551",
        "colab": {
          "base_uri": "https://localhost:8080/",
          "height": 34
        }
      },
      "source": [
        "feat_info('earliest_cr_line')"
      ],
      "execution_count": 117,
      "outputs": [
        {
          "output_type": "stream",
          "text": [
            "The month the borrower's earliest reported credit line was opened\n"
          ],
          "name": "stdout"
        }
      ]
    },
    {
      "cell_type": "code",
      "metadata": {
        "id": "uz3r3kWnWcLl",
        "colab_type": "code",
        "outputId": "0c267783-592a-4ef0-e0b8-fe33e3ad4b6a",
        "colab": {
          "base_uri": "https://localhost:8080/",
          "height": 221
        }
      },
      "source": [
        "df['earliest_cr_line'].value_counts()"
      ],
      "execution_count": 118,
      "outputs": [
        {
          "output_type": "execute_result",
          "data": {
            "text/plain": [
              "Oct-2000    3013\n",
              "Aug-2000    2930\n",
              "Oct-2001    2890\n",
              "Aug-2001    2879\n",
              "Nov-2000    2729\n",
              "            ... \n",
              "Feb-1962       1\n",
              "Feb-1957       1\n",
              "Nov-1953       1\n",
              "May-1955       1\n",
              "Sep-1956       1\n",
              "Name: earliest_cr_line, Length: 684, dtype: int64"
            ]
          },
          "metadata": {
            "tags": []
          },
          "execution_count": 118
        }
      ]
    },
    {
      "cell_type": "code",
      "metadata": {
        "id": "finA-jw7XihM",
        "colab_type": "code",
        "colab": {}
      },
      "source": [
        "df['earliest_cr_year'] = df['earliest_cr_line'].apply(lambda x: int(x.split('-')[1]))\n",
        "# or df['earliest_cr_year'] = df['earliest_cr_line'].apply(lambda x: int(x[-4:]))"
      ],
      "execution_count": 0,
      "outputs": []
    },
    {
      "cell_type": "code",
      "metadata": {
        "id": "HaILLBjmXxWv",
        "colab_type": "code",
        "outputId": "e5365d5b-8af2-43a3-c43e-e9c4ae9e9a5c",
        "colab": {
          "base_uri": "https://localhost:8080/",
          "height": 221
        }
      },
      "source": [
        "df['earliest_cr_year'].value_counts()"
      ],
      "execution_count": 120,
      "outputs": [
        {
          "output_type": "execute_result",
          "data": {
            "text/plain": [
              "2000    29302\n",
              "2001    29031\n",
              "1999    26444\n",
              "2002    25849\n",
              "2003    23623\n",
              "        ...  \n",
              "1951        3\n",
              "1950        3\n",
              "1953        2\n",
              "1948        1\n",
              "1944        1\n",
              "Name: earliest_cr_year, Length: 65, dtype: int64"
            ]
          },
          "metadata": {
            "tags": []
          },
          "execution_count": 120
        }
      ]
    },
    {
      "cell_type": "code",
      "metadata": {
        "id": "bvCpkuJTX99U",
        "colab_type": "code",
        "colab": {}
      },
      "source": [
        "df = df.drop(['earliest_cr_line'], axis=1)"
      ],
      "execution_count": 0,
      "outputs": []
    },
    {
      "cell_type": "code",
      "metadata": {
        "id": "oyjqTboXYRcB",
        "colab_type": "code",
        "outputId": "7bfa9151-43b2-433c-922a-4716b47ee1de",
        "colab": {
          "base_uri": "https://localhost:8080/",
          "height": 34
        }
      },
      "source": [
        "list(df.select_dtypes(['object']).columns)"
      ],
      "execution_count": 122,
      "outputs": [
        {
          "output_type": "execute_result",
          "data": {
            "text/plain": [
              "['loan_status']"
            ]
          },
          "metadata": {
            "tags": []
          },
          "execution_count": 122
        }
      ]
    },
    {
      "cell_type": "code",
      "metadata": {
        "id": "T3yQD-tsZKw8",
        "colab_type": "code",
        "outputId": "0750ed0c-1ffe-48ab-d78f-0fbfb6bc990a",
        "colab": {
          "base_uri": "https://localhost:8080/",
          "height": 241
        }
      },
      "source": [
        "df.head()"
      ],
      "execution_count": 123,
      "outputs": [
        {
          "output_type": "execute_result",
          "data": {
            "text/html": [
              "<div>\n",
              "<style scoped>\n",
              "    .dataframe tbody tr th:only-of-type {\n",
              "        vertical-align: middle;\n",
              "    }\n",
              "\n",
              "    .dataframe tbody tr th {\n",
              "        vertical-align: top;\n",
              "    }\n",
              "\n",
              "    .dataframe thead th {\n",
              "        text-align: right;\n",
              "    }\n",
              "</style>\n",
              "<table border=\"1\" class=\"dataframe\">\n",
              "  <thead>\n",
              "    <tr style=\"text-align: right;\">\n",
              "      <th></th>\n",
              "      <th>loan_amnt</th>\n",
              "      <th>term</th>\n",
              "      <th>int_rate</th>\n",
              "      <th>installment</th>\n",
              "      <th>annual_inc</th>\n",
              "      <th>loan_status</th>\n",
              "      <th>dti</th>\n",
              "      <th>open_acc</th>\n",
              "      <th>pub_rec</th>\n",
              "      <th>revol_bal</th>\n",
              "      <th>revol_util</th>\n",
              "      <th>total_acc</th>\n",
              "      <th>mort_acc</th>\n",
              "      <th>pub_rec_bankruptcies</th>\n",
              "      <th>loan_repaid</th>\n",
              "      <th>A2</th>\n",
              "      <th>A3</th>\n",
              "      <th>A4</th>\n",
              "      <th>A5</th>\n",
              "      <th>B1</th>\n",
              "      <th>B2</th>\n",
              "      <th>B3</th>\n",
              "      <th>B4</th>\n",
              "      <th>B5</th>\n",
              "      <th>C1</th>\n",
              "      <th>C2</th>\n",
              "      <th>C3</th>\n",
              "      <th>C4</th>\n",
              "      <th>C5</th>\n",
              "      <th>D1</th>\n",
              "      <th>D2</th>\n",
              "      <th>D3</th>\n",
              "      <th>D4</th>\n",
              "      <th>D5</th>\n",
              "      <th>E1</th>\n",
              "      <th>E2</th>\n",
              "      <th>E3</th>\n",
              "      <th>E4</th>\n",
              "      <th>E5</th>\n",
              "      <th>F1</th>\n",
              "      <th>F2</th>\n",
              "      <th>F3</th>\n",
              "      <th>F4</th>\n",
              "      <th>F5</th>\n",
              "      <th>G1</th>\n",
              "      <th>G2</th>\n",
              "      <th>G3</th>\n",
              "      <th>G4</th>\n",
              "      <th>G5</th>\n",
              "      <th>Source Verified</th>\n",
              "      <th>Verified</th>\n",
              "      <th>INDIVIDUAL</th>\n",
              "      <th>JOINT</th>\n",
              "      <th>w</th>\n",
              "      <th>credit_card</th>\n",
              "      <th>debt_consolidation</th>\n",
              "      <th>educational</th>\n",
              "      <th>home_improvement</th>\n",
              "      <th>house</th>\n",
              "      <th>major_purchase</th>\n",
              "      <th>medical</th>\n",
              "      <th>moving</th>\n",
              "      <th>other</th>\n",
              "      <th>renewable_energy</th>\n",
              "      <th>small_business</th>\n",
              "      <th>vacation</th>\n",
              "      <th>wedding</th>\n",
              "      <th>OTHER</th>\n",
              "      <th>OWN</th>\n",
              "      <th>RENT</th>\n",
              "      <th>05113</th>\n",
              "      <th>11650</th>\n",
              "      <th>22690</th>\n",
              "      <th>29597</th>\n",
              "      <th>30723</th>\n",
              "      <th>48052</th>\n",
              "      <th>70466</th>\n",
              "      <th>86630</th>\n",
              "      <th>93700</th>\n",
              "      <th>earliest_cr_year</th>\n",
              "    </tr>\n",
              "  </thead>\n",
              "  <tbody>\n",
              "    <tr>\n",
              "      <th>0</th>\n",
              "      <td>10000.0</td>\n",
              "      <td>36</td>\n",
              "      <td>11.44</td>\n",
              "      <td>329.48</td>\n",
              "      <td>117000.0</td>\n",
              "      <td>Fully Paid</td>\n",
              "      <td>26.24</td>\n",
              "      <td>16.0</td>\n",
              "      <td>0.0</td>\n",
              "      <td>36369.0</td>\n",
              "      <td>41.8</td>\n",
              "      <td>25.0</td>\n",
              "      <td>0.0</td>\n",
              "      <td>0.0</td>\n",
              "      <td>1</td>\n",
              "      <td>0</td>\n",
              "      <td>0</td>\n",
              "      <td>0</td>\n",
              "      <td>0</td>\n",
              "      <td>0</td>\n",
              "      <td>0</td>\n",
              "      <td>0</td>\n",
              "      <td>1</td>\n",
              "      <td>0</td>\n",
              "      <td>0</td>\n",
              "      <td>0</td>\n",
              "      <td>0</td>\n",
              "      <td>0</td>\n",
              "      <td>0</td>\n",
              "      <td>0</td>\n",
              "      <td>0</td>\n",
              "      <td>0</td>\n",
              "      <td>0</td>\n",
              "      <td>0</td>\n",
              "      <td>0</td>\n",
              "      <td>0</td>\n",
              "      <td>0</td>\n",
              "      <td>0</td>\n",
              "      <td>0</td>\n",
              "      <td>0</td>\n",
              "      <td>0</td>\n",
              "      <td>0</td>\n",
              "      <td>0</td>\n",
              "      <td>0</td>\n",
              "      <td>0</td>\n",
              "      <td>0</td>\n",
              "      <td>0</td>\n",
              "      <td>0</td>\n",
              "      <td>0</td>\n",
              "      <td>0</td>\n",
              "      <td>0</td>\n",
              "      <td>1</td>\n",
              "      <td>0</td>\n",
              "      <td>1</td>\n",
              "      <td>0</td>\n",
              "      <td>0</td>\n",
              "      <td>0</td>\n",
              "      <td>0</td>\n",
              "      <td>0</td>\n",
              "      <td>0</td>\n",
              "      <td>0</td>\n",
              "      <td>0</td>\n",
              "      <td>0</td>\n",
              "      <td>0</td>\n",
              "      <td>0</td>\n",
              "      <td>1</td>\n",
              "      <td>0</td>\n",
              "      <td>0</td>\n",
              "      <td>0</td>\n",
              "      <td>1</td>\n",
              "      <td>0</td>\n",
              "      <td>0</td>\n",
              "      <td>1</td>\n",
              "      <td>0</td>\n",
              "      <td>0</td>\n",
              "      <td>0</td>\n",
              "      <td>0</td>\n",
              "      <td>0</td>\n",
              "      <td>0</td>\n",
              "      <td>1990</td>\n",
              "    </tr>\n",
              "    <tr>\n",
              "      <th>1</th>\n",
              "      <td>8000.0</td>\n",
              "      <td>36</td>\n",
              "      <td>11.99</td>\n",
              "      <td>265.68</td>\n",
              "      <td>65000.0</td>\n",
              "      <td>Fully Paid</td>\n",
              "      <td>22.05</td>\n",
              "      <td>17.0</td>\n",
              "      <td>0.0</td>\n",
              "      <td>20131.0</td>\n",
              "      <td>53.3</td>\n",
              "      <td>27.0</td>\n",
              "      <td>3.0</td>\n",
              "      <td>0.0</td>\n",
              "      <td>1</td>\n",
              "      <td>0</td>\n",
              "      <td>0</td>\n",
              "      <td>0</td>\n",
              "      <td>0</td>\n",
              "      <td>0</td>\n",
              "      <td>0</td>\n",
              "      <td>0</td>\n",
              "      <td>0</td>\n",
              "      <td>1</td>\n",
              "      <td>0</td>\n",
              "      <td>0</td>\n",
              "      <td>0</td>\n",
              "      <td>0</td>\n",
              "      <td>0</td>\n",
              "      <td>0</td>\n",
              "      <td>0</td>\n",
              "      <td>0</td>\n",
              "      <td>0</td>\n",
              "      <td>0</td>\n",
              "      <td>0</td>\n",
              "      <td>0</td>\n",
              "      <td>0</td>\n",
              "      <td>0</td>\n",
              "      <td>0</td>\n",
              "      <td>0</td>\n",
              "      <td>0</td>\n",
              "      <td>0</td>\n",
              "      <td>0</td>\n",
              "      <td>0</td>\n",
              "      <td>0</td>\n",
              "      <td>0</td>\n",
              "      <td>0</td>\n",
              "      <td>0</td>\n",
              "      <td>0</td>\n",
              "      <td>0</td>\n",
              "      <td>0</td>\n",
              "      <td>1</td>\n",
              "      <td>0</td>\n",
              "      <td>0</td>\n",
              "      <td>0</td>\n",
              "      <td>1</td>\n",
              "      <td>0</td>\n",
              "      <td>0</td>\n",
              "      <td>0</td>\n",
              "      <td>0</td>\n",
              "      <td>0</td>\n",
              "      <td>0</td>\n",
              "      <td>0</td>\n",
              "      <td>0</td>\n",
              "      <td>0</td>\n",
              "      <td>0</td>\n",
              "      <td>0</td>\n",
              "      <td>0</td>\n",
              "      <td>0</td>\n",
              "      <td>0</td>\n",
              "      <td>1</td>\n",
              "      <td>0</td>\n",
              "      <td>0</td>\n",
              "      <td>0</td>\n",
              "      <td>0</td>\n",
              "      <td>0</td>\n",
              "      <td>0</td>\n",
              "      <td>0</td>\n",
              "      <td>0</td>\n",
              "      <td>2004</td>\n",
              "    </tr>\n",
              "    <tr>\n",
              "      <th>2</th>\n",
              "      <td>15600.0</td>\n",
              "      <td>36</td>\n",
              "      <td>10.49</td>\n",
              "      <td>506.97</td>\n",
              "      <td>43057.0</td>\n",
              "      <td>Fully Paid</td>\n",
              "      <td>12.79</td>\n",
              "      <td>13.0</td>\n",
              "      <td>0.0</td>\n",
              "      <td>11987.0</td>\n",
              "      <td>92.2</td>\n",
              "      <td>26.0</td>\n",
              "      <td>0.0</td>\n",
              "      <td>0.0</td>\n",
              "      <td>1</td>\n",
              "      <td>0</td>\n",
              "      <td>0</td>\n",
              "      <td>0</td>\n",
              "      <td>0</td>\n",
              "      <td>0</td>\n",
              "      <td>0</td>\n",
              "      <td>1</td>\n",
              "      <td>0</td>\n",
              "      <td>0</td>\n",
              "      <td>0</td>\n",
              "      <td>0</td>\n",
              "      <td>0</td>\n",
              "      <td>0</td>\n",
              "      <td>0</td>\n",
              "      <td>0</td>\n",
              "      <td>0</td>\n",
              "      <td>0</td>\n",
              "      <td>0</td>\n",
              "      <td>0</td>\n",
              "      <td>0</td>\n",
              "      <td>0</td>\n",
              "      <td>0</td>\n",
              "      <td>0</td>\n",
              "      <td>0</td>\n",
              "      <td>0</td>\n",
              "      <td>0</td>\n",
              "      <td>0</td>\n",
              "      <td>0</td>\n",
              "      <td>0</td>\n",
              "      <td>0</td>\n",
              "      <td>0</td>\n",
              "      <td>0</td>\n",
              "      <td>0</td>\n",
              "      <td>0</td>\n",
              "      <td>1</td>\n",
              "      <td>0</td>\n",
              "      <td>1</td>\n",
              "      <td>0</td>\n",
              "      <td>0</td>\n",
              "      <td>1</td>\n",
              "      <td>0</td>\n",
              "      <td>0</td>\n",
              "      <td>0</td>\n",
              "      <td>0</td>\n",
              "      <td>0</td>\n",
              "      <td>0</td>\n",
              "      <td>0</td>\n",
              "      <td>0</td>\n",
              "      <td>0</td>\n",
              "      <td>0</td>\n",
              "      <td>0</td>\n",
              "      <td>0</td>\n",
              "      <td>0</td>\n",
              "      <td>0</td>\n",
              "      <td>1</td>\n",
              "      <td>1</td>\n",
              "      <td>0</td>\n",
              "      <td>0</td>\n",
              "      <td>0</td>\n",
              "      <td>0</td>\n",
              "      <td>0</td>\n",
              "      <td>0</td>\n",
              "      <td>0</td>\n",
              "      <td>0</td>\n",
              "      <td>2007</td>\n",
              "    </tr>\n",
              "    <tr>\n",
              "      <th>3</th>\n",
              "      <td>7200.0</td>\n",
              "      <td>36</td>\n",
              "      <td>6.49</td>\n",
              "      <td>220.65</td>\n",
              "      <td>54000.0</td>\n",
              "      <td>Fully Paid</td>\n",
              "      <td>2.60</td>\n",
              "      <td>6.0</td>\n",
              "      <td>0.0</td>\n",
              "      <td>5472.0</td>\n",
              "      <td>21.5</td>\n",
              "      <td>13.0</td>\n",
              "      <td>0.0</td>\n",
              "      <td>0.0</td>\n",
              "      <td>1</td>\n",
              "      <td>1</td>\n",
              "      <td>0</td>\n",
              "      <td>0</td>\n",
              "      <td>0</td>\n",
              "      <td>0</td>\n",
              "      <td>0</td>\n",
              "      <td>0</td>\n",
              "      <td>0</td>\n",
              "      <td>0</td>\n",
              "      <td>0</td>\n",
              "      <td>0</td>\n",
              "      <td>0</td>\n",
              "      <td>0</td>\n",
              "      <td>0</td>\n",
              "      <td>0</td>\n",
              "      <td>0</td>\n",
              "      <td>0</td>\n",
              "      <td>0</td>\n",
              "      <td>0</td>\n",
              "      <td>0</td>\n",
              "      <td>0</td>\n",
              "      <td>0</td>\n",
              "      <td>0</td>\n",
              "      <td>0</td>\n",
              "      <td>0</td>\n",
              "      <td>0</td>\n",
              "      <td>0</td>\n",
              "      <td>0</td>\n",
              "      <td>0</td>\n",
              "      <td>0</td>\n",
              "      <td>0</td>\n",
              "      <td>0</td>\n",
              "      <td>0</td>\n",
              "      <td>0</td>\n",
              "      <td>0</td>\n",
              "      <td>0</td>\n",
              "      <td>1</td>\n",
              "      <td>0</td>\n",
              "      <td>0</td>\n",
              "      <td>1</td>\n",
              "      <td>0</td>\n",
              "      <td>0</td>\n",
              "      <td>0</td>\n",
              "      <td>0</td>\n",
              "      <td>0</td>\n",
              "      <td>0</td>\n",
              "      <td>0</td>\n",
              "      <td>0</td>\n",
              "      <td>0</td>\n",
              "      <td>0</td>\n",
              "      <td>0</td>\n",
              "      <td>0</td>\n",
              "      <td>0</td>\n",
              "      <td>0</td>\n",
              "      <td>1</td>\n",
              "      <td>0</td>\n",
              "      <td>0</td>\n",
              "      <td>0</td>\n",
              "      <td>0</td>\n",
              "      <td>0</td>\n",
              "      <td>0</td>\n",
              "      <td>0</td>\n",
              "      <td>0</td>\n",
              "      <td>0</td>\n",
              "      <td>2006</td>\n",
              "    </tr>\n",
              "    <tr>\n",
              "      <th>4</th>\n",
              "      <td>24375.0</td>\n",
              "      <td>60</td>\n",
              "      <td>17.27</td>\n",
              "      <td>609.33</td>\n",
              "      <td>55000.0</td>\n",
              "      <td>Charged Off</td>\n",
              "      <td>33.95</td>\n",
              "      <td>13.0</td>\n",
              "      <td>0.0</td>\n",
              "      <td>24584.0</td>\n",
              "      <td>69.8</td>\n",
              "      <td>43.0</td>\n",
              "      <td>1.0</td>\n",
              "      <td>0.0</td>\n",
              "      <td>0</td>\n",
              "      <td>0</td>\n",
              "      <td>0</td>\n",
              "      <td>0</td>\n",
              "      <td>0</td>\n",
              "      <td>0</td>\n",
              "      <td>0</td>\n",
              "      <td>0</td>\n",
              "      <td>0</td>\n",
              "      <td>0</td>\n",
              "      <td>0</td>\n",
              "      <td>0</td>\n",
              "      <td>0</td>\n",
              "      <td>0</td>\n",
              "      <td>1</td>\n",
              "      <td>0</td>\n",
              "      <td>0</td>\n",
              "      <td>0</td>\n",
              "      <td>0</td>\n",
              "      <td>0</td>\n",
              "      <td>0</td>\n",
              "      <td>0</td>\n",
              "      <td>0</td>\n",
              "      <td>0</td>\n",
              "      <td>0</td>\n",
              "      <td>0</td>\n",
              "      <td>0</td>\n",
              "      <td>0</td>\n",
              "      <td>0</td>\n",
              "      <td>0</td>\n",
              "      <td>0</td>\n",
              "      <td>0</td>\n",
              "      <td>0</td>\n",
              "      <td>0</td>\n",
              "      <td>0</td>\n",
              "      <td>0</td>\n",
              "      <td>1</td>\n",
              "      <td>1</td>\n",
              "      <td>0</td>\n",
              "      <td>0</td>\n",
              "      <td>1</td>\n",
              "      <td>0</td>\n",
              "      <td>0</td>\n",
              "      <td>0</td>\n",
              "      <td>0</td>\n",
              "      <td>0</td>\n",
              "      <td>0</td>\n",
              "      <td>0</td>\n",
              "      <td>0</td>\n",
              "      <td>0</td>\n",
              "      <td>0</td>\n",
              "      <td>0</td>\n",
              "      <td>0</td>\n",
              "      <td>0</td>\n",
              "      <td>0</td>\n",
              "      <td>0</td>\n",
              "      <td>0</td>\n",
              "      <td>1</td>\n",
              "      <td>0</td>\n",
              "      <td>0</td>\n",
              "      <td>0</td>\n",
              "      <td>0</td>\n",
              "      <td>0</td>\n",
              "      <td>0</td>\n",
              "      <td>0</td>\n",
              "      <td>1999</td>\n",
              "    </tr>\n",
              "  </tbody>\n",
              "</table>\n",
              "</div>"
            ],
            "text/plain": [
              "   loan_amnt  term  int_rate  ...  86630  93700 earliest_cr_year\n",
              "0    10000.0    36     11.44  ...      0      0             1990\n",
              "1     8000.0    36     11.99  ...      0      0             2004\n",
              "2    15600.0    36     10.49  ...      0      0             2007\n",
              "3     7200.0    36      6.49  ...      0      0             2006\n",
              "4    24375.0    60     17.27  ...      0      0             1999\n",
              "\n",
              "[5 rows x 80 columns]"
            ]
          },
          "metadata": {
            "tags": []
          },
          "execution_count": 123
        }
      ]
    },
    {
      "cell_type": "code",
      "metadata": {
        "id": "fGY-AkfbbCwG",
        "colab_type": "code",
        "outputId": "7adf6cda-3d91-4b21-edec-2632688c473b",
        "colab": {
          "base_uri": "https://localhost:8080/",
          "height": 34
        }
      },
      "source": [
        "df.shape #(395219, 80)"
      ],
      "execution_count": 124,
      "outputs": [
        {
          "output_type": "execute_result",
          "data": {
            "text/plain": [
              "(395219, 80)"
            ]
          },
          "metadata": {
            "tags": []
          },
          "execution_count": 124
        }
      ]
    },
    {
      "cell_type": "markdown",
      "metadata": {
        "id": "YJSWgOWKLLz-",
        "colab_type": "text"
      },
      "source": [
        "_Drop the load_status column we created earlier, since its a duplicate of the loan_repaid column. We'll use the loan_repaid column since its already in 0s and 1s._"
      ]
    },
    {
      "cell_type": "code",
      "metadata": {
        "id": "IycEQPficArN",
        "colab_type": "code",
        "colab": {}
      },
      "source": [
        "df = df.drop('loan_status', axis=1)"
      ],
      "execution_count": 0,
      "outputs": []
    },
    {
      "cell_type": "code",
      "metadata": {
        "id": "nyt7-Ib--zIr",
        "colab_type": "code",
        "colab": {
          "base_uri": "https://localhost:8080/",
          "height": 34
        },
        "outputId": "65315824-1d6c-4790-efbf-4e2b25fcc620"
      },
      "source": [
        "df.shape"
      ],
      "execution_count": 126,
      "outputs": [
        {
          "output_type": "execute_result",
          "data": {
            "text/plain": [
              "(395219, 79)"
            ]
          },
          "metadata": {
            "tags": []
          },
          "execution_count": 126
        }
      ]
    },
    {
      "cell_type": "markdown",
      "metadata": {
        "id": "AlU6TYjBLLz8",
        "colab_type": "text"
      },
      "source": [
        "## Train Test Split"
      ]
    },
    {
      "cell_type": "markdown",
      "metadata": {
        "id": "RP5_5EXQLLz8",
        "colab_type": "text"
      },
      "source": [
        "_Import train_test_split from sklearn._"
      ]
    },
    {
      "cell_type": "code",
      "metadata": {
        "id": "z_FekjtGLLz9",
        "colab_type": "code",
        "colab": {}
      },
      "source": [
        "from sklearn.model_selection import train_test_split"
      ],
      "execution_count": 0,
      "outputs": []
    },
    {
      "cell_type": "markdown",
      "metadata": {
        "id": "n7PySKOd-5s6",
        "colab_type": "text"
      },
      "source": [
        "_(optional) I save the data cleaned_"
      ]
    },
    {
      "cell_type": "code",
      "metadata": {
        "id": "5TG7t4JuYkyJ",
        "colab_type": "code",
        "colab": {}
      },
      "source": [
        "compression_opts = dict(method='zip', archive_name='out.csv')\n",
        "df.to_csv('/content/drive/My Drive/Colab Notebooks/DeepLearning_TensorFlow/TensorFlow_FILES/DATA/lendingClub.csv', index=False, compression=compression_opts)"
      ],
      "execution_count": 0,
      "outputs": []
    },
    {
      "cell_type": "markdown",
      "metadata": {
        "id": "dI4qPyzYLL0A",
        "colab_type": "text"
      },
      "source": [
        "_Set X and y variables to the .values of the features and label.\n",
        "!!! to save memory sometimes it could be convenient to use just a sample of data. Skip the following lines and see further below_ "
      ]
    },
    {
      "cell_type": "code",
      "metadata": {
        "id": "RUoI3bFnLL0A",
        "colab_type": "code",
        "colab": {}
      },
      "source": [
        "X = df.drop('loan_repaid', axis=1).values"
      ],
      "execution_count": 0,
      "outputs": []
    },
    {
      "cell_type": "code",
      "metadata": {
        "id": "RPtwcCSXLL0C",
        "colab_type": "code",
        "colab": {}
      },
      "source": [
        "y = df['loan_repaid'].values"
      ],
      "execution_count": 0,
      "outputs": []
    },
    {
      "cell_type": "code",
      "metadata": {
        "id": "sfmauwhEcx7W",
        "colab_type": "code",
        "outputId": "5d7f65f3-7fef-49b9-e9a6-984fc74fa5e7",
        "colab": {
          "base_uri": "https://localhost:8080/",
          "height": 34
        }
      },
      "source": [
        "X.shape"
      ],
      "execution_count": 131,
      "outputs": [
        {
          "output_type": "execute_result",
          "data": {
            "text/plain": [
              "(395219, 78)"
            ]
          },
          "metadata": {
            "tags": []
          },
          "execution_count": 131
        }
      ]
    },
    {
      "cell_type": "code",
      "metadata": {
        "id": "LjAqoOEDc2Vz",
        "colab_type": "code",
        "outputId": "384cf20d-88dd-4bbc-f26a-410e31daae5d",
        "colab": {
          "base_uri": "https://localhost:8080/",
          "height": 34
        }
      },
      "source": [
        "y.shape"
      ],
      "execution_count": 132,
      "outputs": [
        {
          "output_type": "execute_result",
          "data": {
            "text/plain": [
              "(395219,)"
            ]
          },
          "metadata": {
            "tags": []
          },
          "execution_count": 132
        }
      ]
    },
    {
      "cell_type": "markdown",
      "metadata": {
        "id": "K3B_Nznt_Hkg",
        "colab_type": "text"
      },
      "source": [
        "_I plot the distribution of Data after the cleaning and formatting step_"
      ]
    },
    {
      "cell_type": "code",
      "metadata": {
        "id": "Ec_pLvU02rId",
        "colab_type": "code",
        "outputId": "3ba212ae-4149-443a-ec25-0022070a3379",
        "colab": {
          "base_uri": "https://localhost:8080/",
          "height": 295
        }
      },
      "source": [
        "total = len(df)*1.\n",
        "plt.figure(figsize=(6,4))\n",
        "\n",
        "ax = sns.countplot(x='loan_repaid', data=df, order= [1,0],)\n",
        "plt.title('Distribution of Loan Repaid_cleaned Data')\n",
        "plt.xlabel('Loan Repaid Cleaned Data')\n",
        "plt.ylabel('Frequency [%]')\n",
        "\n",
        "################# printing the frequency\n",
        "\n",
        "for p in ax.patches:\n",
        "        ax.annotate('{:.1f}%'.format(100*p.get_height()/total), (p.get_x()+0.1, p.get_height()+5))\n",
        "\n",
        "#put 11 ticks (therefore 10 steps), from 0 to the total number of rows in the dataframe\n",
        "ax.yaxis.set_ticks(np.linspace(0, total, 2))\n",
        "\n",
        "#adjust the ticklabel to the desired format, without changing the position of the ticks. \n",
        "_ = ax.set_yticklabels(map('{:.1f}%'.format, 100*ax.yaxis.get_majorticklocs()/total))\n",
        "\n",
        "################# printing the legend\n",
        "\n",
        "from matplotlib.legend_handler import HandlerBase\n",
        "from matplotlib.text import Text\n",
        "class TextHandler(HandlerBase):\n",
        "    def create_artists(self, legend, tup ,xdescent, ydescent,\n",
        "                        width, height, fontsize,trans):\n",
        "        tx = Text(width/2.,height/2,tup[0], fontsize=fontsize,\n",
        "                  ha=\"center\", va=\"center\", color=tup[1], fontweight=\"bold\")\n",
        "        return [tx]\n",
        "\n",
        "handltext = [\"1\", \"0\"]\n",
        "labels = [\"Full Paid     ( 317'696 obs.)\", \"Charged Off ( 77'523 obs.)\"]\n",
        "\n",
        "\n",
        "t = ax.get_xticklabels()\n",
        "labeldic = dict(zip(handltext, labels))\n",
        "labels = [labeldic[h.get_text()]  for h in t]\n",
        "handles = [(h.get_text(),c.get_fc()) for h,c in zip(t,ax.patches)]\n",
        "\n",
        "ax.legend(handles, labels, handler_map={tuple : TextHandler()}) \n",
        "\n",
        "plt.show()"
      ],
      "execution_count": 133,
      "outputs": [
        {
          "output_type": "display_data",
          "data": {
            "image/png": "[encoded data removed]",
            "text/plain": [
              "<Figure size 432x288 with 1 Axes>"
            ]
          },
          "metadata": {
            "tags": []
          }
        }
      ]
    },
    {
      "cell_type": "markdown",
      "metadata": {
        "id": "k3dSi-8ALL0F",
        "colab_type": "text"
      },
      "source": [
        "----\n",
        "----\n",
        "## (OPTIONAL) Grabbing a Sample for Training Time\n",
        "\n",
        "### Use .sample() to grab a sample of the 490k+ entries to save time on training. Highly recommended for lower RAM computers or if you are not using GPU.\n",
        "\n",
        "----\n",
        "----"
      ]
    },
    {
      "cell_type": "code",
      "metadata": {
        "id": "Gb9WBYQdLL0F",
        "colab_type": "code",
        "colab": {}
      },
      "source": [
        "# print(len(df))"
      ],
      "execution_count": 0,
      "outputs": []
    },
    {
      "cell_type": "code",
      "metadata": {
        "id": "59PzKVEZdi1W",
        "colab_type": "code",
        "colab": {}
      },
      "source": [
        "# df = df.sample(frac=0.1,random_state=101)"
      ],
      "execution_count": 0,
      "outputs": []
    },
    {
      "cell_type": "code",
      "metadata": {
        "id": "U3RXePPJdnAI",
        "colab_type": "code",
        "colab": {}
      },
      "source": [
        "# print(len(df))"
      ],
      "execution_count": 0,
      "outputs": []
    },
    {
      "cell_type": "code",
      "metadata": {
        "id": "jLAmRE1Md1xm",
        "colab_type": "code",
        "colab": {}
      },
      "source": [
        "# X = df.drop('loan_repaid', axis=1)\n",
        "# X.shape"
      ],
      "execution_count": 0,
      "outputs": []
    },
    {
      "cell_type": "code",
      "metadata": {
        "id": "-UGK2_qUeK72",
        "colab_type": "code",
        "colab": {}
      },
      "source": [
        "# y = df['loan_repaid']\n",
        "# y.shape"
      ],
      "execution_count": 0,
      "outputs": []
    },
    {
      "cell_type": "markdown",
      "metadata": {
        "id": "-lA5GHKCLL0G",
        "colab_type": "text"
      },
      "source": [
        "## Perform a train/test split with test_size=0.2 and a random_state of 101._"
      ]
    },
    {
      "cell_type": "code",
      "metadata": {
        "id": "rbPWS-3JLL0G",
        "colab_type": "code",
        "colab": {}
      },
      "source": [
        "X_train, X_test, y_train, y_test = train_test_split(X, y, test_size=0.2, random_state=101) "
      ],
      "execution_count": 0,
      "outputs": []
    },
    {
      "cell_type": "markdown",
      "metadata": {
        "id": "nkQ5p1eQLL0I",
        "colab_type": "text"
      },
      "source": [
        "## Normalizing the Data\n",
        "\n",
        "_Use a MinMaxScaler to normalize the feature data X_train and X_test. Recall we don't want data leakge from the test set so we only fit on the X_train data._"
      ]
    },
    {
      "cell_type": "code",
      "metadata": {
        "id": "ogz_lKvNLL0J",
        "colab_type": "code",
        "colab": {}
      },
      "source": [
        "from sklearn.preprocessing import MinMaxScaler"
      ],
      "execution_count": 0,
      "outputs": []
    },
    {
      "cell_type": "code",
      "metadata": {
        "id": "-VBoov_YLL0J",
        "colab_type": "code",
        "colab": {}
      },
      "source": [
        "scaler = MinMaxScaler()"
      ],
      "execution_count": 0,
      "outputs": []
    },
    {
      "cell_type": "code",
      "metadata": {
        "id": "z9WEm_nZLL0K",
        "colab_type": "code",
        "colab": {}
      },
      "source": [
        "X_train = scaler.fit_transform(X_train)"
      ],
      "execution_count": 0,
      "outputs": []
    },
    {
      "cell_type": "code",
      "metadata": {
        "id": "vArnbl1WLL0L",
        "colab_type": "code",
        "colab": {}
      },
      "source": [
        "X_test = scaler.transform(X_test)"
      ],
      "execution_count": 0,
      "outputs": []
    },
    {
      "cell_type": "code",
      "metadata": {
        "id": "tNtf0boxLL0M",
        "colab_type": "code",
        "outputId": "98b5a284-d1d8-464e-ec6c-8b9cf3f5bf40",
        "colab": {
          "base_uri": "https://localhost:8080/",
          "height": 238
        }
      },
      "source": [
        "X_train"
      ],
      "execution_count": 139,
      "outputs": [
        {
          "output_type": "execute_result",
          "data": {
            "text/plain": [
              "array([[0.22307692, 0.        , 0.46552396, ..., 0.        , 0.        ,\n",
              "        0.89855072],\n",
              "       [0.48717949, 0.        , 0.32450331, ..., 0.        , 0.        ,\n",
              "        0.85507246],\n",
              "       [0.31666667, 1.        , 0.46552396, ..., 0.        , 0.        ,\n",
              "        0.85507246],\n",
              "       ...,\n",
              "       [0.19358974, 0.        , 0.16945851, ..., 0.        , 0.        ,\n",
              "        0.8115942 ],\n",
              "       [0.28205128, 1.        , 0.4253993 , ..., 0.        , 0.        ,\n",
              "        0.79710145],\n",
              "       [0.87179487, 0.        , 0.57148422, ..., 0.        , 0.        ,\n",
              "        0.76811594]])"
            ]
          },
          "metadata": {
            "tags": []
          },
          "execution_count": 139
        }
      ]
    },
    {
      "cell_type": "code",
      "metadata": {
        "id": "w0vluacPfy0R",
        "colab_type": "code",
        "outputId": "1e578c02-4949-4061-bbd3-000b75fb3af2",
        "colab": {
          "base_uri": "https://localhost:8080/",
          "height": 238
        }
      },
      "source": [
        "X_test"
      ],
      "execution_count": 140,
      "outputs": [
        {
          "output_type": "execute_result",
          "data": {
            "text/plain": [
              "array([[0.35384615, 0.        , 0.51305025, ..., 0.        , 0.        ,\n",
              "        0.69565217],\n",
              "       [0.76923077, 1.        , 0.47721075, ..., 0.        , 0.        ,\n",
              "        0.75362319],\n",
              "       [0.53846154, 1.        , 0.10011687, ..., 0.        , 0.        ,\n",
              "        0.85507246],\n",
              "       ...,\n",
              "       [0.1025641 , 0.        , 0.2384106 , ..., 0.        , 0.        ,\n",
              "        0.92753623],\n",
              "       [0.48974359, 1.        , 0.74678613, ..., 0.        , 0.        ,\n",
              "        0.79710145],\n",
              "       [0.34358974, 1.        , 0.16945851, ..., 1.        , 0.        ,\n",
              "        0.84057971]])"
            ]
          },
          "metadata": {
            "tags": []
          },
          "execution_count": 140
        }
      ]
    },
    {
      "cell_type": "markdown",
      "metadata": {
        "id": "xYurd5rhLL0O",
        "colab_type": "text"
      },
      "source": [
        "# Creating the Model\n",
        "\n",
        "_Import the necessary Keras functions._"
      ]
    },
    {
      "cell_type": "code",
      "metadata": {
        "id": "S-vIyTg0LL0O",
        "colab_type": "code",
        "colab": {}
      },
      "source": [
        "import tensorflow as tf\n",
        "from tensorflow.keras.models import Sequential\n",
        "from tensorflow.keras.layers import Dense,Dropout"
      ],
      "execution_count": 0,
      "outputs": []
    },
    {
      "cell_type": "markdown",
      "metadata": {
        "id": "v-8t9rQCLL0P",
        "colab_type": "text"
      },
      "source": [
        "_Build a sequential model to will be trained on the data. You have unlimited options here, but here is what the solution uses: a model that goes 78 --> 39 --> 19--> 1 output neuron. OPTIONAL: Explore adding [Dropout layers](https://keras.io/layers/core/) [1](https://en.wikipedia.org/wiki/Dropout_(neural_networks)) [2](https://towardsdatascience.com/machine-learning-part-20-dropout-keras-layers-explained-8c9f6dc4c9ab)_"
      ]
    },
    {
      "cell_type": "code",
      "metadata": {
        "id": "3OR7NsnzLL0P",
        "colab_type": "code",
        "colab": {}
      },
      "source": [
        "model_full = Sequential()\n",
        "\n",
        "# input layer\n",
        "model_full.add(Dense(78, activation='relu')) # we choosen 78 neurons = numb. feautures \n",
        "model_full.add(Dropout(0.35))\n",
        "\n",
        "# hidden layer\n",
        "model_full.add(Dense(39, activation='relu')) # 39 nearly is half of 78\n",
        "model_full.add(Dropout(0.36))\n",
        "\n",
        "# hidden layer\n",
        "model_full.add(Dense(19, activation='relu')) # 19 nearly is half 39\n",
        "model_full.add(Dropout(0.25))\n",
        "\n",
        "# output layer\n",
        "model_full.add(Dense(1, activation='sigmoid'))\n",
        "\n",
        "# compile model\n",
        "model_full.compile(optimizer='adam',\n",
        "              loss='binary_crossentropy')\n",
        "\n",
        "# https://stats.stackexchange.com/questions/181/how-to-choose-the-number-of-hidden-layers-and-nodes-in-a-feedforward-neural-netw"
      ],
      "execution_count": 0,
      "outputs": []
    },
    {
      "cell_type": "code",
      "metadata": {
        "id": "2L9lLajB_FQF",
        "colab_type": "code",
        "colab": {}
      },
      "source": [
        "from tensorflow.keras.callbacks import EarlyStopping"
      ],
      "execution_count": 0,
      "outputs": []
    },
    {
      "cell_type": "code",
      "metadata": {
        "id": "6bt4Ik46_Gy6",
        "colab_type": "code",
        "colab": {}
      },
      "source": [
        "early_stop = EarlyStopping(monitor='val_loss', mode='min', verbose=1, patience=25)"
      ],
      "execution_count": 0,
      "outputs": []
    },
    {
      "cell_type": "markdown",
      "metadata": {
        "id": "r65xvIsOLL0S",
        "colab_type": "text"
      },
      "source": [
        "_Fit the model to the training data for at least 25 epochs. Also add in the validation data for later plotting. Optional: add in a batch_size of 256._"
      ]
    },
    {
      "cell_type": "code",
      "metadata": {
        "id": "XiyLqd8WLL0S",
        "colab_type": "code",
        "outputId": "a1f57327-af08-45d0-9a13-bb36da75ebaa",
        "colab": {
          "base_uri": "https://localhost:8080/",
          "height": 1000
        }
      },
      "source": [
        "model_full.fit(X_train, \n",
        "          y_train, \n",
        "          batch_size=256, \n",
        "          epochs=100, \n",
        "          verbose=1,\n",
        "          callbacks=[early_stop],\n",
        "          validation_data=(X_test, y_test))"
      ],
      "execution_count": 145,
      "outputs": [
        {
          "output_type": "stream",
          "text": [
            "Epoch 1/100\n",
            "1236/1236 [==============================] - 5s 4ms/step - loss: 0.3064 - val_loss: 0.2657\n",
            "Epoch 2/100\n",
            "1236/1236 [==============================] - 5s 4ms/step - loss: 0.2676 - val_loss: 0.2634\n",
            "Epoch 3/100\n",
            "1236/1236 [==============================] - 5s 4ms/step - loss: 0.2647 - val_loss: 0.2626\n",
            "Epoch 4/100\n",
            "1236/1236 [==============================] - 5s 4ms/step - loss: 0.2630 - val_loss: 0.2625\n",
            "Epoch 5/100\n",
            "1236/1236 [==============================] - 5s 4ms/step - loss: 0.2624 - val_loss: 0.2624\n",
            "Epoch 6/100\n",
            "1236/1236 [==============================] - 5s 4ms/step - loss: 0.2617 - val_loss: 0.2621\n",
            "Epoch 7/100\n",
            "1236/1236 [==============================] - 5s 4ms/step - loss: 0.2613 - val_loss: 0.2620\n",
            "Epoch 8/100\n",
            "1236/1236 [==============================] - 5s 4ms/step - loss: 0.2608 - val_loss: 0.2618\n",
            "Epoch 9/100\n",
            "1236/1236 [==============================] - 5s 4ms/step - loss: 0.2607 - val_loss: 0.2619\n",
            "Epoch 10/100\n",
            "1236/1236 [==============================] - 5s 4ms/step - loss: 0.2604 - val_loss: 0.2621\n",
            "Epoch 11/100\n",
            "1236/1236 [==============================] - 5s 4ms/step - loss: 0.2601 - val_loss: 0.2615\n",
            "Epoch 12/100\n",
            "1236/1236 [==============================] - 5s 4ms/step - loss: 0.2599 - val_loss: 0.2621\n",
            "Epoch 13/100\n",
            "1236/1236 [==============================] - 5s 4ms/step - loss: 0.2597 - val_loss: 0.2614\n",
            "Epoch 14/100\n",
            "1236/1236 [==============================] - 5s 4ms/step - loss: 0.2597 - val_loss: 0.2620\n",
            "Epoch 15/100\n",
            "1236/1236 [==============================] - 5s 4ms/step - loss: 0.2595 - val_loss: 0.2616\n",
            "Epoch 16/100\n",
            "1236/1236 [==============================] - 5s 4ms/step - loss: 0.2593 - val_loss: 0.2619\n",
            "Epoch 17/100\n",
            "1236/1236 [==============================] - 5s 4ms/step - loss: 0.2594 - val_loss: 0.2619\n",
            "Epoch 18/100\n",
            "1236/1236 [==============================] - 5s 4ms/step - loss: 0.2590 - val_loss: 0.2624\n",
            "Epoch 19/100\n",
            "1236/1236 [==============================] - 5s 4ms/step - loss: 0.2590 - val_loss: 0.2618\n",
            "Epoch 20/100\n",
            "1236/1236 [==============================] - 5s 4ms/step - loss: 0.2588 - val_loss: 0.2618\n",
            "Epoch 21/100\n",
            "1236/1236 [==============================] - 5s 4ms/step - loss: 0.2591 - val_loss: 0.2629\n",
            "Epoch 22/100\n",
            "1236/1236 [==============================] - 5s 4ms/step - loss: 0.2588 - val_loss: 0.2623\n",
            "Epoch 23/100\n",
            "1236/1236 [==============================] - 5s 4ms/step - loss: 0.2586 - val_loss: 0.2621\n",
            "Epoch 24/100\n",
            "1236/1236 [==============================] - 5s 4ms/step - loss: 0.2585 - val_loss: 0.2619\n",
            "Epoch 25/100\n",
            "1236/1236 [==============================] - 5s 4ms/step - loss: 0.2580 - val_loss: 0.2617\n",
            "Epoch 26/100\n",
            "1236/1236 [==============================] - 5s 4ms/step - loss: 0.2583 - val_loss: 0.2619\n",
            "Epoch 27/100\n",
            "1236/1236 [==============================] - 5s 4ms/step - loss: 0.2579 - val_loss: 0.2626\n",
            "Epoch 28/100\n",
            "1236/1236 [==============================] - 5s 4ms/step - loss: 0.2582 - val_loss: 0.2624\n",
            "Epoch 29/100\n",
            "1236/1236 [==============================] - 5s 4ms/step - loss: 0.2578 - val_loss: 0.2616\n",
            "Epoch 30/100\n",
            "1236/1236 [==============================] - 5s 4ms/step - loss: 0.2577 - val_loss: 0.2615\n",
            "Epoch 31/100\n",
            "1236/1236 [==============================] - 5s 4ms/step - loss: 0.2577 - val_loss: 0.2620\n",
            "Epoch 32/100\n",
            "1236/1236 [==============================] - 5s 4ms/step - loss: 0.2574 - val_loss: 0.2613\n",
            "Epoch 33/100\n",
            "1236/1236 [==============================] - 5s 4ms/step - loss: 0.2576 - val_loss: 0.2614\n",
            "Epoch 34/100\n",
            "1236/1236 [==============================] - 5s 4ms/step - loss: 0.2574 - val_loss: 0.2614\n",
            "Epoch 35/100\n",
            "1236/1236 [==============================] - 5s 4ms/step - loss: 0.2574 - val_loss: 0.2625\n",
            "Epoch 36/100\n",
            "1236/1236 [==============================] - 5s 4ms/step - loss: 0.2573 - val_loss: 0.2622\n",
            "Epoch 37/100\n",
            "1236/1236 [==============================] - 5s 4ms/step - loss: 0.2572 - val_loss: 0.2615\n",
            "Epoch 38/100\n",
            "1236/1236 [==============================] - 5s 4ms/step - loss: 0.2569 - val_loss: 0.2617\n",
            "Epoch 39/100\n",
            "1236/1236 [==============================] - 5s 4ms/step - loss: 0.2570 - val_loss: 0.2620\n",
            "Epoch 40/100\n",
            "1236/1236 [==============================] - 5s 4ms/step - loss: 0.2569 - val_loss: 0.2615\n",
            "Epoch 41/100\n",
            "1236/1236 [==============================] - 5s 4ms/step - loss: 0.2568 - val_loss: 0.2612\n",
            "Epoch 42/100\n",
            "1236/1236 [==============================] - 5s 4ms/step - loss: 0.2568 - val_loss: 0.2625\n",
            "Epoch 43/100\n",
            "1236/1236 [==============================] - 5s 4ms/step - loss: 0.2566 - val_loss: 0.2614\n",
            "Epoch 44/100\n",
            "1236/1236 [==============================] - 5s 4ms/step - loss: 0.2565 - val_loss: 0.2616\n",
            "Epoch 45/100\n",
            "1236/1236 [==============================] - 5s 4ms/step - loss: 0.2566 - val_loss: 0.2617\n",
            "Epoch 46/100\n",
            "1236/1236 [==============================] - 5s 4ms/step - loss: 0.2565 - val_loss: 0.2618\n",
            "Epoch 47/100\n",
            "1236/1236 [==============================] - 5s 4ms/step - loss: 0.2563 - val_loss: 0.2611\n",
            "Epoch 48/100\n",
            "1236/1236 [==============================] - 5s 4ms/step - loss: 0.2565 - val_loss: 0.2619\n",
            "Epoch 49/100\n",
            "1236/1236 [==============================] - 5s 4ms/step - loss: 0.2563 - val_loss: 0.2614\n",
            "Epoch 50/100\n",
            "1236/1236 [==============================] - 5s 4ms/step - loss: 0.2559 - val_loss: 0.2616\n",
            "Epoch 51/100\n",
            "1236/1236 [==============================] - 5s 4ms/step - loss: 0.2560 - val_loss: 0.2613\n",
            "Epoch 52/100\n",
            "1236/1236 [==============================] - 5s 4ms/step - loss: 0.2558 - val_loss: 0.2618\n",
            "Epoch 53/100\n",
            "1236/1236 [==============================] - 5s 4ms/step - loss: 0.2560 - val_loss: 0.2609\n",
            "Epoch 54/100\n",
            "1236/1236 [==============================] - 5s 4ms/step - loss: 0.2558 - val_loss: 0.2615\n",
            "Epoch 55/100\n",
            "1236/1236 [==============================] - 5s 4ms/step - loss: 0.2559 - val_loss: 0.2621\n",
            "Epoch 56/100\n",
            "1236/1236 [==============================] - 5s 4ms/step - loss: 0.2557 - val_loss: 0.2619\n",
            "Epoch 57/100\n",
            "1236/1236 [==============================] - 5s 4ms/step - loss: 0.2557 - val_loss: 0.2619\n",
            "Epoch 58/100\n",
            "1236/1236 [==============================] - 5s 4ms/step - loss: 0.2556 - val_loss: 0.2617\n",
            "Epoch 59/100\n",
            "1236/1236 [==============================] - 5s 4ms/step - loss: 0.2555 - val_loss: 0.2617\n",
            "Epoch 60/100\n",
            "1236/1236 [==============================] - 5s 4ms/step - loss: 0.2556 - val_loss: 0.2615\n",
            "Epoch 61/100\n",
            "1236/1236 [==============================] - 5s 4ms/step - loss: 0.2556 - val_loss: 0.2618\n",
            "Epoch 62/100\n",
            "1236/1236 [==============================] - 5s 4ms/step - loss: 0.2556 - val_loss: 0.2622\n",
            "Epoch 63/100\n",
            "1236/1236 [==============================] - 5s 4ms/step - loss: 0.2555 - val_loss: 0.2621\n",
            "Epoch 64/100\n",
            "1236/1236 [==============================] - 5s 4ms/step - loss: 0.2551 - val_loss: 0.2613\n",
            "Epoch 65/100\n",
            "1236/1236 [==============================] - 5s 4ms/step - loss: 0.2556 - val_loss: 0.2612\n",
            "Epoch 66/100\n",
            "1236/1236 [==============================] - 5s 4ms/step - loss: 0.2552 - val_loss: 0.2616\n",
            "Epoch 67/100\n",
            "1236/1236 [==============================] - 5s 4ms/step - loss: 0.2552 - val_loss: 0.2615\n",
            "Epoch 68/100\n",
            "1236/1236 [==============================] - 5s 4ms/step - loss: 0.2553 - val_loss: 0.2608\n",
            "Epoch 69/100\n",
            "1236/1236 [==============================] - 5s 4ms/step - loss: 0.2551 - val_loss: 0.2621\n",
            "Epoch 70/100\n",
            "1236/1236 [==============================] - 5s 4ms/step - loss: 0.2552 - val_loss: 0.2611\n",
            "Epoch 71/100\n",
            "1236/1236 [==============================] - 5s 4ms/step - loss: 0.2548 - val_loss: 0.2613\n",
            "Epoch 72/100\n",
            "1236/1236 [==============================] - 5s 4ms/step - loss: 0.2553 - val_loss: 0.2616\n",
            "Epoch 73/100\n",
            "1236/1236 [==============================] - 5s 4ms/step - loss: 0.2548 - val_loss: 0.2609\n",
            "Epoch 74/100\n",
            "1236/1236 [==============================] - 5s 4ms/step - loss: 0.2547 - val_loss: 0.2613\n",
            "Epoch 75/100\n",
            "1236/1236 [==============================] - 5s 4ms/step - loss: 0.2548 - val_loss: 0.2614\n",
            "Epoch 76/100\n",
            "1236/1236 [==============================] - 5s 4ms/step - loss: 0.2549 - val_loss: 0.2622\n",
            "Epoch 77/100\n",
            "1236/1236 [==============================] - 5s 4ms/step - loss: 0.2548 - val_loss: 0.2619\n",
            "Epoch 78/100\n",
            "1236/1236 [==============================] - 5s 4ms/step - loss: 0.2546 - val_loss: 0.2617\n",
            "Epoch 79/100\n",
            "1236/1236 [==============================] - 5s 4ms/step - loss: 0.2547 - val_loss: 0.2614\n",
            "Epoch 80/100\n",
            "1236/1236 [==============================] - 5s 4ms/step - loss: 0.2546 - val_loss: 0.2617\n",
            "Epoch 81/100\n",
            "1236/1236 [==============================] - 5s 4ms/step - loss: 0.2546 - val_loss: 0.2612\n",
            "Epoch 82/100\n",
            "1236/1236 [==============================] - 5s 4ms/step - loss: 0.2543 - val_loss: 0.2609\n",
            "Epoch 83/100\n",
            "1236/1236 [==============================] - 5s 4ms/step - loss: 0.2546 - val_loss: 0.2621\n",
            "Epoch 84/100\n",
            "1236/1236 [==============================] - 5s 4ms/step - loss: 0.2544 - val_loss: 0.2611\n",
            "Epoch 85/100\n",
            "1236/1236 [==============================] - 5s 4ms/step - loss: 0.2546 - val_loss: 0.2609\n",
            "Epoch 86/100\n",
            "1236/1236 [==============================] - 5s 4ms/step - loss: 0.2543 - val_loss: 0.2618\n",
            "Epoch 87/100\n",
            "1236/1236 [==============================] - 5s 4ms/step - loss: 0.2543 - val_loss: 0.2620\n",
            "Epoch 88/100\n",
            "1236/1236 [==============================] - 5s 4ms/step - loss: 0.2545 - val_loss: 0.2618\n",
            "Epoch 89/100\n",
            "1236/1236 [==============================] - 5s 4ms/step - loss: 0.2540 - val_loss: 0.2617\n",
            "Epoch 90/100\n",
            "1236/1236 [==============================] - 5s 4ms/step - loss: 0.2545 - val_loss: 0.2616\n",
            "Epoch 91/100\n",
            "1236/1236 [==============================] - 5s 4ms/step - loss: 0.2541 - val_loss: 0.2624\n",
            "Epoch 92/100\n",
            "1236/1236 [==============================] - 5s 4ms/step - loss: 0.2543 - val_loss: 0.2619\n",
            "Epoch 93/100\n",
            "1236/1236 [==============================] - 5s 4ms/step - loss: 0.2540 - val_loss: 0.2617\n",
            "Epoch 00093: early stopping\n"
          ],
          "name": "stdout"
        },
        {
          "output_type": "execute_result",
          "data": {
            "text/plain": [
              "<tensorflow.python.keras.callbacks.History at 0x7fd960796080>"
            ]
          },
          "metadata": {
            "tags": []
          },
          "execution_count": 145
        }
      ]
    },
    {
      "cell_type": "markdown",
      "metadata": {
        "id": "enZskXSfLL0Y",
        "colab_type": "text"
      },
      "source": [
        "# Section 3: Evaluating Model \n",
        "Performance.\n",
        "\n",
        "_Plot out the validation loss versus the training loss._"
      ]
    },
    {
      "cell_type": "code",
      "metadata": {
        "id": "tU1ZhCXWLL0Y",
        "colab_type": "code",
        "colab": {}
      },
      "source": [
        "losses = pd.DataFrame(model_full.history.history)"
      ],
      "execution_count": 0,
      "outputs": []
    },
    {
      "cell_type": "code",
      "metadata": {
        "id": "t6DR45MsLL0Z",
        "colab_type": "code",
        "outputId": "7980b87d-49a5-4259-e475-c833ab06b881",
        "colab": {
          "base_uri": "https://localhost:8080/",
          "height": 204
        }
      },
      "source": [
        "losses.head()"
      ],
      "execution_count": 148,
      "outputs": [
        {
          "output_type": "execute_result",
          "data": {
            "text/html": [
              "<div>\n",
              "<style scoped>\n",
              "    .dataframe tbody tr th:only-of-type {\n",
              "        vertical-align: middle;\n",
              "    }\n",
              "\n",
              "    .dataframe tbody tr th {\n",
              "        vertical-align: top;\n",
              "    }\n",
              "\n",
              "    .dataframe thead th {\n",
              "        text-align: right;\n",
              "    }\n",
              "</style>\n",
              "<table border=\"1\" class=\"dataframe\">\n",
              "  <thead>\n",
              "    <tr style=\"text-align: right;\">\n",
              "      <th></th>\n",
              "      <th>loss</th>\n",
              "      <th>val_loss</th>\n",
              "    </tr>\n",
              "  </thead>\n",
              "  <tbody>\n",
              "    <tr>\n",
              "      <th>0</th>\n",
              "      <td>0.306414</td>\n",
              "      <td>0.265740</td>\n",
              "    </tr>\n",
              "    <tr>\n",
              "      <th>1</th>\n",
              "      <td>0.267558</td>\n",
              "      <td>0.263399</td>\n",
              "    </tr>\n",
              "    <tr>\n",
              "      <th>2</th>\n",
              "      <td>0.264653</td>\n",
              "      <td>0.262639</td>\n",
              "    </tr>\n",
              "    <tr>\n",
              "      <th>3</th>\n",
              "      <td>0.263044</td>\n",
              "      <td>0.262486</td>\n",
              "    </tr>\n",
              "    <tr>\n",
              "      <th>4</th>\n",
              "      <td>0.262355</td>\n",
              "      <td>0.262369</td>\n",
              "    </tr>\n",
              "  </tbody>\n",
              "</table>\n",
              "</div>"
            ],
            "text/plain": [
              "       loss  val_loss\n",
              "0  0.306414  0.265740\n",
              "1  0.267558  0.263399\n",
              "2  0.264653  0.262639\n",
              "3  0.263044  0.262486\n",
              "4  0.262355  0.262369"
            ]
          },
          "metadata": {
            "tags": []
          },
          "execution_count": 148
        }
      ]
    },
    {
      "cell_type": "code",
      "metadata": {
        "id": "-ABNO2cWLL0a",
        "colab_type": "code",
        "outputId": "40c228e2-c71f-4cd7-c42f-6a53c090df17",
        "colab": {
          "base_uri": "https://localhost:8080/",
          "height": 516
        }
      },
      "source": [
        "# plt.figure(figsize=(10,8))\n",
        "losses[['loss','val_loss']].plot(figsize=(10,8))\n",
        "plt.title('Evaluating Model Performance')"
      ],
      "execution_count": 149,
      "outputs": [
        {
          "output_type": "execute_result",
          "data": {
            "text/plain": [
              "Text(0.5, 1.0, 'Evaluating Model Performance')"
            ]
          },
          "metadata": {
            "tags": []
          },
          "execution_count": 149
        },
        {
          "output_type": "display_data",
          "data": {
            "image/png": "[encoded data removed]",
            "text/plain": [
              "<Figure size 720x576 with 1 Axes>"
            ]
          },
          "metadata": {
            "tags": []
          }
        }
      ]
    },
    {
      "cell_type": "markdown",
      "metadata": {
        "id": "Rd1tCnfHLL0b",
        "colab_type": "text"
      },
      "source": [
        "_Create predictions from the X_test set and display a classification report and confusion matrix for the X_test set_"
      ]
    },
    {
      "cell_type": "code",
      "metadata": {
        "id": "Rm3MU4MtLL0c",
        "colab_type": "code",
        "colab": {}
      },
      "source": [
        "# pred = model.predict_classes(X_test) .. soon deprecated\n",
        "pred = (model_full.predict(X_test) > 0.5).astype(\"int32\")"
      ],
      "execution_count": 0,
      "outputs": []
    },
    {
      "cell_type": "code",
      "metadata": {
        "id": "PQ-IXP9ULL0d",
        "colab_type": "code",
        "colab": {}
      },
      "source": [
        "from sklearn.metrics import classification_report, confusion_matrix"
      ],
      "execution_count": 0,
      "outputs": []
    },
    {
      "cell_type": "code",
      "metadata": {
        "id": "WDLN2lR4LL0d",
        "colab_type": "code",
        "outputId": "35901ec8-ff17-4927-a8c6-3e50bea19c07",
        "colab": {
          "base_uri": "https://localhost:8080/",
          "height": 238
        }
      },
      "source": [
        "print(classification_report(y_test, pred))\n",
        "print('\\n')\n",
        "print(confusion_matrix(y_test, pred))"
      ],
      "execution_count": 152,
      "outputs": [
        {
          "output_type": "stream",
          "text": [
            "              precision    recall  f1-score   support\n",
            "\n",
            "           0       1.00      0.43      0.60     15658\n",
            "           1       0.88      1.00      0.93     63386\n",
            "\n",
            "    accuracy                           0.89     79044\n",
            "   macro avg       0.94      0.72      0.77     79044\n",
            "weighted avg       0.90      0.89      0.87     79044\n",
            "\n",
            "\n",
            "\n",
            "[[ 6750  8908]\n",
            " [   19 63367]]\n"
          ],
          "name": "stdout"
        }
      ]
    },
    {
      "cell_type": "markdown",
      "metadata": {
        "id": "1puy14KtLL0h",
        "colab_type": "text"
      },
      "source": [
        "_Given the customer below, would you offer this person a loan_"
      ]
    },
    {
      "cell_type": "code",
      "metadata": {
        "id": "hQeb4kSFe4DZ",
        "colab_type": "code",
        "outputId": "b54a9e78-22cc-446b-a35b-fbae02c7d0f5",
        "colab": {
          "base_uri": "https://localhost:8080/",
          "height": 68
        }
      },
      "source": [
        "df['loan_repaid'].value_counts()"
      ],
      "execution_count": 153,
      "outputs": [
        {
          "output_type": "execute_result",
          "data": {
            "text/plain": [
              "1    317696\n",
              "0     77523\n",
              "Name: loan_repaid, dtype: int64"
            ]
          },
          "metadata": {
            "tags": []
          },
          "execution_count": 153
        }
      ]
    },
    {
      "cell_type": "markdown",
      "metadata": {
        "id": "MyH6siS4fCT3",
        "colab_type": "text"
      },
      "source": [
        "_The dataset is unbalanced. Because of this we should focus on f1-score for the Defaulters(loan_repaid=0)_"
      ]
    },
    {
      "cell_type": "code",
      "metadata": {
        "id": "fLDZDvTze3qD",
        "colab_type": "code",
        "outputId": "615990c9-84c6-4707-db4e-9fab384b4b2a",
        "colab": {
          "base_uri": "https://localhost:8080/",
          "height": 34
        }
      },
      "source": [
        "317696/len(df)"
      ],
      "execution_count": 154,
      "outputs": [
        {
          "output_type": "execute_result",
          "data": {
            "text/plain": [
              "0.8038479931379817"
            ]
          },
          "metadata": {
            "tags": []
          },
          "execution_count": 154
        }
      ]
    },
    {
      "cell_type": "markdown",
      "metadata": {
        "id": "1hPfCXY0fSli",
        "colab_type": "text"
      },
      "source": [
        "_Given the unbalance dataset we can guess that there is 80% chance to pick a customer that would pay the full loan and 20% of defaulters. In this case the model would help increasing the accuracy by 89% probaibility to guess right.rather that randomly guessing (50%/50%)_"
      ]
    },
    {
      "cell_type": "code",
      "metadata": {
        "id": "k0HyxPhendCR",
        "colab_type": "code",
        "outputId": "9d8079ff-794d-49a0-91de-a51cce10768a",
        "colab": {
          "base_uri": "https://localhost:8080/",
          "height": 34
        }
      },
      "source": [
        "len(df)"
      ],
      "execution_count": 155,
      "outputs": [
        {
          "output_type": "execute_result",
          "data": {
            "text/plain": [
              "395219"
            ]
          },
          "metadata": {
            "tags": []
          },
          "execution_count": 155
        }
      ]
    },
    {
      "cell_type": "code",
      "metadata": {
        "id": "e7FONIydLL0h",
        "colab_type": "code",
        "outputId": "16b52748-297b-4534-a0c3-083949552605",
        "colab": {
          "base_uri": "https://localhost:8080/",
          "height": 221
        }
      },
      "source": [
        "import random\n",
        "random.seed(101)\n",
        "random_ind = random.randint(0,len(df))\n",
        "\n",
        "new_customer = df.drop('loan_repaid',axis=1).iloc[random_ind]\n",
        "new_customer"
      ],
      "execution_count": 156,
      "outputs": [
        {
          "output_type": "execute_result",
          "data": {
            "text/plain": [
              "loan_amnt           25000.00\n",
              "term                   60.00\n",
              "int_rate               18.24\n",
              "installment           638.11\n",
              "annual_inc          61665.00\n",
              "                      ...   \n",
              "48052                   0.00\n",
              "70466                   0.00\n",
              "86630                   0.00\n",
              "93700                   0.00\n",
              "earliest_cr_year     1996.00\n",
              "Name: 305323, Length: 78, dtype: float64"
            ]
          },
          "metadata": {
            "tags": []
          },
          "execution_count": 156
        }
      ]
    },
    {
      "cell_type": "code",
      "metadata": {
        "id": "DdFAvjHtoDi6",
        "colab_type": "code",
        "colab": {}
      },
      "source": [
        "new_customer = new_customer.values.reshape(1,78)"
      ],
      "execution_count": 0,
      "outputs": []
    },
    {
      "cell_type": "code",
      "metadata": {
        "id": "bJmbg0OrLL0i",
        "colab_type": "code",
        "colab": {}
      },
      "source": [
        "new_customer = scaler.transform(new_customer)"
      ],
      "execution_count": 0,
      "outputs": []
    },
    {
      "cell_type": "code",
      "metadata": {
        "id": "QDV8XvWEgqt4",
        "colab_type": "code",
        "outputId": "f5bc4218-2fce-4738-9037-b1f23c0c725c",
        "colab": {
          "base_uri": "https://localhost:8080/",
          "height": 34
        }
      },
      "source": [
        "(model_full.predict(new_customer) > 0.5).astype(\"int32\")"
      ],
      "execution_count": 160,
      "outputs": [
        {
          "output_type": "execute_result",
          "data": {
            "text/plain": [
              "array([[1]], dtype=int32)"
            ]
          },
          "metadata": {
            "tags": []
          },
          "execution_count": 160
        }
      ]
    },
    {
      "cell_type": "markdown",
      "metadata": {
        "id": "89keNxVooltI",
        "colab_type": "text"
      },
      "source": [
        "_we conlcude that this customer could repaid the loan_"
      ]
    },
    {
      "cell_type": "markdown",
      "metadata": {
        "id": "xk7UezBFLL0k",
        "colab_type": "text"
      },
      "source": [
        "_Now check, did this person actually end up paying back their loan?_"
      ]
    },
    {
      "cell_type": "code",
      "metadata": {
        "id": "5xWi7D8ILL0k",
        "colab_type": "code",
        "outputId": "9fd911d3-6189-41c7-d175-4d091256fbee",
        "colab": {
          "base_uri": "https://localhost:8080/",
          "height": 34
        }
      },
      "source": [
        "df['loan_repaid'].iloc[random_ind]"
      ],
      "execution_count": 161,
      "outputs": [
        {
          "output_type": "execute_result",
          "data": {
            "text/plain": [
              "1"
            ]
          },
          "metadata": {
            "tags": []
          },
          "execution_count": 161
        }
      ]
    },
    {
      "cell_type": "markdown",
      "metadata": {
        "id": "Y7sVujH1pEjO",
        "colab_type": "text"
      },
      "source": [
        "_Yes!! The random customer repaid the loan_"
      ]
    },
    {
      "cell_type": "markdown",
      "metadata": {
        "id": "ZtZFf1TKLL0U",
        "colab_type": "text"
      },
      "source": [
        "_Save your model._"
      ]
    },
    {
      "cell_type": "code",
      "metadata": {
        "id": "7u24Mn_zp7N1",
        "colab_type": "code",
        "colab": {}
      },
      "source": [
        "from tensorflow.keras.models import load_model"
      ],
      "execution_count": 0,
      "outputs": []
    },
    {
      "cell_type": "code",
      "metadata": {
        "id": "x8WSVI9up6pn",
        "colab_type": "code",
        "colab": {}
      },
      "source": [
        "model_full.save('/content/drive/My Drive/Colab Notebooks/DeepLearning_TensorFlow/TensorFlow_FILES/ANNs/lendingClub_fulldata_model.h5')"
      ],
      "execution_count": 0,
      "outputs": []
    }
  ]
}